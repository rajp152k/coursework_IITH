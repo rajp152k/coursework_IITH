{
 "cells": [
  {
   "cell_type": "markdown",
   "metadata": {},
   "source": [
    "# CS5590: Foundations of Machine Learning\n",
    "## Assignment 1\n",
    "## Question 4\n",
    "## Authors \n",
    "|Name|Roll number|\n",
    "|:--|--:|\n",
    "|Raj Patil|CS18BTECH11039|\n",
    "|Karan Bhukar|CS18BTECH11021|"
   ]
  },
  {
   "cell_type": "code",
   "execution_count": 1,
   "metadata": {},
   "outputs": [],
   "source": [
    "import numpy as np\n",
    "import matplotlib.pyplot as plt\n",
    "import pandas as pd\n",
    "import random"
   ]
  },
  {
   "cell_type": "code",
   "execution_count": 2,
   "metadata": {},
   "outputs": [
    {
     "name": "stdout",
     "output_type": "stream",
     "text": [
      "<class 'pandas.core.frame.DataFrame'>\n",
      "RangeIndex: 17379 entries, 0 to 17378\n",
      "Data columns (total 17 columns):\n",
      " #   Column      Non-Null Count  Dtype  \n",
      "---  ------      --------------  -----  \n",
      " 0   instant     17379 non-null  int64  \n",
      " 1   dteday      17379 non-null  object \n",
      " 2   season      17379 non-null  int64  \n",
      " 3   yr          17379 non-null  int64  \n",
      " 4   mnth        17379 non-null  int64  \n",
      " 5   hr          17379 non-null  int64  \n",
      " 6   holiday     17379 non-null  int64  \n",
      " 7   weekday     17379 non-null  int64  \n",
      " 8   workingday  17379 non-null  int64  \n",
      " 9   weathersit  17379 non-null  int64  \n",
      " 10  temp        17379 non-null  float64\n",
      " 11  atemp       17379 non-null  float64\n",
      " 12  hum         17379 non-null  float64\n",
      " 13  windspeed   17379 non-null  float64\n",
      " 14  casual      17379 non-null  int64  \n",
      " 15  registered  17379 non-null  int64  \n",
      " 16  cnt         17379 non-null  int64  \n",
      "dtypes: float64(4), int64(12), object(1)\n",
      "memory usage: 2.3+ MB\n"
     ]
    }
   ],
   "source": [
    "d = pd.read_csv('hour.csv');d.info()\n",
    "# no null vals"
   ]
  },
  {
   "cell_type": "code",
   "execution_count": 3,
   "metadata": {},
   "outputs": [
    {
     "data": {
      "text/plain": [
       "instant                1\n",
       "dteday        2011-01-01\n",
       "season                 1\n",
       "yr                     0\n",
       "mnth                   1\n",
       "hr                     0\n",
       "holiday                0\n",
       "weekday                6\n",
       "workingday             0\n",
       "weathersit             1\n",
       "temp                0.24\n",
       "atemp             0.2879\n",
       "hum                 0.81\n",
       "windspeed              0\n",
       "casual                 3\n",
       "registered            13\n",
       "cnt                   16\n",
       "Name: 0, dtype: object"
      ]
     },
     "execution_count": 3,
     "metadata": {},
     "output_type": "execute_result"
    }
   ],
   "source": [
    "d.iloc[0]"
   ]
  },
  {
   "cell_type": "markdown",
   "metadata": {},
   "source": [
    "### subquestion 2 and 3\n"
   ]
  },
  {
   "cell_type": "code",
   "execution_count": 46,
   "metadata": {},
   "outputs": [],
   "source": [
    "def plot(feature,d):\n",
    "  if feature == 'season':\n",
    "    X=[\"1st\",\"2nd\",\"3rd\",\"4th\"]\n",
    "    Y=[0,0,0,0]\n",
    "    for i in range(d.iloc[:,2].shape[0]):\n",
    "       Y[d.iloc[i,2]-1] += 1\n",
    "    mean = [i/d.iloc[:,2].shape[0] for i in Y]\n",
    "    for i,me in enumerate(mean):\n",
    "      print(\"mean of count for season {} is = {}\".format(i+1,me)) \n",
    "    plt.xlabel(\"Seasons\") \n",
    "    plt.ylabel(\"Count of Rented Bikes\") \n",
    "    plt.bar(X,Y)\n",
    "\n",
    "  elif feature == 'yr':\n",
    "    X=[\"1st\",\"2nd\"]\n",
    "    Y=[0,0]\n",
    "    for i in range(d.iloc[:,3].shape[0]):\n",
    "       Y[d.iloc[i,3]] += 1\n",
    "    mean = [i/d.iloc[:,3].shape[0] for i in Y]\n",
    "    for i,me in enumerate(mean):\n",
    "      print(\"mean of count for year {} is = {}\".format(i,me))\n",
    "    plt.xlabel(\"year\") \n",
    "    plt.ylabel(\"Count of Rented Bikes\") \n",
    "    plt.bar(X,Y)\n",
    "\n",
    "  elif feature == 'month':\n",
    "    X=[1,2,3,4,5,6,7,8,9,10,11,12]\n",
    "    Y=[0,0,0,0,0,0,0,0,0,0,0,0]\n",
    "    month = ['January', 'February', 'March', 'April', 'May', 'June', 'July', 'August', 'September', 'October', 'November', 'December']\n",
    "    for i in range(d.iloc[:,4].shape[0]):\n",
    "       Y[d.iloc[i,4]-1] += 1\n",
    "    mean = [i/d.iloc[:,4].shape[0] for i in Y]\n",
    "    for i,me in enumerate(mean):\n",
    "      print(\"mean of count for month {} is = {}\".format(i+1,me))\n",
    "    plt.xlabel(\"Month of the year\") \n",
    "    plt.ylabel(\"Count of Rented Bikes\") \n",
    "    plt.xticks(X, month, rotation ='vertical')\n",
    "    plt.bar(X,Y)\n",
    "  \n",
    "  elif feature == 'holiday':\n",
    "    X=[\"No\",\"Yes\"]\n",
    "    Y=[0,0]\n",
    "    for i in range(d.iloc[:,6].shape[0]):\n",
    "       Y[d.iloc[i,6]] += 1\n",
    "    mean = [i/d.iloc[:,6].shape[0] for i in Y]\n",
    "    for i,me in enumerate(mean):\n",
    "      print(\"mean of count for holiday {} is = {}\".format(i,me))\n",
    "    plt.xlabel(\"Holiday\") \n",
    "    plt.ylabel(\"Count of Rented Bikes\") \n",
    "    plt.bar(X,Y)\n",
    "  \n",
    "  elif feature == 'weekday':\n",
    "    X=[\"Monday\",\"Tuesday\",\"Wednesday\",\"Thursday\",\"Friday\",\"Saturday\"]\n",
    "    Y=[0,0,0,0,0,0]\n",
    "    for i in range(d.iloc[:,7].shape[0]):\n",
    "       Y[d.iloc[i,7]-1] += 1\n",
    "    mean = [i/d.iloc[:,7].shape[0] for i in Y]\n",
    "    for i,me in enumerate(mean):\n",
    "      print(\"mean of count for weekday {} is = {}\".format(i+1,me))\n",
    "    plt.xlabel(\"Day of the week\",labelpad=20) \n",
    "    plt.ylabel(\"Count of Rented Bikes\") \n",
    "    plt.bar(X,Y)\n",
    "  \n",
    "  plt.show()"
   ]
  },
  {
   "cell_type": "code",
   "execution_count": 47,
   "metadata": {},
   "outputs": [
    {
     "name": "stdout",
     "output_type": "stream",
     "text": [
      "mean of count for season 1 is = 0.2440876920421198\n",
      "mean of count for season 2 is = 0.25369699062086426\n",
      "mean of count for season 3 is = 0.25870303239541975\n",
      "mean of count for season 4 is = 0.24351228494159619\n"
     ]
    },
    {
     "data": {
      "image/png": "[encoded data removed]",
      "text/plain": [
       "<Figure size 432x288 with 1 Axes>"
      ]
     },
     "metadata": {
      "needs_background": "light"
     },
     "output_type": "display_data"
    }
   ],
   "source": [
    "plot(\"season\",d)"
   ]
  },
  {
   "cell_type": "code",
   "execution_count": 48,
   "metadata": {},
   "outputs": [
    {
     "name": "stdout",
     "output_type": "stream",
     "text": [
      "mean of count for year 0 is = 0.4974394384026699\n",
      "mean of count for year 1 is = 0.5025605615973301\n"
     ]
    },
    {
     "data": {
      "image/png": "[encoded data removed]",
      "text/plain": [
       "<Figure size 432x288 with 1 Axes>"
      ]
     },
     "metadata": {
      "needs_background": "light"
     },
     "output_type": "display_data"
    }
   ],
   "source": [
    "plot(\"yr\",d)"
   ]
  },
  {
   "cell_type": "code",
   "execution_count": 49,
   "metadata": {},
   "outputs": [
    {
     "name": "stdout",
     "output_type": "stream",
     "text": [
      "mean of count for month 1 is = 0.08222567466482536\n",
      "mean of count for month 2 is = 0.07716209218021751\n",
      "mean of count for month 3 is = 0.08475746590712929\n",
      "mean of count for month 4 is = 0.08268600034524426\n",
      "mean of count for month 5 is = 0.08562057655791472\n",
      "mean of count for month 6 is = 0.08285862247540135\n",
      "mean of count for month 7 is = 0.08562057655791472\n",
      "mean of count for month 8 is = 0.08487254732723402\n",
      "mean of count for month 9 is = 0.08268600034524426\n",
      "mean of count for month 10 is = 0.08349157028597733\n",
      "mean of count for month 11 is = 0.08268600034524426\n",
      "mean of count for month 12 is = 0.08533287300765291\n"
     ]
    },
    {
     "data": {
      "image/png": "[encoded data removed]",
      "text/plain": [
       "<Figure size 432x288 with 1 Axes>"
      ]
     },
     "metadata": {
      "needs_background": "light"
     },
     "output_type": "display_data"
    }
   ],
   "source": [
    "plot(\"month\",d)"
   ]
  },
  {
   "cell_type": "code",
   "execution_count": 50,
   "metadata": {},
   "outputs": [
    {
     "name": "stdout",
     "output_type": "stream",
     "text": [
      "mean of count for holiday 0 is = 0.971229644973819\n",
      "mean of count for holiday 1 is = 0.028770355026181024\n"
     ]
    },
    {
     "data": {
      "image/png": "[encoded data removed]",
      "text/plain": [
       "<Figure size 432x288 with 1 Axes>"
      ]
     },
     "metadata": {
      "needs_background": "light"
     },
     "output_type": "display_data"
    }
   ],
   "source": [
    "plot(\"holiday\",d)"
   ]
  },
  {
   "cell_type": "code",
   "execution_count": 51,
   "metadata": {},
   "outputs": [
    {
     "name": "stdout",
     "output_type": "stream",
     "text": [
      "mean of count for weekday 1 is = 0.1426434202198055\n",
      "mean of count for weekday 2 is = 0.1411473617584441\n",
      "mean of count for weekday 3 is = 0.14241325737959606\n",
      "mean of count for weekday 4 is = 0.14218309453938663\n",
      "mean of count for weekday 5 is = 0.1431037459002244\n",
      "mean of count for weekday 6 is = 0.2885091202025433\n"
     ]
    },
    {
     "data": {
      "image/png": "[encoded data removed]",
      "text/plain": [
       "<Figure size 432x288 with 1 Axes>"
      ]
     },
     "metadata": {
      "needs_background": "light"
     },
     "output_type": "display_data"
    }
   ],
   "source": [
    "plot(\"weekday\",d)"
   ]
  },
  {
   "cell_type": "markdown",
   "metadata": {},
   "source": [
    "## cleaning up data"
   ]
  },
  {
   "cell_type": "code",
   "execution_count": 4,
   "metadata": {
    "lines_to_next_cell": 2
   },
   "outputs": [],
   "source": [
    "data = d.drop(['instant','casual','registered'],axis=1)\n",
    "# casual and registered are not features : they are certain predictors of count\n",
    "# probably meant to be used in the anomaly detection challenge\n",
    "# sticking to zero-indexed data"
   ]
  },
  {
   "cell_type": "markdown",
   "metadata": {},
   "source": [
    "## splitting data:\n",
    "using a phase indicator: train as 0, val as 1 and test as 2"
   ]
  },
  {
   "cell_type": "code",
   "execution_count": 5,
   "metadata": {},
   "outputs": [],
   "source": [
    "data['split'] = 0"
   ]
  },
  {
   "cell_type": "code",
   "execution_count": 6,
   "metadata": {
    "lines_to_next_cell": 2
   },
   "outputs": [],
   "source": [
    "# data.loc[data['dteday'].str[-2:].astype(int) < 20,'split'] = 0  #train split\n",
    "data.loc[data['dteday'].str[-2:].astype(int) >= 20,'split'] = 2 # test split\n",
    "assert len(data) == data[data['split']==0]['split'].count()+data[data['split']==2]['split'].count()"
   ]
  },
  {
   "cell_type": "code",
   "execution_count": 7,
   "metadata": {},
   "outputs": [],
   "source": [
    "# ## validation split\n",
    "# choosing 20 percent of the train data to be validation\n",
    "# starting after the first 100 records as validating right away makes no sense\n",
    "val_candidates = [i for i in range(100,len(data)) if data.iloc[i]['split']==0 ]\n",
    "val_chosen = random.sample(val_candidates,int(0.2*(len(val_candidates) +100)))\n",
    "data.iloc[val_chosen,-1] = 1"
   ]
  },
  {
   "cell_type": "code",
   "execution_count": 8,
   "metadata": {
    "lines_to_next_cell": 2
   },
   "outputs": [],
   "source": [
    "# ## some final processing \n",
    "data = data.drop('dteday',axis=1) # not needed anymore"
   ]
  },
  {
   "cell_type": "code",
   "execution_count": 9,
   "metadata": {},
   "outputs": [],
   "source": [
    "norm  = ['weathersit','season','mnth','hr','weekday']\n",
    "# ones to be normalized\n",
    "# could check a one hot-encoded version of season as well\n",
    "# but they follow an order so going with this for now\n",
    "for n in norm:\n",
    "    data.loc[:,n] = data[n]/max(data[n])"
   ]
  },
  {
   "cell_type": "markdown",
   "metadata": {
    "lines_to_next_cell": 2
   },
   "source": [
    "main routines have been well documented in the model.py module in the same directory\n",
    "proceeding with analysis in the notebook from now on"
   ]
  },
  {
   "cell_type": "markdown",
   "metadata": {},
   "source": [
    "## this is the report with experiments \n",
    "\n",
    "## check model.py for code : it is self-explanatory(well-commented)"
   ]
  },
  {
   "cell_type": "markdown",
   "metadata": {},
   "source": [
    "# Poisson regression"
   ]
  },
  {
   "cell_type": "markdown",
   "metadata": {},
   "source": [
    " - modelling the rate per hour to the be parameter of a poisson model\n",
    " - as the count is always positive, modelling the parameter as a log linear model \n",
    " \n",
    " hence for the parameters $W_{d-vect}$ and features $X_{d-vect}$, the probability density is given as:\n",
    " \n",
    "$$ f(y) = {\\lambda^y \\cdot e^{-\\lambda} \\over y! } $$\n",
    "where \n",
    "$$\\lambda = e^{W^TX}$$"
   ]
  },
  {
   "cell_type": "markdown",
   "metadata": {
    "lines_to_next_cell": 2
   },
   "source": [
    "## some nuances\n",
    "\n",
    " - we will have to use an iterative method for optimization as a closed form solution won't be possible, due to the exponential term in the log-likelihood\n",
    " - using the negative-log likelihood as the loss function\n",
    " - using an lr $\\eta$\n",
    " - for L1 and L2 regression, introducing hyper-parameters $\\alpha$ and $\\beta$ respectively and these will be altered in the validation phase via grid search\n",
    " - only the previous data can be used for prediction hence we will have to update the weight vector intermittently\n",
    " - proceeding with a batch size of 1\n",
    " - will have modes for processing : train,val and test\n",
    " - will differentiate w.r.t $W$ in the train mode\n",
    " - will differentiate w.r.t hyper-parameter in val mode\n",
    " - will only output prediction in test mode\n",
    " - normalizing some features  to the train set and fitting the test to it while prediction, for better performance and also for the last sub-question"
   ]
  },
  {
   "cell_type": "markdown",
   "metadata": {},
   "source": [
    "# subquestion 1"
   ]
  },
  {
   "cell_type": "markdown",
   "metadata": {},
   "source": [
    "# Likelihood and Loss function\n",
    "\n",
    "for an $X,y$ pair:\n",
    "the likelihood will be\n",
    "$$\\mathcal L(W) = {e^{-\\lambda}\\lambda^y \\over y!}$$\n",
    "$$\\therefore ln( \\mathcal L(W) ) = yln(\\lambda) - \\lambda - ln(y!)$$\n",
    "ignoring the constant factorial from here onwards\n",
    "$$ ln( \\mathcal L(W) ) = yW^TX - e^{W^TX}$$\n",
    "employing the loss function to be the negative log likelihood\n",
    "$$\\therefore L(loss) = e^{W^TX} - yW^TX $$\n",
    "also note the derivative:\n",
    "$$\\underset{W}{\\nabla} L= e^{W^TX}X - yX = X(e^{W^TX}-y)$$"
   ]
  },
  {
   "cell_type": "markdown",
   "metadata": {},
   "source": [
    "## L1 regularization\n",
    "\n",
    "for $\\alpha$ as hyper-parameter  \n",
    "we have an additional term of $\\alpha|W|$ with the loss function\n",
    "$$\\underset{W}{\\nabla} L_{L1} = (existing\\ term)\\dots + \\alpha\\nabla\\|W\\| $$\n",
    "$$\\|W\\| = (\\|W\\|^2)^{1\\over2}$$\n",
    "$$\\therefore \\nabla\\|W\\| = {1\\over2}{\\|W\\|^2}^{-1\\over2}\\cdot 2W = {W \\over \\|W\\|}$$\n",
    "overall(for training phase)\n",
    "$$\\therefore \\underset{W}{\\nabla} L_{L1} = X(e^{W^TX}-y) + \\alpha{W \\over \\|W\\|} $$\n"
   ]
  },
  {
   "cell_type": "markdown",
   "metadata": {
    "lines_to_next_cell": 2
   },
   "source": [
    "## L2 regularization\n",
    "\n",
    "for $\\beta$ as hyper-parameter  \n",
    "we have an additional term of $\\beta\\|W\\|^2$ with the loss function\n",
    "$$\\underset{W}{\\nabla} L_{L2} = (existing\\ term)\\dots + \\beta\\nabla\\|W\\|^2 $$\n",
    "overall(for training phase)\n",
    "$$\\therefore \\underset{W}{\\nabla} L_{L2} = X(e^{W^TX}-y) + 2\\beta W $$"
   ]
  },
  {
   "cell_type": "markdown",
   "metadata": {},
   "source": [
    "## Experiments"
   ]
  },
  {
   "cell_type": "code",
   "execution_count": 60,
   "metadata": {},
   "outputs": [],
   "source": [
    "import importlib\n",
    "import model"
   ]
  },
  {
   "cell_type": "code",
   "execution_count": 61,
   "metadata": {},
   "outputs": [
    {
     "data": {
      "text/plain": [
       "<module 'model' from '/mnt/c/leisure and imp docs/BTECH CSE 4 yrs/3rd year/sem5/Foundations of Machine Learning/fml-assignment-1/Question 4/model.py'>"
      ]
     },
     "execution_count": 61,
     "metadata": {},
     "output_type": "execute_result"
    }
   ],
   "source": [
    "importlib.reload(model)\n",
    "# for quick retesting"
   ]
  },
  {
   "cell_type": "code",
   "execution_count": 103,
   "metadata": {
    "lines_to_next_cell": 2
   },
   "outputs": [],
   "source": [
    "base = model.BaseModel(0.0001,13,data,-1,-2);\n",
    "L1 = model.L1Model(0.0001,13,data,-1,-2,0.0001);\n",
    "L2 = model.L2Model(0.0001,13,data,-1,-2,0.0001);"
   ]
  },
  {
   "cell_type": "markdown",
   "metadata": {},
   "source": [
    "Notes:\n",
    " - note that the question demands that we use only the previous data to predict what comes next\n",
    " - for this we predict whenever we encounter a test split index right away\n",
    " - also, we are processing the index one by one ( batch-size=1 )\n",
    " - validating at random times from the train set (except the first 100 train split indices)"
   ]
  },
  {
   "cell_type": "markdown",
   "metadata": {},
   "source": [
    "check model.py : it has been completely documented"
   ]
  },
  {
   "cell_type": "markdown",
   "metadata": {},
   "source": [
    "## full pass on dataset"
   ]
  },
  {
   "cell_type": "markdown",
   "metadata": {},
   "source": [
    "base model"
   ]
  },
  {
   "cell_type": "code",
   "execution_count": 104,
   "metadata": {},
   "outputs": [
    {
     "name": "stderr",
     "output_type": "stream",
     "text": [
      "100%|██████████| 17379/17379 [00:13<00:00, 1327.98it/s]\n"
     ]
    }
   ],
   "source": [
    "base.full_pass()"
   ]
  },
  {
   "cell_type": "markdown",
   "metadata": {},
   "source": [
    "L1 model"
   ]
  },
  {
   "cell_type": "code",
   "execution_count": 105,
   "metadata": {},
   "outputs": [
    {
     "name": "stderr",
     "output_type": "stream",
     "text": [
      "100%|██████████| 17379/17379 [00:13<00:00, 1298.18it/s]\n"
     ]
    }
   ],
   "source": [
    "L1.full_pass()"
   ]
  },
  {
   "cell_type": "markdown",
   "metadata": {},
   "source": [
    "L2 model"
   ]
  },
  {
   "cell_type": "code",
   "execution_count": 106,
   "metadata": {},
   "outputs": [
    {
     "name": "stderr",
     "output_type": "stream",
     "text": [
      "100%|██████████| 17379/17379 [00:13<00:00, 1327.64it/s]\n"
     ]
    }
   ],
   "source": [
    "L2.full_pass()"
   ]
  },
  {
   "cell_type": "markdown",
   "metadata": {},
   "source": [
    "## errors"
   ]
  },
  {
   "cell_type": "code",
   "execution_count": 107,
   "metadata": {},
   "outputs": [
    {
     "name": "stdout",
     "output_type": "stream",
     "text": [
      "base error: 214.5731040277971\n",
      "L1 error  : 155.5828397399973\n",
      "L2 error  : 159.57408948642873\n"
     ]
    }
   ],
   "source": [
    "print('base error:', base.test_rms())\n",
    "print('L1 error  :', L1.test_rms())\n",
    "print('L2 error  :', L2.test_rms())"
   ]
  },
  {
   "cell_type": "markdown",
   "metadata": {},
   "source": [
    "## note the performance improvement with the same lr with regularization"
   ]
  },
  {
   "cell_type": "markdown",
   "metadata": {},
   "source": [
    "checking final W:  "
   ]
  },
  {
   "cell_type": "code",
   "execution_count": 108,
   "metadata": {},
   "outputs": [
    {
     "data": {
      "text/plain": [
       "array([ 3.24786636,  3.04850391, -0.99508023, -0.70369008,  0.52856336,\n",
       "       -0.21777155,  0.14183319,  0.03915093, -0.20839004,  1.41613996,\n",
       "        0.88802293, -1.11314864,  0.92164374])"
      ]
     },
     "execution_count": 108,
     "metadata": {},
     "output_type": "execute_result"
    }
   ],
   "source": [
    "base.W"
   ]
  },
  {
   "cell_type": "code",
   "execution_count": 109,
   "metadata": {},
   "outputs": [
    {
     "data": {
      "text/plain": [
       "array([ 3.05861708,  0.19296796,  0.16451219,  0.97007019,  0.53058912,\n",
       "       -0.18821904,  0.18368329,  0.08141973, -0.09701366,  1.11878637,\n",
       "        1.41180134, -1.13397959,  1.11854914])"
      ]
     },
     "execution_count": 109,
     "metadata": {},
     "output_type": "execute_result"
    }
   ],
   "source": [
    "L1.W"
   ]
  },
  {
   "cell_type": "code",
   "execution_count": 110,
   "metadata": {},
   "outputs": [
    {
     "data": {
      "text/plain": [
       "array([ 3.69706063,  0.33118782,  0.0797629 ,  0.10201965,  0.54241072,\n",
       "       -0.08303447,  0.24122738,  0.08712386, -0.07443048,  2.16669895,\n",
       "        0.40780129, -1.00287435,  1.2805619 ])"
      ]
     },
     "execution_count": 110,
     "metadata": {},
     "output_type": "execute_result"
    }
   ],
   "source": [
    "L2.W"
   ]
  },
  {
   "cell_type": "markdown",
   "metadata": {},
   "source": [
    "### full disclosure:\n",
    "\n",
    " - the grid search in our model.py is not completely functional and so has been commented out for now"
   ]
  },
  {
   "cell_type": "markdown",
   "metadata": {},
   "source": [
    "## subquestion 5"
   ]
  },
  {
   "cell_type": "markdown",
   "metadata": {},
   "source": [
    "### for checking which features are the most important: looking at the absolute value of the weights"
   ]
  },
  {
   "cell_type": "code",
   "execution_count": 142,
   "metadata": {},
   "outputs": [
    {
     "data": {
      "text/plain": [
       "['season',\n",
       " 'yr',\n",
       " 'mnth',\n",
       " 'hr',\n",
       " 'holiday',\n",
       " 'weekday',\n",
       " 'workingday',\n",
       " 'weathersit',\n",
       " 'temp',\n",
       " 'atemp',\n",
       " 'hum',\n",
       " 'windspeed']"
      ]
     },
     "execution_count": 142,
     "metadata": {},
     "output_type": "execute_result"
    }
   ],
   "source": [
    "features = list(data.columns[:12])\n",
    "features\n"
   ]
  },
  {
   "cell_type": "markdown",
   "metadata": {},
   "source": [
    "using the weights from the selection operator for now:"
   ]
  },
  {
   "cell_type": "code",
   "execution_count": 129,
   "metadata": {},
   "outputs": [],
   "source": [
    "weights = L1.W"
   ]
  },
  {
   "cell_type": "code",
   "execution_count": 131,
   "metadata": {},
   "outputs": [
    {
     "data": {
      "text/plain": [
       "array([ 3.05861708,  0.19296796,  0.16451219,  0.97007019,  0.53058912,\n",
       "       -0.18821904,  0.18368329,  0.08141973, -0.09701366,  1.11878637,\n",
       "        1.41180134, -1.13397959,  1.11854914])"
      ]
     },
     "execution_count": 131,
     "metadata": {},
     "output_type": "execute_result"
    }
   ],
   "source": [
    "weights\n",
    "# 0 is the bias"
   ]
  },
  {
   "cell_type": "markdown",
   "metadata": {},
   "source": [
    "note the large values for index number 3,4,9,10,11,12 \n",
    "\n",
    "these can be used to infer the most prominent features"
   ]
  },
  {
   "cell_type": "code",
   "execution_count": 144,
   "metadata": {},
   "outputs": [
    {
     "data": {
      "text/plain": [
       "['mnth', 'hr', 'temp', 'atemp', 'hum', 'windspeed']"
      ]
     },
     "execution_count": 144,
     "metadata": {},
     "output_type": "execute_result"
    }
   ],
   "source": [
    "prominent = [features[i-1] for i in [3,4,9,10,11,12]]\n",
    "prominent"
   ]
  },
  {
   "cell_type": "markdown",
   "metadata": {},
   "source": [
    "Note that these make sense at the first look:\n",
    " - more bikers later in the year than before(for month)\n",
    " - temperature: people get out on a sunny day\n",
    " - feeling temperature: as expected - this is a stronger predictor than temperature\n",
    " - hum : less people get out on humid days\n",
    " - windspeed : who doesn't like to ride on windy days..."
   ]
  },
  {
   "cell_type": "code",
   "execution_count": null,
   "metadata": {},
   "outputs": [],
   "source": []
  }
 ],
 "metadata": {
  "kernelspec": {
   "display_name": "Python 3",
   "language": "python",
   "name": "python3"
  },
  "language_info": {
   "codemirror_mode": {
    "name": "ipython",
    "version": 3
   },
   "file_extension": ".py",
   "mimetype": "text/x-python",
   "name": "python",
   "nbconvert_exporter": "python",
   "pygments_lexer": "ipython3",
   "version": "3.8.3"
  }
 },
 "nbformat": 4,
 "nbformat_minor": 4
}
