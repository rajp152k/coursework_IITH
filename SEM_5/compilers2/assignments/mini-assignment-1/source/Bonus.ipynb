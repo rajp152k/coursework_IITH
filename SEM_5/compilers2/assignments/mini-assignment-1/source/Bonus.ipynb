{
 "cells": [
  {
   "cell_type": "markdown",
   "metadata": {},
   "source": [
    "# Bonus question\n",
    "Raj Patil  \n",
    "CS18BTECH11039"
   ]
  },
  {
   "cell_type": "code",
   "execution_count": 7,
   "metadata": {},
   "outputs": [],
   "source": [
    "from time import perf_counter as pc\n",
    "import numpy as np\n",
    "import matplotlib.pyplot as plt\n",
    "from collections import namedtuple"
   ]
  },
  {
   "cell_type": "markdown",
   "metadata": {},
   "source": [
    "# nomenclature:\n",
    "\n",
    "clg: clang related  \n",
    "gcc: gcc related  \n",
    "prp: preprocessing times  \n",
    "prs: parsing times  \n",
    "cg_ot: optimization times with code generation: using O2  \n",
    "cg: code generation times with no optimization\n",
    "\n",
    "\n",
    "#### NOT USING old files and beginning compilation again at all times"
   ]
  },
  {
   "cell_type": "code",
   "execution_count": 65,
   "metadata": {},
   "outputs": [],
   "source": [
    "num_runs = range(50)"
   ]
  },
  {
   "cell_type": "markdown",
   "metadata": {},
   "source": [
    "# Clang toolchain"
   ]
  },
  {
   "cell_type": "code",
   "execution_count": 64,
   "metadata": {},
   "outputs": [
    {
     "name": "stdout",
     "output_type": "stream",
     "text": [
      "===-------------------------------------------------------------------------===\n",
      "                         Miscellaneous Ungrouped Timers\n",
      "===-------------------------------------------------------------------------===\n",
      "\n",
      "   ---User Time---   --System Time--   --User+System--   ---Wall Time---  --- Name ---\n",
      "   0.0580 ( 68.2%)   0.0000 (  0.0%)   0.0580 ( 67.6%)   0.0580 ( 66.6%)  Code Generation Time\n",
      "   0.0271 ( 31.8%)   0.0007 (100.0%)   0.0278 ( 32.4%)   0.0290 ( 33.4%)  LLVM IR Generation Time\n",
      "   0.0851 (100.0%)   0.0007 (100.0%)   0.0858 (100.0%)   0.0871 (100.0%)  Total\n",
      "\n",
      "===-------------------------------------------------------------------------===\n",
      "                      Instruction Selection and Scheduling\n",
      "===-------------------------------------------------------------------------===\n",
      "  Total Execution Time: 0.0042 seconds (0.0042 wall clock)\n",
      "\n",
      "   ---User Time---   --User+System--   ---Wall Time---  --- Name ---\n",
      "   0.0009 ( 21.9%)   0.0009 ( 21.9%)   0.0009 ( 21.8%)  Instruction Selection\n",
      "   0.0009 ( 21.2%)   0.0009 ( 21.2%)   0.0009 ( 21.0%)  Instruction Scheduling\n",
      "   0.0007 ( 16.5%)   0.0007 ( 16.5%)   0.0007 ( 16.9%)  DAG Combining 1\n",
      "   0.0005 ( 12.8%)   0.0005 ( 12.8%)   0.0005 ( 12.9%)  Instruction Creation\n",
      "   0.0005 ( 11.2%)   0.0005 ( 11.2%)   0.0005 ( 11.1%)  DAG Combining 2\n",
      "   0.0003 (  6.4%)   0.0003 (  6.4%)   0.0003 (  6.3%)  DAG Legalization\n",
      "   0.0003 (  6.0%)   0.0003 (  6.0%)   0.0003 (  6.1%)  Type Legalization\n",
      "   0.0001 (  1.9%)   0.0001 (  1.9%)   0.0001 (  2.0%)  Instruction Scheduling Cleanup\n",
      "   0.0001 (  2.0%)   0.0001 (  2.0%)   0.0001 (  2.0%)  Vector Legalization\n",
      "   0.0042 (100.0%)   0.0042 (100.0%)   0.0042 (100.0%)  Total\n",
      "\n",
      "===-------------------------------------------------------------------------===\n",
      "                                 DWARF Emission\n",
      "===-------------------------------------------------------------------------===\n",
      "  Total Execution Time: 0.0010 seconds (0.0011 wall clock)\n",
      "\n",
      "   ---User Time---   --User+System--   ---Wall Time---  --- Name ---\n",
      "   0.0006 ( 59.1%)   0.0006 ( 59.1%)   0.0006 ( 57.9%)  DWARF Exception Writer\n",
      "   0.0004 ( 40.7%)   0.0004 ( 40.7%)   0.0005 ( 41.9%)  Debug Info Emission\n",
      "   0.0000 (  0.2%)   0.0000 (  0.2%)   0.0000 (  0.2%)  DWARF Debug Writer\n",
      "   0.0010 (100.0%)   0.0010 (100.0%)   0.0011 (100.0%)  Total\n",
      "\n",
      "===-------------------------------------------------------------------------===\n",
      "                      ... Pass execution timing report ...\n",
      "===-------------------------------------------------------------------------===\n",
      "  Total Execution Time: 0.0381 seconds (0.0381 wall clock)\n",
      "\n",
      "   ---User Time---   --User+System--   ---Wall Time---  --- Name ---\n",
      "   0.0118 ( 31.0%)   0.0118 ( 31.0%)   0.0118 ( 31.0%)  X86 DAG->DAG Instruction Selection\n",
      "   0.0051 ( 13.3%)   0.0051 ( 13.3%)   0.0051 ( 13.4%)  X86 Assembly Printer\n",
      "   0.0026 (  6.8%)   0.0026 (  6.8%)   0.0026 (  6.8%)  Prologue/Epilogue Insertion & Frame Finalization\n",
      "   0.0016 (  4.3%)   0.0016 (  4.3%)   0.0016 (  4.3%)  Expand Atomic instructions\n",
      "   0.0017 (  4.4%)   0.0017 (  4.4%)   0.0016 (  4.3%)  Fast Register Allocator\n",
      "   0.0009 (  2.4%)   0.0009 (  2.4%)   0.0010 (  2.6%)  Two-Address instruction pass\n",
      "   0.0008 (  2.0%)   0.0008 (  2.0%)   0.0008 (  2.0%)  Insert stack protectors\n",
      "   0.0007 (  1.8%)   0.0007 (  1.8%)   0.0007 (  1.8%)  Dominator Tree Construction\n",
      "   0.0006 (  1.6%)   0.0006 (  1.6%)   0.0006 (  1.6%)  MachineDominator Tree Construction\n",
      "   0.0006 (  1.4%)   0.0006 (  1.4%)   0.0006 (  1.5%)  Free MachineFunction\n",
      "   0.0005 (  1.3%)   0.0005 (  1.3%)   0.0005 (  1.3%)  Exception handling preparation\n",
      "   0.0005 (  1.4%)   0.0005 (  1.4%)   0.0005 (  1.3%)  Machine Natural Loop Construction\n",
      "   0.0004 (  1.2%)   0.0004 (  1.2%)   0.0004 (  1.1%)  Dominator Tree Construction\n",
      "   0.0004 (  1.1%)   0.0004 (  1.1%)   0.0004 (  1.1%)  Post-RA pseudo instruction expansion pass\n",
      "   0.0004 (  1.0%)   0.0004 (  1.0%)   0.0004 (  1.0%)  MachineDominator Tree Construction\n",
      "   0.0004 (  0.9%)   0.0004 (  0.9%)   0.0004 (  0.9%)  Expand reduction intrinsics\n",
      "   0.0003 (  0.9%)   0.0003 (  0.9%)   0.0004 (  0.9%)  X86 pseudo instruction expansion pass\n",
      "   0.0004 (  0.9%)   0.0004 (  0.9%)   0.0004 (  0.9%)  Eliminate PHI nodes for register allocation\n",
      "   0.0003 (  0.9%)   0.0003 (  0.9%)   0.0003 (  0.9%)  StackMap Liveness Analysis\n",
      "   0.0004 (  0.9%)   0.0004 (  0.9%)   0.0003 (  0.9%)  Inliner for always_inline functions\n",
      "   0.0003 (  0.9%)   0.0003 (  0.9%)   0.0003 (  0.9%)  Insert fentry calls\n",
      "   0.0004 (  1.0%)   0.0004 (  1.0%)   0.0003 (  0.9%)  Machine Natural Loop Construction\n",
      "   0.0003 (  0.8%)   0.0003 (  0.8%)   0.0003 (  0.8%)  Expand indirectbr instructions\n",
      "   0.0003 (  0.8%)   0.0003 (  0.8%)   0.0003 (  0.8%)  Implement the 'patchable-function' attribute\n",
      "   0.0003 (  0.8%)   0.0003 (  0.8%)   0.0003 (  0.8%)  Basic Alias Analysis (stateless AA impl)\n",
      "   0.0003 (  0.8%)   0.0003 (  0.8%)   0.0003 (  0.8%)  Insert XRay ops\n",
      "   0.0003 (  0.8%)   0.0003 (  0.8%)   0.0003 (  0.8%)  Expand ISel Pseudo-instructions\n",
      "   0.0003 (  0.7%)   0.0003 (  0.7%)   0.0003 (  0.8%)  Bundle Machine CFG Edges\n",
      "   0.0003 (  0.7%)   0.0003 (  0.7%)   0.0003 (  0.7%)  Instrument function entry/exit with calls to e.g. mcount() (post inlining)\n",
      "   0.0003 (  0.7%)   0.0003 (  0.7%)   0.0003 (  0.7%)  Live DEBUG_VALUE analysis\n",
      "   0.0003 (  0.7%)   0.0003 (  0.7%)   0.0003 (  0.7%)  Machine Optimization Remark Emitter\n",
      "   0.0003 (  0.7%)   0.0003 (  0.7%)   0.0003 (  0.7%)  Remove unreachable blocks from the CFG\n",
      "   0.0003 (  0.7%)   0.0003 (  0.7%)   0.0003 (  0.7%)  X86 PIC Global Base Reg Initialization\n",
      "   0.0002 (  0.7%)   0.0002 (  0.7%)   0.0003 (  0.7%)  Local Stack Slot Allocation\n",
      "   0.0003 (  0.7%)   0.0003 (  0.7%)   0.0003 (  0.7%)  Contiguously Lay Out Funclets\n",
      "   0.0003 (  0.7%)   0.0003 (  0.7%)   0.0003 (  0.7%)  Instrument function entry/exit with calls to e.g. mcount() (pre inlining)\n",
      "   0.0003 (  0.7%)   0.0003 (  0.7%)   0.0003 (  0.7%)  X86 Retpoline Thunks\n",
      "   0.0003 (  0.7%)   0.0003 (  0.7%)   0.0003 (  0.7%)  X86 FP Stackifier\n",
      "   0.0003 (  0.7%)   0.0003 (  0.7%)   0.0003 (  0.7%)  X86 WinAlloca Expander\n",
      "   0.0002 (  0.7%)   0.0002 (  0.7%)   0.0003 (  0.7%)  Machine Optimization Remark Emitter\n",
      "   0.0002 (  0.6%)   0.0002 (  0.6%)   0.0003 (  0.7%)  Lazy Machine Block Frequency Analysis\n",
      "   0.0002 (  0.6%)   0.0002 (  0.6%)   0.0002 (  0.7%)  Lazy Machine Block Frequency Analysis\n",
      "   0.0003 (  0.7%)   0.0003 (  0.7%)   0.0002 (  0.6%)  Analyze Machine Code For Garbage Collection\n",
      "   0.0002 (  0.6%)   0.0002 (  0.6%)   0.0002 (  0.6%)  Safe Stack instrumentation pass\n",
      "   0.0002 (  0.6%)   0.0002 (  0.6%)   0.0002 (  0.6%)  X86 vzeroupper inserter\n",
      "   0.0002 (  0.6%)   0.0002 (  0.6%)   0.0002 (  0.6%)  Scalarize Masked Memory Intrinsics\n",
      "   0.0002 (  0.6%)   0.0002 (  0.6%)   0.0002 (  0.6%)  Lower Garbage Collection Instructions\n",
      "   0.0002 (  0.6%)   0.0002 (  0.6%)   0.0002 (  0.6%)  Shadow Stack GC Lowering\n",
      "   0.0002 (  0.5%)   0.0002 (  0.5%)   0.0002 (  0.5%)  CallGraph Construction\n",
      "   0.0001 (  0.1%)   0.0001 (  0.1%)   0.0001 (  0.1%)  Assumption Cache Tracker\n",
      "   0.0000 (  0.0%)   0.0000 (  0.0%)   0.0000 (  0.0%)  Pre-ISel Intrinsic Lowering\n",
      "   0.0000 (  0.0%)   0.0000 (  0.0%)   0.0000 (  0.0%)  Rewrite Symbols\n",
      "   0.0000 (  0.0%)   0.0000 (  0.0%)   0.0000 (  0.0%)  Force set function attributes\n",
      "   0.0000 (  0.0%)   0.0000 (  0.0%)   0.0000 (  0.0%)  A No-Op Barrier Pass\n",
      "   0.0000 (  0.0%)   0.0000 (  0.0%)   0.0000 (  0.0%)  Assumption Cache Tracker\n",
      "   0.0000 (  0.0%)   0.0000 (  0.0%)   0.0000 (  0.0%)  Target Transform Information\n",
      "   0.0000 (  0.0%)   0.0000 (  0.0%)   0.0000 (  0.0%)  Target Pass Configuration\n",
      "   0.0000 (  0.0%)   0.0000 (  0.0%)   0.0000 (  0.0%)  Machine Module Information\n",
      "   0.0000 (  0.0%)   0.0000 (  0.0%)   0.0000 (  0.0%)  Machine Branch Probability Analysis\n",
      "   0.0000 (  0.0%)   0.0000 (  0.0%)   0.0000 (  0.0%)  Target Library Information\n",
      "   0.0000 (  0.0%)   0.0000 (  0.0%)   0.0000 (  0.0%)  Profile summary info\n",
      "   0.0000 (  0.0%)   0.0000 (  0.0%)   0.0000 (  0.0%)  Target Library Information\n",
      "   0.0000 (  0.0%)   0.0000 (  0.0%)   0.0000 (  0.0%)  Create Garbage Collector Module Metadata\n",
      "   0.0381 (100.0%)   0.0381 (100.0%)   0.0381 (100.0%)  Total\n",
      "\n",
      "===-------------------------------------------------------------------------===\n",
      "                          Clang front-end time report\n",
      "===-------------------------------------------------------------------------===\n",
      "  Total Execution Time: 0.8360 seconds (0.8366 wall clock)\n",
      "\n",
      "   ---User Time---   --System Time--   --User+System--   ---Wall Time---  --- Name ---\n",
      "   0.7756 (100.0%)   0.0604 (100.0%)   0.8360 (100.0%)   0.8366 (100.0%)  Clang front-end timer\n",
      "   0.7756 (100.0%)   0.0604 (100.0%)   0.8360 (100.0%)   0.8366 (100.0%)  Total\n",
      "\n",
      "clang++ -ftime-report test4.cpp  0.92s user 0.11s system 83% cpu 1.229 total\n"
     ]
    }
   ],
   "source": [
    "#inbuilt analysis tools\n",
    "!time clang++ -ftime-report test4.cpp "
   ]
  },
  {
   "cell_type": "code",
   "execution_count": 66,
   "metadata": {},
   "outputs": [],
   "source": [
    "clang = namedtuple('Clang','prp prs cg cg_ot')"
   ]
  },
  {
   "cell_type": "code",
   "execution_count": 67,
   "metadata": {},
   "outputs": [],
   "source": [
    "# custom runs\n",
    "clang_runs=[]\n",
    "for i in num_runs:\n",
    "    t0 = pc()\n",
    "    !clang++  -E test4.cpp &>/dev/null\n",
    "    t1=pc()-t0\n",
    "    !clang++ -fsyntax-only test4.cpp &>/dev/null\n",
    "    t2=pc()-(t0+t1)\n",
    "    !clang++ -O0 -S test4.cpp &> /dev/null\n",
    "    t3=pc()-(t0+t1+t2)\n",
    "    !clang++ -O2 -S test4.cpp &>/dev/null\n",
    "    t4=pc()-(t0+t1+t2+t3)\n",
    "    clang_runs.append(clang(t1,t2,t3,t4))"
   ]
  },
  {
   "cell_type": "code",
   "execution_count": 68,
   "metadata": {},
   "outputs": [
    {
     "data": {
      "text/plain": [
       "(50, 4)"
      ]
     },
     "execution_count": 68,
     "metadata": {},
     "output_type": "execute_result"
    }
   ],
   "source": [
    "np_clg = np.asarray(clang_runs)\n",
    "np_clg.shape"
   ]
  },
  {
   "cell_type": "code",
   "execution_count": 69,
   "metadata": {},
   "outputs": [
    {
     "data": {
      "image/png": "[encoded data removed]",
      "text/plain": [
       "<Figure size 432x288 with 1 Axes>"
      ]
     },
     "metadata": {
      "needs_background": "light"
     },
     "output_type": "display_data"
    }
   ],
   "source": [
    "plt.hist(np_clg[:,0],bins=50,color='r',label=\"prp\")\n",
    "plt.hist(np_clg[:,1],bins=50,color='b',label=\"prs\")\n",
    "plt.hist(np_clg[:,2],bins=50,color='y',label=\"cg\")\n",
    "plt.hist(np_clg[:,3],bins=50,color='g',label=\"cg_ot\")\n",
    "plt.title(\"CLANG DISTRIBUTIONS\")\n",
    "plt.legend()\n",
    "plt.xlabel(\"time in s\")\n",
    "plt.ylabel(\"frequency (out of \" + str(len(num_runs)) + \" runs)\")\n",
    "plt.show()"
   ]
  },
  {
   "cell_type": "markdown",
   "metadata": {},
   "source": [
    "# GCC toolchain"
   ]
  },
  {
   "cell_type": "code",
   "execution_count": 60,
   "metadata": {},
   "outputs": [
    {
     "name": "stdout",
     "output_type": "stream",
     "text": [
      "\n",
      "Execution times (seconds)\n",
      " phase setup             :   0.00 ( 0%) usr   0.00 ( 0%) sys   0.00 ( 0%) wall    1495 kB ( 1%) ggc\n",
      " phase parsing           :   1.26 (85%) usr   0.54 (89%) sys   1.80 (86%) wall  135869 kB (82%) ggc\n",
      " phase lang. deferred    :   0.15 (10%) usr   0.02 ( 3%) sys   0.18 ( 9%) wall   18801 kB (11%) ggc\n",
      " phase opt and generate  :   0.07 ( 5%) usr   0.05 ( 8%) sys   0.11 ( 5%) wall    8608 kB ( 5%) ggc\n",
      " |name lookup            :   0.36 (24%) usr   0.08 (13%) sys   0.48 (23%) wall   10851 kB ( 7%) ggc\n",
      " |overload resolution    :   0.31 (21%) usr   0.01 ( 2%) sys   0.28 (13%) wall   29805 kB (18%) ggc\n",
      " dump files              :   0.01 ( 1%) usr   0.00 ( 0%) sys   0.00 ( 0%) wall       0 kB ( 0%) ggc\n",
      " callgraph construction  :   0.01 ( 1%) usr   0.01 ( 2%) sys   0.02 ( 1%) wall     801 kB ( 0%) ggc\n",
      " callgraph optimization  :   0.00 ( 0%) usr   0.00 ( 0%) sys   0.01 ( 0%) wall       4 kB ( 0%) ggc\n",
      " trivially dead code     :   0.00 ( 0%) usr   0.00 ( 0%) sys   0.01 ( 0%) wall       0 kB ( 0%) ggc\n",
      " df scan insns           :   0.01 ( 1%) usr   0.00 ( 0%) sys   0.01 ( 0%) wall       8 kB ( 0%) ggc\n",
      " df live regs            :   0.00 ( 0%) usr   0.00 ( 0%) sys   0.01 ( 0%) wall       0 kB ( 0%) ggc\n",
      " preprocessing           :   0.24 (16%) usr   0.13 (21%) sys   0.30 (14%) wall    5075 kB ( 3%) ggc\n",
      " parser (global)         :   0.23 (16%) usr   0.15 (25%) sys   0.49 (23%) wall   34358 kB (21%) ggc\n",
      " parser struct body      :   0.14 ( 9%) usr   0.05 ( 8%) sys   0.21 (10%) wall   22475 kB (14%) ggc\n",
      " parser function body    :   0.12 ( 8%) usr   0.03 ( 5%) sys   0.15 ( 7%) wall    8946 kB ( 5%) ggc\n",
      " parser inl. func. body  :   0.06 ( 4%) usr   0.04 ( 7%) sys   0.08 ( 4%) wall    3892 kB ( 2%) ggc\n",
      " parser inl. meth. body  :   0.09 ( 6%) usr   0.06 (10%) sys   0.21 (10%) wall   14458 kB ( 9%) ggc\n",
      " template instantiation  :   0.53 (36%) usr   0.10 (16%) sys   0.54 (26%) wall   65346 kB (40%) ggc\n",
      " tree SSA other          :   0.00 ( 0%) usr   0.01 ( 2%) sys   0.00 ( 0%) wall      24 kB ( 0%) ggc\n",
      " out of ssa              :   0.00 ( 0%) usr   0.00 ( 0%) sys   0.01 ( 0%) wall      21 kB ( 0%) ggc\n",
      " expand                  :   0.01 ( 1%) usr   0.00 ( 0%) sys   0.00 ( 0%) wall     712 kB ( 0%) ggc\n",
      " integrated RA           :   0.01 ( 1%) usr   0.00 ( 0%) sys   0.01 ( 0%) wall    4231 kB ( 3%) ggc\n",
      " LRA non-specific        :   0.01 ( 1%) usr   0.01 ( 2%) sys   0.00 ( 0%) wall      31 kB ( 0%) ggc\n",
      " reload                  :   0.00 ( 0%) usr   0.00 ( 0%) sys   0.01 ( 0%) wall       0 kB ( 0%) ggc\n",
      " rest of compilation     :   0.01 ( 1%) usr   0.02 ( 3%) sys   0.02 ( 1%) wall     419 kB ( 0%) ggc\n",
      " TOTAL                 :   1.48             0.61             2.10             164785 kB\n",
      "g++ -ftime-report test4.cpp  1.56s user 0.63s system 95% cpu 2.298 total\n"
     ]
    }
   ],
   "source": [
    "# gcc inbuilt analysis\n",
    "!time g++ -ftime-report test4.cpp "
   ]
  },
  {
   "cell_type": "markdown",
   "metadata": {},
   "source": [
    "This, unlike clang, provides the complete time analysis and "
   ]
  },
  {
   "cell_type": "code",
   "execution_count": 70,
   "metadata": {},
   "outputs": [],
   "source": [
    "gcc = namedtuple('GCC','prp prs cg cg_ot')"
   ]
  },
  {
   "cell_type": "code",
   "execution_count": 71,
   "metadata": {},
   "outputs": [],
   "source": [
    "# custom runs\n",
    "gcc_runs=[]\n",
    "for i in num_runs:\n",
    "    t0 = pc()\n",
    "    !g++  -E test4.cpp &>/dev/null\n",
    "    t1=pc()-t0\n",
    "    !g++ -fsyntax-only test4.cpp &>/dev/null\n",
    "    t2=pc()-(t0+t1)\n",
    "    !g++ -O0 -S test4.cpp &> /dev/null\n",
    "    t3=pc()-(t0+t1+t2)\n",
    "    !g++ -O2 -S test4.cpp &>/dev/null\n",
    "    t4=pc()-(t0+t1+t2+t3)\n",
    "    gcc_runs.append(gcc(t1,t2,t3,t4))"
   ]
  },
  {
   "cell_type": "code",
   "execution_count": 72,
   "metadata": {},
   "outputs": [
    {
     "data": {
      "text/plain": [
       "(50, 4)"
      ]
     },
     "execution_count": 72,
     "metadata": {},
     "output_type": "execute_result"
    }
   ],
   "source": [
    "np_gcc = np.asarray(gcc_runs)\n",
    "np_gcc.shape"
   ]
  },
  {
   "cell_type": "code",
   "execution_count": 73,
   "metadata": {},
   "outputs": [
    {
     "data": {
      "image/png": "[encoded data removed]",
      "text/plain": [
       "<Figure size 432x288 with 1 Axes>"
      ]
     },
     "metadata": {
      "needs_background": "light"
     },
     "output_type": "display_data"
    }
   ],
   "source": [
    "plt.hist(np_gcc[:,0],bins=50,color='r',label=\"prp\")\n",
    "plt.hist(np_gcc[:,1],bins=50,color='b',label=\"prs\")\n",
    "plt.hist(np_gcc[:,2],bins=50,color='y',label=\"cg\")\n",
    "plt.hist(np_gcc[:,3],bins=50,color='g',label=\"cg_ot\")\n",
    "plt.title(\"GCC DISTRIBUTIONS\")\n",
    "plt.legend()\n",
    "plt.xlabel(\"time in s\")\n",
    "plt.ylabel(\"frequency (out of \" + str(len(num_runs)) + \" runs)\")\n",
    "plt.show()"
   ]
  },
  {
   "cell_type": "markdown",
   "metadata": {},
   "source": [
    "# collecting means"
   ]
  },
  {
   "cell_type": "code",
   "execution_count": 82,
   "metadata": {},
   "outputs": [
    {
     "name": "stdout",
     "output_type": "stream",
     "text": [
      "\n",
      " GCC\n",
      "gcc_prp 0.4530730939997011\n",
      "gcc_prs 1.6781543300001067\n",
      "gcc_cg 1.995258301999711\n",
      "gcc_cg_ot 1.9667276100002347\n",
      "\n",
      " CLANG\n",
      "clg_prp 0.4522343220002949\n",
      "clg_prs 1.706136847999587\n",
      "clg_cg 2.00593066399917\n",
      "clg_cg_ot 2.011734538000019\n"
     ]
    }
   ],
   "source": [
    "print(\"\\n\",\"GCC\")\n",
    "print(\"gcc_prp\",np_gcc[:,0].mean())\n",
    "print(\"gcc_prs\",np_gcc[:,1].mean())\n",
    "print(\"gcc_cg\",  np_gcc[:,2].mean())\n",
    "print(\"gcc_cg_ot\", np_gcc[:,3].mean())\n",
    "\n",
    "print(\"\\n\",\"CLANG\")\n",
    "print(\"clg_prp\" ,np_clg[:,0].mean())\n",
    "print(\"clg_prs\" , np_clg[:,1].mean())\n",
    "print(\"clg_cg\" , np_clg[:,2].mean())\n",
    "print(\"clg_cg_ot\" , np_clg[:,3].mean())\n"
   ]
  },
  {
   "cell_type": "markdown",
   "metadata": {},
   "source": [
    "That is very close"
   ]
  },
  {
   "cell_type": "markdown",
   "metadata": {},
   "source": [
    "# Notes"
   ]
  },
  {
   "cell_type": "markdown",
   "metadata": {},
   "source": [
    "- cg_ot is not very different from cg and is in fact lesser in the case of gcc which is not expected.\n",
    "- inbuilt tools paint a different picture which is expected : the python interpreter adds its own delays into this\n",
    "    - ftime-report shows clang to be a bit faster \n",
    "    - but the pythonic analysis doesn't show a significant difference \n",
    "- However, given the effect weared of due to python's delays, We have reason to believe that clang is faster.\n",
    "- Also note that the histograms observed are bimodal due to the presence of a cache and hence we should only compare corresponding peaks."
   ]
  }
 ],
 "metadata": {
  "kernelspec": {
   "display_name": "Python 3",
   "language": "python",
   "name": "python3"
  },
  "language_info": {
   "codemirror_mode": {
    "name": "ipython",
    "version": 3
   },
   "file_extension": ".py",
   "mimetype": "text/x-python",
   "name": "python",
   "nbconvert_exporter": "python",
   "pygments_lexer": "ipython3",
   "version": "3.7.7"
  }
 },
 "nbformat": 4,
 "nbformat_minor": 4
}
