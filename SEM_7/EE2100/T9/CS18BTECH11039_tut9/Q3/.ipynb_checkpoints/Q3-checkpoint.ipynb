{
 "cells": [
  {
   "cell_type": "markdown",
   "metadata": {},
   "source": [
    "# EE2100\n",
    "# Tutorial 9 : Q3\n",
    "## Raj Patil \n",
    "## CS18BTECH11039"
   ]
  },
  {
   "cell_type": "code",
   "execution_count": 264,
   "metadata": {},
   "outputs": [],
   "source": [
    "import numpy as np\n",
    "import networkx as nx\n",
    "import matplotlib.pyplot as plt\n",
    "from mpl_toolkits.mplot3d import Axes3D"
   ]
  },
  {
   "cell_type": "markdown",
   "metadata": {},
   "source": [
    "# Cycle (part a)"
   ]
  },
  {
   "cell_type": "code",
   "execution_count": 201,
   "metadata": {},
   "outputs": [],
   "source": [
    "G = nx.Graph()\n",
    "for i in range(20):\n",
    "    G.add_edge(i,(i+1)%20)"
   ]
  },
  {
   "cell_type": "markdown",
   "metadata": {},
   "source": [
    "## Laplacian "
   ]
  },
  {
   "cell_type": "code",
   "execution_count": 202,
   "metadata": {},
   "outputs": [
    {
     "data": {
      "text/plain": [
       "array([[ 2., -1.,  0.,  0.,  0.],\n",
       "       [-1.,  2., -1.,  0.,  0.],\n",
       "       [ 0., -1.,  2., -1.,  0.],\n",
       "       [ 0.,  0., -1.,  2., -1.],\n",
       "       [ 0.,  0.,  0., -1.,  2.]])"
      ]
     },
     "execution_count": 202,
     "metadata": {},
     "output_type": "execute_result"
    }
   ],
   "source": [
    "laplacian = np.zeros((len(G.nodes),len(G.nodes)))\n",
    "for i in range(len(G.nodes)):\n",
    "    laplacian[i,i] = 2\n",
    "    laplacian[i,(i+1)%20] = laplacian[(i+1)%20,i] = -1\n",
    "    \n",
    "laplacian[:5,:5]"
   ]
  },
  {
   "cell_type": "markdown",
   "metadata": {},
   "source": [
    "### finding eigenvectors  "
   ]
  },
  {
   "cell_type": "code",
   "execution_count": 203,
   "metadata": {},
   "outputs": [],
   "source": [
    "eigen_vals,eigen_vecs = np.linalg.eig(laplacian)"
   ]
  },
  {
   "cell_type": "code",
   "execution_count": 204,
   "metadata": {},
   "outputs": [],
   "source": [
    "eigen_vecs = {eigen_vals[i]:eigen_vecs[:,i] for i in range(len(G.nodes))}\n",
    "sorted_eigen_vals = sorted(eigen_vals)\n",
    "sorted_eigen_vecs = {eigen_val:eigen_vecs[eigen_val] for eigen_val in sorted_eigen_vals}"
   ]
  },
  {
   "cell_type": "code",
   "execution_count": 205,
   "metadata": {},
   "outputs": [],
   "source": [
    "rhos = sorted_eigen_vecs[sorted_eigen_vals[1]]\n",
    "mus = sorted_eigen_vecs[sorted_eigen_vals[2]]"
   ]
  },
  {
   "cell_type": "markdown",
   "metadata": {},
   "source": [
    "## checking constraints"
   ]
  },
  {
   "cell_type": "code",
   "execution_count": 206,
   "metadata": {},
   "outputs": [
    {
     "data": {
      "text/plain": [
       "(0.9999999999999997, 1.0)"
      ]
     },
     "execution_count": 206,
     "metadata": {},
     "output_type": "execute_result"
    }
   ],
   "source": [
    "np.inner(rhos,rhos),np.inner(mus,mus)\n",
    "# already unit norm"
   ]
  },
  {
   "cell_type": "code",
   "execution_count": 207,
   "metadata": {},
   "outputs": [
    {
     "data": {
      "text/plain": [
       "-0.2965443713550918"
      ]
     },
     "execution_count": 207,
     "metadata": {},
     "output_type": "execute_result"
    }
   ],
   "source": [
    "np.inner(rhos,mus)"
   ]
  },
  {
   "cell_type": "code",
   "execution_count": 215,
   "metadata": {},
   "outputs": [],
   "source": [
    "# not orthogonal to each other(same eigenvalue for the plane)\n",
    "# setting mus to be perpendicular to rhos\n",
    "# also forcing unit norm\n",
    "def orthonormalize(v1,v2,eps = 1e-8):\n",
    "    normalize = lambda v: v/np.linalg.norm(v)\n",
    "    \n",
    "    if np.abs(np.inner(v1,v2)) < eps:\n",
    "        return normalize(v1),normalize(v2)\n",
    "    \n",
    "    v2_project_v1 = np.matmul(np.outer(v1,v1),v2)\n",
    "    v2_perpendicular_v1 = v2 - v2_project_v1\n",
    "    \n",
    "    normalized_v2_perpendicular_v1 = normalize(v2_perpendicular_v1)\n",
    "    \n",
    "    assert(np.abs(np.inner(v1,normalized_v2_perpendicular_v1)) < eps)\n",
    "    \n",
    "    return v1, normalized_v2_perpendicular_v1"
   ]
  },
  {
   "cell_type": "code",
   "execution_count": 216,
   "metadata": {},
   "outputs": [],
   "source": [
    "rhos, mus = orthogonalize(rhos,mus)"
   ]
  },
  {
   "cell_type": "code",
   "execution_count": 217,
   "metadata": {},
   "outputs": [
    {
     "data": {
      "text/plain": [
       "-8.487951603285139e-17"
      ]
     },
     "execution_count": 217,
     "metadata": {},
     "output_type": "execute_result"
    }
   ],
   "source": [
    "np.inner(rhos,mus)"
   ]
  },
  {
   "cell_type": "markdown",
   "metadata": {},
   "source": [
    "## Plotting"
   ]
  },
  {
   "cell_type": "code",
   "execution_count": 273,
   "metadata": {},
   "outputs": [
    {
     "data": {
      "text/plain": [
       "{0: (-0.0011257006597290907, 0.024501816098068552),\n",
       " 1: (-0.07338604891613561, 0.0657241447833661),\n",
       " 2: (-0.13241651229716667, 0.006802895921608904),\n",
       " 3: (-0.09663899678189293, -0.07083476721984491),\n",
       " 4: (-0.015496812779396222, -0.059896232986621244),\n",
       " 5: (0.08577975722255403, 0.06171375167559185),\n",
       " 6: (0.1477376328863503, 0.009998913120017367),\n",
       " 7: (0.19009834544437526, 0.051942924384371585),\n",
       " 8: (0.15432082992910132, 0.1295805875258252),\n",
       " 9: (0.08984839674961181, 0.13561929089000413),\n",
       " 10: (-0.06875364134301322, 0.14987035072659458),\n",
       " 11: (0.007575346440450653, 0.18255356125570985),\n",
       " 12: (-0.00021256863646669462, 0.21773718657682786),\n",
       " 13: (-0.08135475263896355, 0.20679865234360492),\n",
       " 14: (-0.12371546519698705, 0.1648546410792506),\n",
       " 15: (-0.1949940808825808, 0.02386347345517836),\n",
       " 16: (-0.19092544135552372, 0.09776901266959079),\n",
       " 17: (-0.20759519217853123, 0.08079177507218875),\n",
       " 18: (-0.22196630429819858, -0.003606274012501544),\n",
       " 19: (-0.21417838922128066, -0.03878989933361941)}"
      ]
     },
     "execution_count": 273,
     "metadata": {},
     "output_type": "execute_result"
    }
   ],
   "source": [
    "G_pos = {i:(rho,mu) for i,rho,mu in zip(G.nodes,rhos,mus)}\n",
    "G_pos"
   ]
  },
  {
   "cell_type": "code",
   "execution_count": 219,
   "metadata": {},
   "outputs": [
    {
     "data": {
      "image/png": "[encoded data removed]",
      "text/plain": [
       "<Figure size 432x288 with 1 Axes>"
      ]
     },
     "metadata": {},
     "output_type": "display_data"
    }
   ],
   "source": [
    "nx.draw(G,G_pos)"
   ]
  },
  {
   "cell_type": "markdown",
   "metadata": {},
   "source": [
    "# Buckminster-fullerene (part b)"
   ]
  },
  {
   "cell_type": "code",
   "execution_count": 415,
   "metadata": {},
   "outputs": [],
   "source": [
    "bucky_laplacian = np.genfromtxt(\"Bucky.txt\")"
   ]
  },
  {
   "cell_type": "code",
   "execution_count": 416,
   "metadata": {},
   "outputs": [
    {
     "data": {
      "text/plain": [
       "array([[ 3., -1.,  0., ...,  0.,  0.,  0.],\n",
       "       [-1.,  3., -1., ...,  0.,  0.,  0.],\n",
       "       [ 0., -1.,  3., ...,  0.,  0.,  0.],\n",
       "       ...,\n",
       "       [ 0.,  0.,  0., ...,  3., -1.,  0.],\n",
       "       [ 0.,  0.,  0., ..., -1.,  3., -1.],\n",
       "       [ 0.,  0.,  0., ...,  0., -1.,  3.]])"
      ]
     },
     "execution_count": 416,
     "metadata": {},
     "output_type": "execute_result"
    }
   ],
   "source": [
    "bucky_laplacian"
   ]
  },
  {
   "cell_type": "code",
   "execution_count": 417,
   "metadata": {},
   "outputs": [],
   "source": [
    "evals,evecs = np.linalg.eig(bucky_laplacian)"
   ]
  },
  {
   "cell_type": "code",
   "execution_count": 418,
   "metadata": {},
   "outputs": [
    {
     "data": {
      "text/plain": [
       "dtype('complex128')"
      ]
     },
     "execution_count": 418,
     "metadata": {},
     "output_type": "execute_result"
    }
   ],
   "source": [
    "evals.dtype"
   ]
  },
  {
   "cell_type": "code",
   "execution_count": 419,
   "metadata": {},
   "outputs": [
    {
     "data": {
      "text/plain": [
       "array([2.27595720e-15, 2.43401746e-01, 2.43401746e-01, 5.61803399e+00,\n",
       "       5.61803399e+00, 2.43401746e-01, 1.17975075e+00, 1.17975075e+00,\n",
       "       1.17975075e+00, 5.61803399e+00, 3.38196601e+00, 3.38196601e+00,\n",
       "       3.38196601e+00, 3.13856427e+00, 3.13856427e+00, 3.13856427e+00,\n",
       "       5.56155281e+00, 5.56155281e+00, 5.56155281e+00, 5.56155281e+00,\n",
       "       4.43828324e+00, 4.43828324e+00, 4.43828324e+00, 5.00000000e+00,\n",
       "       5.00000000e+00, 5.00000000e+00, 5.00000000e+00, 6.97224362e-01,\n",
       "       1.43844719e+00, 1.43844719e+00, 1.43844719e+00, 1.43844719e+00,\n",
       "       6.97224362e-01, 6.97224362e-01, 6.97224362e-01, 6.97224362e-01,\n",
       "       4.61803399e+00, 4.61803399e+00, 4.61803399e+00, 4.61803399e+00,\n",
       "       4.61803399e+00, 4.30277564e+00, 4.30277564e+00, 4.30277564e+00,\n",
       "       4.30277564e+00, 4.30277564e+00, 2.38196601e+00, 2.38196601e+00,\n",
       "       2.38196601e+00, 2.38196601e+00, 2.38196601e+00, 2.00000000e+00,\n",
       "       2.00000000e+00, 2.00000000e+00, 2.00000000e+00, 2.00000000e+00,\n",
       "       2.00000000e+00, 2.00000000e+00, 2.00000000e+00, 2.00000000e+00])"
      ]
     },
     "execution_count": 419,
     "metadata": {},
     "output_type": "execute_result"
    }
   ],
   "source": [
    "# extracting real part, imaginary part is only introduced due to computational reasons\n",
    "# not needed as the laplacian is symmetric and real\n",
    "evals = np.real(evals)\n",
    "evals"
   ]
  },
  {
   "cell_type": "code",
   "execution_count": 420,
   "metadata": {},
   "outputs": [],
   "source": [
    "evecs = {evals[i]:np.real(evecs[:,i]) for i in range(len(evals))}"
   ]
  },
  {
   "cell_type": "code",
   "execution_count": 421,
   "metadata": {},
   "outputs": [],
   "source": [
    "sorted_evals = sorted(evals)"
   ]
  },
  {
   "cell_type": "code",
   "execution_count": 422,
   "metadata": {},
   "outputs": [],
   "source": [
    "rhos = evecs[sorted_evals[1]]\n",
    "mus = evecs[sorted_evals[2]]\n",
    "gammas = evecs[sorted_evals[3]]"
   ]
  },
  {
   "cell_type": "markdown",
   "metadata": {},
   "source": [
    "## checking constraints"
   ]
  },
  {
   "cell_type": "code",
   "execution_count": 423,
   "metadata": {},
   "outputs": [
    {
     "data": {
      "text/plain": [
       "(-1.971079549578647e-15, 6.342149028171207e-15, -3.9968028886505635e-15)"
      ]
     },
     "execution_count": 423,
     "metadata": {},
     "output_type": "execute_result"
    }
   ],
   "source": [
    "np.sum(rhos),np.sum(mus),np.sum(gammas)"
   ]
  },
  {
   "cell_type": "code",
   "execution_count": 424,
   "metadata": {},
   "outputs": [],
   "source": [
    "for v in [rhos,mus,gammas]:\n",
    "    v -= v.mean()"
   ]
  },
  {
   "cell_type": "code",
   "execution_count": 425,
   "metadata": {},
   "outputs": [
    {
     "data": {
      "text/plain": [
       "(-2.727852665973529e-16, -1.8735013540549517e-16, -2.220446049250313e-16)"
      ]
     },
     "execution_count": 425,
     "metadata": {},
     "output_type": "execute_result"
    }
   ],
   "source": [
    "np.sum(rhos),np.sum(mus),np.sum(gammas)"
   ]
  },
  {
   "cell_type": "code",
   "execution_count": 426,
   "metadata": {},
   "outputs": [
    {
     "data": {
      "text/plain": [
       "(-0.016344337741525373, -0.10964309798503975, 0.005034286394938282)"
      ]
     },
     "execution_count": 426,
     "metadata": {},
     "output_type": "execute_result"
    }
   ],
   "source": [
    "np.inner(rhos,mus),np.inner(mus,gammas),np.inner(gammas,rhos)"
   ]
  },
  {
   "cell_type": "code",
   "execution_count": 427,
   "metadata": {},
   "outputs": [],
   "source": [
    "def orthonormalize_3d(v1,v2,v3,eps = 1e-6):\n",
    "    test = lambda u,v: np.abs(np.inner(u,v)) < eps\n",
    "    normalize = lambda v: v/np.linalg.norm(v)\n",
    "    \n",
    "    if test(v1,v2):\n",
    "        ret_v1,ret_v2 = normalize(v1),normalize(v2)\n",
    "    else:\n",
    "        ret_v1,ret_v2 = orthonormalize(v1,v2)\n",
    "    \n",
    "    ret_v1,ret_v3 = orthonormalize(ret_v1,v3)\n",
    "    \n",
    "    ret_V2,ret_v3 = orthonormalize(ret_v2,ret_v3)\n",
    "    \n",
    "    assert test(ret_v1,ret_v2) and test(ret_v2,ret_v3) and test(ret_v3,ret_v1)\n",
    "    \n",
    "    return ret_v1,ret_v2, ret_v3"
   ]
  },
  {
   "cell_type": "code",
   "execution_count": 428,
   "metadata": {},
   "outputs": [],
   "source": [
    "rhos,mus,gammas = orthonormalize_3d(rhos,mus,gammas)"
   ]
  },
  {
   "cell_type": "code",
   "execution_count": 429,
   "metadata": {},
   "outputs": [
    {
     "data": {
      "text/plain": [
       "(-3.469446951953614e-18, 2.42861286636753e-17, -1.0408340855860843e-17)"
      ]
     },
     "execution_count": 429,
     "metadata": {},
     "output_type": "execute_result"
    }
   ],
   "source": [
    "np.inner(rhos,mus),np.inner(mus,gammas),np.inner(gammas,rhos)"
   ]
  },
  {
   "cell_type": "code",
   "execution_count": 430,
   "metadata": {},
   "outputs": [
    {
     "data": {
      "text/plain": [
       "(-2.727852665973529e-16, -2.0122792321330962e-16, -4.163336342344337e-16)"
      ]
     },
     "execution_count": 430,
     "metadata": {},
     "output_type": "execute_result"
    }
   ],
   "source": [
    "np.sum(rhos),np.sum(mus),np.sum(gammas)"
   ]
  },
  {
   "cell_type": "code",
   "execution_count": 431,
   "metadata": {},
   "outputs": [],
   "source": [
    "BF = nx.Graph()"
   ]
  },
  {
   "cell_type": "code",
   "execution_count": 432,
   "metadata": {},
   "outputs": [
    {
     "data": {
      "text/plain": [
       "array([[ 3., -1.,  0.,  0., -1., -1.,  0.,  0.,  0.,  0.,  0.,  0.,  0.,\n",
       "         0.,  0.,  0.,  0.,  0.,  0.,  0.,  0.,  0.,  0.,  0.,  0.,  0.,\n",
       "         0.,  0.,  0.,  0.,  0.,  0.,  0.,  0.,  0.,  0.,  0.,  0.,  0.,\n",
       "         0.,  0.,  0.,  0.,  0.,  0.,  0.,  0.,  0.,  0.,  0.,  0.,  0.,\n",
       "         0.,  0.,  0.,  0.,  0.,  0.,  0.,  0.],\n",
       "       [-1.,  3., -1.,  0.,  0.,  0.,  0.,  0.,  0.,  0., -1.,  0.,  0.,\n",
       "         0.,  0.,  0.,  0.,  0.,  0.,  0.,  0.,  0.,  0.,  0.,  0.,  0.,\n",
       "         0.,  0.,  0.,  0.,  0.,  0.,  0.,  0.,  0.,  0.,  0.,  0.,  0.,\n",
       "         0.,  0.,  0.,  0.,  0.,  0.,  0.,  0.,  0.,  0.,  0.,  0.,  0.,\n",
       "         0.,  0.,  0.,  0.,  0.,  0.,  0.,  0.],\n",
       "       [ 0., -1.,  3., -1.,  0.,  0.,  0.,  0.,  0.,  0.,  0.,  0.,  0.,\n",
       "         0.,  0., -1.,  0.,  0.,  0.,  0.,  0.,  0.,  0.,  0.,  0.,  0.,\n",
       "         0.,  0.,  0.,  0.,  0.,  0.,  0.,  0.,  0.,  0.,  0.,  0.,  0.,\n",
       "         0.,  0.,  0.,  0.,  0.,  0.,  0.,  0.,  0.,  0.,  0.,  0.,  0.,\n",
       "         0.,  0.,  0.,  0.,  0.,  0.,  0.,  0.],\n",
       "       [ 0.,  0., -1.,  3., -1.,  0.,  0.,  0.,  0.,  0.,  0.,  0.,  0.,\n",
       "         0.,  0.,  0.,  0.,  0.,  0.,  0., -1.,  0.,  0.,  0.,  0.,  0.,\n",
       "         0.,  0.,  0.,  0.,  0.,  0.,  0.,  0.,  0.,  0.,  0.,  0.,  0.,\n",
       "         0.,  0.,  0.,  0.,  0.,  0.,  0.,  0.,  0.,  0.,  0.,  0.,  0.,\n",
       "         0.,  0.,  0.,  0.,  0.,  0.,  0.,  0.],\n",
       "       [-1.,  0.,  0., -1.,  3.,  0.,  0.,  0.,  0.,  0.,  0.,  0.,  0.,\n",
       "         0.,  0.,  0.,  0.,  0.,  0.,  0.,  0.,  0.,  0.,  0.,  0., -1.,\n",
       "         0.,  0.,  0.,  0.,  0.,  0.,  0.,  0.,  0.,  0.,  0.,  0.,  0.,\n",
       "         0.,  0.,  0.,  0.,  0.,  0.,  0.,  0.,  0.,  0.,  0.,  0.,  0.,\n",
       "         0.,  0.,  0.,  0.,  0.,  0.,  0.,  0.]])"
      ]
     },
     "execution_count": 432,
     "metadata": {},
     "output_type": "execute_result"
    }
   ],
   "source": [
    "bucky_laplacian[:5]"
   ]
  },
  {
   "cell_type": "code",
   "execution_count": 433,
   "metadata": {},
   "outputs": [],
   "source": [
    "for i in range(bucky_laplacian.shape[0]):\n",
    "    for j in range(i+1,bucky_laplacian.shape[1]):\n",
    "        if bucky_laplacian[i,j] == -1:\n",
    "            BF.add_edge(i,j)"
   ]
  },
  {
   "cell_type": "code",
   "execution_count": 434,
   "metadata": {},
   "outputs": [],
   "source": [
    "BF_pos = {i:(rho,mu,gamma) for i,rho,mu,gamma in zip(BF.nodes,rhos,mus,gammas)}"
   ]
  },
  {
   "cell_type": "markdown",
   "metadata": {},
   "source": [
    "# Plotting"
   ]
  },
  {
   "cell_type": "code",
   "execution_count": 435,
   "metadata": {},
   "outputs": [
    {
     "data": {
      "text/plain": [
       "NodeView((0, 1, 4, 5, 2, 10, 3, 15, 20, 25, 6, 9, 7, 29, 8, 41, 37, 11, 14, 12, 13, 36, 32, 16, 19, 17, 18, 31, 52, 21, 24, 22, 23, 51, 47, 26, 27, 28, 46, 42, 30, 34, 53, 33, 35, 55, 39, 38, 40, 56, 44, 43, 45, 57, 49, 48, 50, 58, 54, 59))"
      ]
     },
     "execution_count": 435,
     "metadata": {},
     "output_type": "execute_result"
    }
   ],
   "source": [
    "BF.nodes"
   ]
  },
  {
   "cell_type": "code",
   "execution_count": 436,
   "metadata": {},
   "outputs": [],
   "source": [
    "node_xyz = np.array([BF_pos[node] for node in sorted(BF.nodes)])\n",
    "edge_xyz = np.array([(BF_pos[v1],BF_pos[v2]) for v1,v2 in BF.edges])"
   ]
  },
  {
   "cell_type": "code",
   "execution_count": 437,
   "metadata": {},
   "outputs": [
    {
     "data": {
      "image/png": "[encoded data removed]",
      "text/plain": [
       "<Figure size 432x288 with 1 Axes>"
      ]
     },
     "metadata": {},
     "output_type": "display_data"
    }
   ],
   "source": [
    "nx.draw(BF)"
   ]
  },
  {
   "cell_type": "code",
   "execution_count": null,
   "metadata": {},
   "outputs": [],
   "source": []
  }
 ],
 "metadata": {
  "kernelspec": {
   "display_name": "Python 3",
   "language": "python",
   "name": "python3"
  },
  "language_info": {
   "codemirror_mode": {
    "name": "ipython",
    "version": 3
   },
   "file_extension": ".py",
   "mimetype": "text/x-python",
   "name": "python",
   "nbconvert_exporter": "python",
   "pygments_lexer": "ipython3",
   "version": "3.8.5"
  }
 },
 "nbformat": 4,
 "nbformat_minor": 4
}
