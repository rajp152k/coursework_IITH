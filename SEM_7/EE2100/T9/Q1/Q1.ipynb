{
 "cells": [
  {
   "cell_type": "markdown",
   "metadata": {},
   "source": [
    "# EE2100\n",
    "# TUTORIAL 9 : Q1\n",
    "## Raj Patil \n",
    "## CS18BTECH11039"
   ]
  },
  {
   "cell_type": "code",
   "execution_count": 155,
   "metadata": {},
   "outputs": [],
   "source": [
    "import numpy as np\n",
    "import matplotlib.pyplot as plt\n",
    "import pandas as pd"
   ]
  },
  {
   "cell_type": "code",
   "execution_count": 156,
   "metadata": {},
   "outputs": [
    {
     "data": {
      "text/html": [
       "<div>\n",
       "<style scoped>\n",
       "    .dataframe tbody tr th:only-of-type {\n",
       "        vertical-align: middle;\n",
       "    }\n",
       "\n",
       "    .dataframe tbody tr th {\n",
       "        vertical-align: top;\n",
       "    }\n",
       "\n",
       "    .dataframe thead th {\n",
       "        text-align: right;\n",
       "    }\n",
       "</style>\n",
       "<table border=\"1\" class=\"dataframe\">\n",
       "  <thead>\n",
       "    <tr style=\"text-align: right;\">\n",
       "      <th></th>\n",
       "      <th>length</th>\n",
       "      <th>width</th>\n",
       "      <th>height</th>\n",
       "    </tr>\n",
       "  </thead>\n",
       "  <tbody>\n",
       "    <tr>\n",
       "      <th>0</th>\n",
       "      <td>98</td>\n",
       "      <td>81</td>\n",
       "      <td>38</td>\n",
       "    </tr>\n",
       "    <tr>\n",
       "      <th>1</th>\n",
       "      <td>103</td>\n",
       "      <td>84</td>\n",
       "      <td>38</td>\n",
       "    </tr>\n",
       "    <tr>\n",
       "      <th>2</th>\n",
       "      <td>103</td>\n",
       "      <td>86</td>\n",
       "      <td>42</td>\n",
       "    </tr>\n",
       "    <tr>\n",
       "      <th>3</th>\n",
       "      <td>105</td>\n",
       "      <td>86</td>\n",
       "      <td>40</td>\n",
       "    </tr>\n",
       "    <tr>\n",
       "      <th>4</th>\n",
       "      <td>109</td>\n",
       "      <td>88</td>\n",
       "      <td>44</td>\n",
       "    </tr>\n",
       "  </tbody>\n",
       "</table>\n",
       "</div>"
      ],
      "text/plain": [
       "   length  width  height\n",
       "0      98     81      38\n",
       "1     103     84      38\n",
       "2     103     86      42\n",
       "3     105     86      40\n",
       "4     109     88      44"
      ]
     },
     "execution_count": 156,
     "metadata": {},
     "output_type": "execute_result"
    }
   ],
   "source": [
    "ds =  pd.read_csv(\"PaintedTurtles.txt\",delimiter=\"\\t\",header=0)\n",
    "ds.columns = [col.strip() for col in ds.columns]\n",
    "ds.drop('sex',axis=1,inplace=True)\n",
    "ds.head()"
   ]
  },
  {
   "cell_type": "markdown",
   "metadata": {},
   "source": [
    "# Preprocessing"
   ]
  },
  {
   "cell_type": "markdown",
   "metadata": {},
   "source": [
    "## scaling from -1 to 1"
   ]
  },
  {
   "cell_type": "code",
   "execution_count": 157,
   "metadata": {},
   "outputs": [],
   "source": [
    "for col in ds.columns:\n",
    "    min_col = min(ds[col])\n",
    "    max_col = max(ds[col])\n",
    "    if min_col == max_col:\n",
    "        ds[col] = 0.\n",
    "        continue\n",
    "    ds[col] = 2*(max_col - ds[col])/(max_col - min_col) -  1 "
   ]
  },
  {
   "cell_type": "markdown",
   "metadata": {},
   "source": [
    "## de-meaning"
   ]
  },
  {
   "cell_type": "code",
   "execution_count": 158,
   "metadata": {},
   "outputs": [
    {
     "data": {
      "text/plain": [
       "length    2.312965e-17\n",
       "width    -2.775558e-17\n",
       "height   -7.170190e-17\n",
       "dtype: float64"
      ]
     },
     "execution_count": 158,
     "metadata": {},
     "output_type": "execute_result"
    }
   ],
   "source": [
    "ds= ds - ds.mean()\n",
    "ds.mean()"
   ]
  },
  {
   "cell_type": "markdown",
   "metadata": {},
   "source": [
    "## initial variances"
   ]
  },
  {
   "cell_type": "code",
   "execution_count": 159,
   "metadata": {},
   "outputs": [
    {
     "data": {
      "text/plain": [
       "length    0.237810\n",
       "width     0.191055\n",
       "height    0.275155\n",
       "dtype: float64"
      ]
     },
     "execution_count": 159,
     "metadata": {},
     "output_type": "execute_result"
    }
   ],
   "source": [
    "ds.var()"
   ]
  },
  {
   "cell_type": "markdown",
   "metadata": {},
   "source": [
    "# PCA"
   ]
  },
  {
   "cell_type": "markdown",
   "metadata": {},
   "source": [
    "## Covariance Matrix"
   ]
  },
  {
   "cell_type": "code",
   "execution_count": 160,
   "metadata": {},
   "outputs": [
    {
     "data": {
      "text/plain": [
       "array([[0.23285516, 0.20418655, 0.24162946],\n",
       "       [0.20418655, 0.18707423, 0.21565194],\n",
       "       [0.24162946, 0.21565194, 0.26942274]])"
      ]
     },
     "execution_count": 160,
     "metadata": {},
     "output_type": "execute_result"
    }
   ],
   "source": [
    "cvm = np.zeros((3,3))\n",
    "\n",
    "for datum in range(len(ds)):\n",
    "    x_i = np.array(ds.iloc[datum])\n",
    "    cvm += np.outer(x_i,x_i)\n",
    "\n",
    "cvm /= len(ds)\n",
    "\n",
    "\n",
    "# do note the minor error from the actual variances (see diagonal)\n",
    "cvm"
   ]
  },
  {
   "cell_type": "markdown",
   "metadata": {},
   "source": [
    "### sorting the eigenvectors according to the eigenvalues "
   ]
  },
  {
   "cell_type": "code",
   "execution_count": 161,
   "metadata": {},
   "outputs": [
    {
     "data": {
      "text/plain": [
       "{0.6744205881692321: array([-0.58238094, -0.52036509, -0.62454193]),\n",
       " 0.004489756182392136: array([-0.68424507,  0.72859322,  0.0309936 ]),\n",
       " 0.010441792927022514: array([-0.43890903, -0.44538982,  0.78037605])}"
      ]
     },
     "execution_count": 161,
     "metadata": {},
     "output_type": "execute_result"
    }
   ],
   "source": [
    "eig_vals, eig_vecs = np.linalg.eig(cvm)\n",
    "eig_vecs = {eig_vals[i]:eig_vecs[:,i] for i in range(3)}\n",
    "eig_vecs"
   ]
  },
  {
   "cell_type": "code",
   "execution_count": 162,
   "metadata": {},
   "outputs": [
    {
     "data": {
      "text/plain": [
       "{'PC 1': array([-0.58238094, -0.52036509, -0.62454193]),\n",
       " 'PC 2': array([-0.43890903, -0.44538982,  0.78037605]),\n",
       " 'PC 3': array([-0.68424507,  0.72859322,  0.0309936 ])}"
      ]
     },
     "execution_count": 162,
     "metadata": {},
     "output_type": "execute_result"
    }
   ],
   "source": [
    "eig_vals = sorted(eig_vals,reverse=True)\n",
    "principal_components = {f'PC {i+1}': eig_vecs[eig_vals[i]] for i in range(3) }\n",
    "\n",
    "sorted_eigen_vals"
   ]
  },
  {
   "cell_type": "code",
   "execution_count": 163,
   "metadata": {},
   "outputs": [
    {
     "data": {
      "text/plain": [
       "array([[-0.58238094, -0.43890903, -0.68424507],\n",
       "       [-0.52036509, -0.44538982,  0.72859322],\n",
       "       [-0.62454193,  0.78037605,  0.0309936 ]])"
      ]
     },
     "execution_count": 163,
     "metadata": {},
     "output_type": "execute_result"
    }
   ],
   "source": [
    "transformer = np.array([sorted_eigen_vals[f\"PC {i+1}\"] for i in range(3)]).T\n",
    "# np.matmul(transformer.T, x_i) will give the transformed datapoint\n",
    "transformer"
   ]
  },
  {
   "cell_type": "markdown",
   "metadata": {},
   "source": [
    "## Building the transformed dataset "
   ]
  },
  {
   "cell_type": "code",
   "execution_count": 164,
   "metadata": {},
   "outputs": [],
   "source": [
    "ds_pca = ds.copy()\n",
    "ds_pca.columns = [f\"PC {i+1}\" for i in range(3)]\n",
    "for datum in range(len(ds)):\n",
    "    ds_pca.iloc[datum] = np.matmul(transformer.T,ds.iloc[datum]) "
   ]
  },
  {
   "cell_type": "code",
   "execution_count": 165,
   "metadata": {},
   "outputs": [
    {
     "data": {
      "text/plain": [
       "(       PC 1      PC 2      PC 3\n",
       " 0 -0.954398 -0.094179 -0.055912\n",
       " 1 -0.831236  0.004147 -0.049826\n",
       " 2 -0.639213 -0.160231 -0.107822\n",
       " 3 -0.689549 -0.041783 -0.071365\n",
       " 4 -0.442061 -0.164360 -0.064195,\n",
       "         PC 1      PC 2      PC 3\n",
       " 43 -0.091450  0.030861  0.068913\n",
       " 44 -0.009886  0.097836  0.026125\n",
       " 45 -0.013964  0.092928  0.067540\n",
       " 46  0.066669  0.075506  0.114478\n",
       " 47  0.358547  0.237474 -0.098656)"
      ]
     },
     "execution_count": 165,
     "metadata": {},
     "output_type": "execute_result"
    }
   ],
   "source": [
    "ds_pca.head(),ds_pca.tail()"
   ]
  },
  {
   "cell_type": "markdown",
   "metadata": {},
   "source": [
    "## checking variances "
   ]
  },
  {
   "cell_type": "code",
   "execution_count": 166,
   "metadata": {},
   "outputs": [
    {
     "data": {
      "text/plain": [
       "PC 1    0.688770\n",
       "PC 2    0.010664\n",
       "PC 3    0.004585\n",
       "dtype: float64"
      ]
     },
     "execution_count": 166,
     "metadata": {},
     "output_type": "execute_result"
    }
   ],
   "source": [
    "ds_pca.var()\n",
    "# order checks out"
   ]
  },
  {
   "cell_type": "markdown",
   "metadata": {},
   "source": [
    "# Plots"
   ]
  },
  {
   "cell_type": "code",
   "execution_count": 167,
   "metadata": {},
   "outputs": [
    {
     "data": {
      "image/png": "[encoded data removed]",
      "text/plain": [
       "<Figure size 432x288 with 1 Axes>"
      ]
     },
     "metadata": {
      "needs_background": "light"
     },
     "output_type": "display_data"
    }
   ],
   "source": [
    "plt.scatter(ds_pca[\"PC 1\"],ds_pca[\"PC 2\"])\n",
    "plt.xlabel(\"PC 1\")\n",
    "plt.ylabel(\"PC 2\")\n",
    "# setting same limits to exaggerate variance differences\n",
    "plt.ylim(plt.xlim())\n",
    "plt.title(\"First two principal components\")\n",
    "plt.show()"
   ]
  }
 ],
 "metadata": {
  "kernelspec": {
   "display_name": "Python 3",
   "language": "python",
   "name": "python3"
  },
  "language_info": {
   "codemirror_mode": {
    "name": "ipython",
    "version": 3
   },
   "file_extension": ".py",
   "mimetype": "text/x-python",
   "name": "python",
   "nbconvert_exporter": "python",
   "pygments_lexer": "ipython3",
   "version": "3.8.5"
  }
 },
 "nbformat": 4,
 "nbformat_minor": 4
}
