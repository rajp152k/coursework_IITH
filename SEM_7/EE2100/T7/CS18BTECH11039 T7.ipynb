{
 "cells": [
  {
   "cell_type": "markdown",
   "metadata": {},
   "source": [
    "## EE2100 TUTORIAL 7 : Q1\n",
    "### RAJ PATIL : CS18BTECH11039"
   ]
  },
  {
   "cell_type": "code",
   "execution_count": 266,
   "metadata": {},
   "outputs": [],
   "source": [
    "import numpy as np\n",
    "import numpy.linalg as nla\n",
    "import random\n",
    "from typing import Callable\n",
    "import pandas as pd\n",
    "from numpy.linalg import qr"
   ]
  },
  {
   "cell_type": "markdown",
   "metadata": {},
   "source": [
    "## Q1"
   ]
  },
  {
   "cell_type": "markdown",
   "metadata": {},
   "source": [
    "### Establishing basic algo tester"
   ]
  },
  {
   "cell_type": "code",
   "execution_count": 267,
   "metadata": {},
   "outputs": [],
   "source": [
    "np.random.seed(0)"
   ]
  },
  {
   "cell_type": "code",
   "execution_count": 268,
   "metadata": {},
   "outputs": [],
   "source": [
    "def test_GS(gs_algo: Callable[[np.array,int],tuple] ,num_trials: int,ret_errs= False) -> bool:\n",
    "    errs = []\n",
    "    for t in range(num_trials):\n",
    "        m,n = random.choice(range(2,6)),random.choice(range(2,6))\n",
    "        A = np.random.randn(m,n)\n",
    "        Q,R = gs_algo(A)\n",
    "        errs.append(nla.norm(np.matmul(Q,R) - A,\"fro\"))\n",
    "    print(f\"mean Frobenius error: {np.array(errs).mean()}\")\n",
    "    if ret_errs:\n",
    "        return errs"
   ]
  },
  {
   "cell_type": "markdown",
   "metadata": {},
   "source": [
    "### Classical Gram-Schmidt "
   ]
  },
  {
   "cell_type": "code",
   "execution_count": 269,
   "metadata": {},
   "outputs": [],
   "source": [
    "def classical_gram_schmidt(A: np.array,eps = 1e-4) -> (np.array,np.array):\n",
    "    m,n = A.shape\n",
    "    Q = np.zeros((m,n))\n",
    "    R = np.zeros((n,n))\n",
    "    for j in range(n):\n",
    "        cache = np.zeros(m)\n",
    "        for k in range(j):\n",
    "            R[k,j] = np.inner(A[:,j],Q[:,k])\n",
    "            cache += R[k,j]\n",
    "        v_j_tilde = A[:,j] - cache\n",
    "        L2_v_j_tilde = R[j,j] = nla.norm(v_j_tilde,2)\n",
    "        if L2_v_j_tilde < eps:\n",
    "            Q[:,j] = np.zeros(m)\n",
    "        else:\n",
    "            Q[:,j] = v_j_tilde/L2_v_j_tilde\n",
    "    return Q,R"
   ]
  },
  {
   "cell_type": "code",
   "execution_count": 270,
   "metadata": {},
   "outputs": [
    {
     "name": "stdout",
     "output_type": "stream",
     "text": [
      "mean Frobenius error: 4.109175083843623\n"
     ]
    }
   ],
   "source": [
    "test_GS(classical_gram_schmidt,1000)"
   ]
  },
  {
   "cell_type": "markdown",
   "metadata": {},
   "source": [
    "### Modified Gram-Schmidt"
   ]
  },
  {
   "cell_type": "code",
   "execution_count": 271,
   "metadata": {},
   "outputs": [],
   "source": [
    "def modified_gram_schmidt(A: np.array,eps = 1e-4) -> (np.array,np.array):\n",
    "    m,n = A.shape\n",
    "    Q = A.copy()\n",
    "    R = np.zeros((n,n))\n",
    "    for j in range(n):\n",
    "        R[j,j] = nla.norm(Q[:,j])\n",
    "        if R[j,j] < eps:\n",
    "            Q[:,j] = np.zeros(m)\n",
    "        else:\n",
    "            Q[:,j] = Q[:,j]/R[j,j]\n",
    "        for k in range(j+1,n):\n",
    "            R[j,k] = np.inner(Q[:,k],Q[:,j])\n",
    "            Q[:,k] = Q[:,k] - R[j,k]*Q[:,j]\n",
    "    return Q,R"
   ]
  },
  {
   "cell_type": "code",
   "execution_count": 272,
   "metadata": {},
   "outputs": [
    {
     "name": "stdout",
     "output_type": "stream",
     "text": [
      "mean Frobenius error: 7.927147733285168e-16\n"
     ]
    }
   ],
   "source": [
    "test_GS(modified_gram_schmidt,1000)"
   ]
  },
  {
   "cell_type": "markdown",
   "metadata": {},
   "source": [
    "## Final comparison (Q1)"
   ]
  },
  {
   "cell_type": "code",
   "execution_count": 273,
   "metadata": {},
   "outputs": [],
   "source": [
    "from itertools import product\n",
    "algo = [\"CGS\",\"MGS\",\"NUMPY_QR\"]\n",
    "inputs = [\"random\",\"random singular\",\"quasi singular\",\"Identity jittered Hilbert\"]\n",
    "metric = [\"||A - Q R||\",\"||Q.T Q - I||\"]\n",
    "\n",
    "results = pd.concat([pd.DataFrame(data= list(product(inputs,metric)),columns=[\"Input\",\"Metric\"]),pd.DataFrame(columns=algo)])\n",
    "results = results.set_index(keys=[\"Input\",\"Metric\"])"
   ]
  },
  {
   "cell_type": "code",
   "execution_count": 274,
   "metadata": {},
   "outputs": [],
   "source": [
    "def test_gs(A: np.array,gs_algo: Callable[[np.array,int],tuple],descr: str):\n",
    "    Q,R = gs_algo(A)\n",
    "    return nla.norm(A - np.matmul(Q,R),'fro'),nla.norm(np.matmul(Q.T,Q) - np.identity(R.shape[0]),'fro')"
   ]
  },
  {
   "cell_type": "code",
   "execution_count": 275,
   "metadata": {},
   "outputs": [],
   "source": [
    "def gen_hilbert(size:int) -> np.array:\n",
    "    H = np.zeros((size,size))\n",
    "    for i in range(size):\n",
    "        for j in range(size):\n",
    "            H[i,j] = 1/(i + j + 1) # zero indexed\n",
    "    return H"
   ]
  },
  {
   "cell_type": "code",
   "execution_count": 276,
   "metadata": {},
   "outputs": [],
   "source": [
    "def compare_test(seed: int, size:int, results: pd.DataFrame):\n",
    "    np.random.seed(seed)\n",
    "    \n",
    "    algo_hash = {\"CGS\":classical_gram_schmidt,\n",
    "                 \"MGS\":modified_gram_schmidt,\n",
    "                 \"NUMPY_QR\":nla.qr}\n",
    "    \n",
    "    rand_square = np.random.randn(size,size)\n",
    "    rand_skinny = np.random.randn(size,np.random.choice(range(1,size)))\n",
    "    rand_singular = np.matmul(rand_skinny,rand_skinny.T)\n",
    "    jitter = np.identity(size)*1e-4\n",
    "    mat_hash = {\"random\" : rand_square,\n",
    "                \"random singular\" : rand_singular,\n",
    "                \"quasi singular\" : jitter + rand_singular,\n",
    "                \"Identity jittered Hilbert\": jitter + gen_hilbert(size)}\n",
    "    \n",
    "    for algo in algo_hash.keys():\n",
    "        for mat in mat_hash.keys():\n",
    "                results.loc[mat,algo] = test_gs(mat_hash[mat],algo_hash[algo],f'input: {mat}, algorithm {algo}')\n",
    "\n",
    "    return results"
   ]
  },
  {
   "cell_type": "code",
   "execution_count": 277,
   "metadata": {},
   "outputs": [
    {
     "data": {
      "text/html": [
       "<div>\n",
       "<style scoped>\n",
       "    .dataframe tbody tr th:only-of-type {\n",
       "        vertical-align: middle;\n",
       "    }\n",
       "\n",
       "    .dataframe tbody tr th {\n",
       "        vertical-align: top;\n",
       "    }\n",
       "\n",
       "    .dataframe thead th {\n",
       "        text-align: right;\n",
       "    }\n",
       "</style>\n",
       "<table border=\"1\" class=\"dataframe\">\n",
       "  <thead>\n",
       "    <tr style=\"text-align: right;\">\n",
       "      <th></th>\n",
       "      <th></th>\n",
       "      <th>CGS</th>\n",
       "      <th>MGS</th>\n",
       "      <th>NUMPY_QR</th>\n",
       "    </tr>\n",
       "    <tr>\n",
       "      <th>Input</th>\n",
       "      <th>Metric</th>\n",
       "      <th></th>\n",
       "      <th></th>\n",
       "      <th></th>\n",
       "    </tr>\n",
       "  </thead>\n",
       "  <tbody>\n",
       "    <tr>\n",
       "      <th rowspan=\"2\" valign=\"top\">random</th>\n",
       "      <th>||A - Q R||</th>\n",
       "      <td>6.05708</td>\n",
       "      <td>1.11022e-16</td>\n",
       "      <td>1.21619e-15</td>\n",
       "    </tr>\n",
       "    <tr>\n",
       "      <th>||Q.T Q - I||</th>\n",
       "      <td>1.90277</td>\n",
       "      <td>4.81935e-16</td>\n",
       "      <td>6.14257e-16</td>\n",
       "    </tr>\n",
       "    <tr>\n",
       "      <th rowspan=\"2\" valign=\"top\">random singular</th>\n",
       "      <th>||A - Q R||</th>\n",
       "      <td>0.545402</td>\n",
       "      <td>7.87346e-17</td>\n",
       "      <td>7.86772e-17</td>\n",
       "    </tr>\n",
       "    <tr>\n",
       "      <th>||Q.T Q - I||</th>\n",
       "      <td>1.81391</td>\n",
       "      <td>1.41421</td>\n",
       "      <td>5.49956e-16</td>\n",
       "    </tr>\n",
       "    <tr>\n",
       "      <th rowspan=\"2\" valign=\"top\">quasi singular</th>\n",
       "      <th>||A - Q R||</th>\n",
       "      <td>0.545492</td>\n",
       "      <td>0</td>\n",
       "      <td>1.60094e-16</td>\n",
       "    </tr>\n",
       "    <tr>\n",
       "      <th>||Q.T Q - I||</th>\n",
       "      <td>1.81317</td>\n",
       "      <td>3.63673e-14</td>\n",
       "      <td>6.21086e-16</td>\n",
       "    </tr>\n",
       "    <tr>\n",
       "      <th rowspan=\"2\" valign=\"top\">Identity jittered Hilbert</th>\n",
       "      <th>||A - Q R||</th>\n",
       "      <td>0.901018</td>\n",
       "      <td>5.55112e-17</td>\n",
       "      <td>1.38778e-16</td>\n",
       "    </tr>\n",
       "    <tr>\n",
       "      <th>||Q.T Q - I||</th>\n",
       "      <td>2.06521</td>\n",
       "      <td>2.15293e-14</td>\n",
       "      <td>5.86758e-16</td>\n",
       "    </tr>\n",
       "  </tbody>\n",
       "</table>\n",
       "</div>"
      ],
      "text/plain": [
       "                                              CGS          MGS     NUMPY_QR\n",
       "Input                     Metric                                           \n",
       "random                    ||A - Q R||     6.05708  1.11022e-16  1.21619e-15\n",
       "                          ||Q.T Q - I||   1.90277  4.81935e-16  6.14257e-16\n",
       "random singular           ||A - Q R||    0.545402  7.87346e-17  7.86772e-17\n",
       "                          ||Q.T Q - I||   1.81391      1.41421  5.49956e-16\n",
       "quasi singular            ||A - Q R||    0.545492            0  1.60094e-16\n",
       "                          ||Q.T Q - I||   1.81317  3.63673e-14  6.21086e-16\n",
       "Identity jittered Hilbert ||A - Q R||    0.901018  5.55112e-17  1.38778e-16\n",
       "                          ||Q.T Q - I||   2.06521  2.15293e-14  5.86758e-16"
      ]
     },
     "execution_count": 277,
     "metadata": {},
     "output_type": "execute_result"
    }
   ],
   "source": [
    "compare_test(1729,3,results)"
   ]
  }
 ],
 "metadata": {
  "kernelspec": {
   "display_name": "Python 3",
   "language": "python",
   "name": "python3"
  },
  "language_info": {
   "codemirror_mode": {
    "name": "ipython",
    "version": 3
   },
   "file_extension": ".py",
   "mimetype": "text/x-python",
   "name": "python",
   "nbconvert_exporter": "python",
   "pygments_lexer": "ipython3",
   "version": "3.8.5"
  }
 },
 "nbformat": 4,
 "nbformat_minor": 4
}
