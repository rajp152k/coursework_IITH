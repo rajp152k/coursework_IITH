{
 "cells": [
  {
   "cell_type": "markdown",
   "metadata": {},
   "source": [
    "## Raj Patil  \n",
    "## CS18BTECH11039"
   ]
  },
  {
   "cell_type": "code",
   "execution_count": null,
   "metadata": {
    "colab": {
     "base_uri": "https://localhost:8080/"
    },
    "id": "tA-NSX82_Vuo",
    "outputId": "6eecc473-ea94-416b-ad0e-cfc5485e2e9b"
   },
   "outputs": [
    {
     "name": "stdout",
     "output_type": "stream",
     "text": [
      "Mounted at /content/drive\n"
     ]
    }
   ],
   "source": [
    "from google.colab import drive\n",
    "drive.mount('/content/drive')"
   ]
  },
  {
   "cell_type": "code",
   "execution_count": null,
   "metadata": {
    "id": "5DaaI6EP_dM4"
   },
   "outputs": [],
   "source": [
    "from pathlib import Path\n",
    "rootdir = Path('/content/drive/MyDrive/DL_A4')\n",
    "assert rootdir.exists()"
   ]
  },
  {
   "cell_type": "code",
   "execution_count": null,
   "metadata": {
    "colab": {
     "base_uri": "https://localhost:8080/"
    },
    "id": "CMNRE8dX6W_x",
    "outputId": "edd992a3-e716-41f2-efac-2002c6573039"
   },
   "outputs": [
    {
     "name": "stdout",
     "output_type": "stream",
     "text": [
      "Automatic pdb calling has been turned ON\n"
     ]
    }
   ],
   "source": [
    "%pdb on"
   ]
  },
  {
   "cell_type": "markdown",
   "metadata": {
    "id": "3z9l7S6RV8-2"
   },
   "source": [
    "#### **Welcome to Assignment 4 (part-1) on Deep Learning for Computer Vision.**\n",
    "In this assignment you will get a chance to implement LSTM cell from Scratch and Usage of Recurrent Neural Network for 1D time series Prediction task .\n",
    "\n",
    "#### **Instructions**\n",
    "1. Use Python 3.x to run this notebook\n",
    "3. Write your code only in between the lines 'YOUR CODE STARTS HERE' and 'YOUR CODE ENDS HERE'.\n",
    "you should not change anything else code cells, if you do, the answers you are supposed to get at the end of this assignment might be wrong.\n",
    "4. Read documentation of each function carefully."
   ]
  },
  {
   "cell_type": "markdown",
   "metadata": {
    "id": "GT8skzfOLu91"
   },
   "source": [
    "## Question 1:\n",
    "\n",
    "Given a sequence of values of a 1D input time series from time t = 1 to t = 5, predict the value of the time series at t = 6 using RNN.\n",
    "\n",
    "Here we trained an RNN in such a way that, given values of input time series from t = 1 to t=i ; it will predict the value at t= i+1.\n",
    "\n",
    "Hint : Design an RNN using pytorch's nn.RNN to create an RNN layer , then add a fully-connected layer to get the required output size.\n",
    "\n",
    "Choose 32 as the number of features in the RNN output and in the hidden state. Also, choose number of layers to be 1 to make up the RNN, typically such number varies depending on different tasks. The value greater than 1 means that you'll create a stacked RNN. Also, use \"batch_first =True\". Here, \"batch_first\" implies whether or not the input/output of the RNN will have the batch_size as the first dimension (batch_size, seq_length, hidden_dim). \n"
   ]
  },
  {
   "cell_type": "code",
   "execution_count": null,
   "metadata": {
    "colab": {
     "base_uri": "https://localhost:8080/"
    },
    "id": "qoVHp8ZWqYpd",
    "outputId": "7b47fa5f-a696-44b0-9167-97720e4427c3"
   },
   "outputs": [
    {
     "name": "stdout",
     "output_type": "stream",
     "text": [
      "\n",
      "0\n",
      "Loss:  1.5117348432540894\n",
      "Predicted Value:  [-0.18635052 -0.00746428  0.05009793  0.05678663 -0.02306957]\n",
      "True Value:  [-0.6117564  -0.5281718  -1.0729686   0.86540765 -2.3015387 ]\n",
      "\n",
      "11\n",
      "Loss:  0.13453072309494019\n",
      "Predicted Value:  [ 0.00849447 -0.31584212 -1.2586135   1.2727582  -2.5075972 ]\n",
      "True Value:  [-0.6117564  -0.5281718  -1.0729686   0.86540765 -2.3015387 ]\n",
      "\n",
      "22\n",
      "Loss:  0.19528236985206604\n",
      "Predicted Value:  [-1.2275374  -0.65807223 -0.54608953  0.45658743 -1.933278  ]\n",
      "True Value:  [-0.6117564  -0.5281718  -1.0729686   0.86540765 -2.3015387 ]\n",
      "\n",
      "33\n",
      "Loss:  0.08917436003684998\n",
      "Predicted Value:  [-0.07242055 -0.87209296 -1.0512483   0.8208605  -2.486608  ]\n",
      "True Value:  [-0.6117564  -0.5281718  -1.0729686   0.86540765 -2.3015387 ]\n",
      "\n",
      "44\n",
      "Loss:  0.03353014960885048\n",
      "Predicted Value:  [-0.893936  -0.4294107 -1.1992261  0.8064023 -2.0589504]\n",
      "True Value:  [-0.6117564  -0.5281718  -1.0729686   0.86540765 -2.3015387 ]\n",
      "\n",
      "55\n",
      "Loss:  0.009381274692714214\n",
      "Predicted Value:  [-0.52645415 -0.6100819  -0.98218405  0.9279828  -2.445633  ]\n",
      "True Value:  [-0.6117564  -0.5281718  -1.0729686   0.86540765 -2.3015387 ]\n",
      "\n",
      "66\n",
      "Loss:  0.005844640079885721\n",
      "Predicted Value:  [-0.6522238  -0.45216984 -1.0666144   0.76586753 -2.192632  ]\n",
      "True Value:  [-0.6117564  -0.5281718  -1.0729686   0.86540765 -2.3015387 ]\n",
      "Final predicted value of input time series at t=6:  -2.3214540481567383\n"
     ]
    }
   ],
   "source": [
    "import torch\n",
    "from torch import nn\n",
    "import numpy as np\n",
    "import matplotlib.pyplot as plt\n",
    "import numpy as np\n",
    "%matplotlib inline\n",
    "\n",
    "\n",
    "## Fixing the seed for Reproducibility\n",
    "np.random.seed(1)\n",
    "torch.manual_seed(1)\n",
    "\n",
    "## Define 1D input time series, which spans from t= 1 to t=6.\n",
    "input_series = np.random.randn(6,1)\n",
    "\n",
    "\n",
    "class RNN(nn.Module):\n",
    "    def __init__(self, input_size, output_size, hidden_dim, n_layers):\n",
    "        super(RNN, self).__init__()\n",
    "\n",
    "        ### YOUR CODE STARTS HERE\n",
    "        self.r_block = nn.RNN(input_size, hidden_dim, n_layers,batch_first=True)\n",
    "        self.fc_out = nn.Linear(hidden_dim,output_size)\n",
    "        self.hidden_dim = hidden_dim\n",
    "\n",
    "    def forward(self, x, hidden):\n",
    "        output,new_hidden = self.r_block(x, hidden)\n",
    "        output =  self.fc_out(output.view(-1,self.hidden_dim))\n",
    "        return output,new_hidden\n",
    "        ### YOUR CODE ENDS HERE\n",
    "\n",
    "# decide on hyperparameters\n",
    "input_size=1    ## 1D input\n",
    "output_size=1   ## 1D output\n",
    "hidden_dim=32  ## Hidden state feature dimension of RNN\n",
    "n_layers=1     ## No. of stacked layers in RNN\n",
    "\n",
    "# instantiate an RNN\n",
    "rnn = RNN(input_size, output_size, hidden_dim, n_layers)\n",
    "\n",
    "# MSE loss and Adam optimizer with a learning rate of 0.01\n",
    "criterion = nn.MSELoss()\n",
    "optimizer = torch.optim.Adam(rnn.parameters(), lr=0.01)\n",
    "\n",
    "# train the RNN\n",
    "def train(rnn, n_steps, print_every):\n",
    "    \n",
    "    # initialize the hidden state\n",
    "    hidden = None      \n",
    "    \n",
    "    for batch_i, step in enumerate(range(n_steps)):\n",
    "        # defining the training data \n",
    "        x = input_series[:-1]\n",
    "        y = input_series[1:]\n",
    "\n",
    "        # convert data into Tensors\n",
    "        x_tensor = torch.Tensor(x).unsqueeze(0) # unsqueeze gives a 1, batch_size dimension\n",
    "        y_tensor = torch.Tensor(y)\n",
    "\n",
    "        # outputs from the rnn\n",
    "        prediction, hidden = rnn(x_tensor, hidden)\n",
    "\n",
    "        ## Representing Memory ##\n",
    "        # make a new variable for hidden and detach the hidden state from its history\n",
    "        # this way, we don't backpropagate through the entire history\n",
    "        hidden = hidden.data\n",
    "\n",
    "        # calculate the loss\n",
    "        loss = criterion(prediction, y_tensor)\n",
    "        # zero gradients\n",
    "        optimizer.zero_grad()\n",
    "        # perform backprop and update weights\n",
    "        loss.backward()\n",
    "        optimizer.step()\n",
    "\n",
    "        # display loss and predictions\n",
    "        if batch_i%print_every == 0: \n",
    "            print() \n",
    "            print (batch_i)      \n",
    "            print('Loss: ', loss.item())\n",
    "            print ('Predicted Value: ', prediction.data.numpy().flatten())\n",
    "            print ('True Value: ', y_tensor.data.numpy().flatten())\n",
    "            \n",
    "    \n",
    "    return rnn,prediction[-1]\n",
    "\n",
    "# train the rnn and monitor results\n",
    "trained_rnn,final_prediction = train(rnn, n_steps = 75, print_every= 11)\n",
    "print ('Final predicted value of input time series at t=6: ',final_prediction.item())"
   ]
  },
  {
   "cell_type": "markdown",
   "metadata": {
    "id": "6zfAVRvIFjxh"
   },
   "source": [
    "## Question 2:\n",
    "\n",
    "Given a Multivariate input time sequence and all the trainable parameters of LSTM Cell; Implement all the functionalities of the LSTM cell in order to predict the hidden state and output at time=t; given LSTM \"cell state\" at previous time step (t= t-1), LSTM \"hidden state\" at previous time step ( t= t-1) and the input at time=t. Hint : Follow the following sets of equation for implementing the functionality of LSTM Cell.\n",
    "\n",
    "Forget GATE: $f_{t} = \\sigma(W_{f}[ a_{t-1} ; x_{t}]  + b_{f}) $ (Note that \";\" denotes contatenation operation.)\n",
    "\n",
    "Update GATE: $i_{t} = \\sigma(W_{i}[ a_{t-1} ; x_{t} ] + b_i )$\n",
    "\n",
    "Memory GATE: $\\tilde{c}_{t} = tanh(W_c[ a_{t-1} ; x_{t} ] + b_c )$\n",
    "            update step -> $c_{t} =  f_{t} * c_{t-1} + i_{t} * \\tilde{c}_{t}$  (This operation determines how much information to keep from past and how much to add from current step information)\n",
    "\n",
    "Output GATE: $o_{t} = \\sigma(W_o [ a_{t-1} ; x_{t} ] + b_o)$\n",
    "           Final Output: $a_{t} = o_{t}*tanh(c_t) $\n",
    "( Note: For implementing \"tanh\" operation; use numpy.tanh libary function)\n",
    "\n",
    "\n",
    "a> Compute the value of a specific component of LSTM cell \"Output\" (y), i.e. y[1, 3, 4]? \n",
    "\n",
    "b> Also find the value of a specific component of LSTM hidden state output(a) ; i.e. a[2,1,5].\n",
    "\n",
    "\n"
   ]
  },
  {
   "cell_type": "code",
   "execution_count": null,
   "metadata": {
    "colab": {
     "base_uri": "https://localhost:8080/"
    },
    "id": "FOok6KSeaJ1o",
    "outputId": "855b3ef2-7023-45e0-9f1f-713e01a82bf1"
   },
   "outputs": [
    {
     "name": "stdout",
     "output_type": "stream",
     "text": [
      "y[1][3][4] = 0.5759756486865839\n",
      "y.shape =  (2, 10, 7)\n",
      "a[2][1][5] =  0.023019435434183624\n",
      "a.shape =  (5, 10, 7)\n"
     ]
    }
   ],
   "source": [
    "\n",
    "import numpy as np\n",
    "np.random.seed(2)\n",
    "\n",
    "## Function implements Sigmoid Activation\n",
    "def sigmoid(x):\n",
    "    return 1 / (1 + np.exp(-x))\n",
    "\n",
    "## Function implements Softmax Activation\n",
    "def softmax(x):\n",
    "    e_x = np.exp(x - np.max(x))\n",
    "    return e_x / e_x.sum(axis=0)\n",
    "\n",
    "## Function implements LSTM \"forward pass\" of a single time step..i.e. given x at time step t, hidden state \n",
    "##at previous time step Memory state at previous time step , this function computes predicted output y at time step t. \n",
    "\n",
    "def lstm_forward_pass(xt, a_prev, c_prev, parameters):\n",
    "    \"\"\"\n",
    "    Implement a single forward step of the LSTM-cell \n",
    "\n",
    "    Arguments:\n",
    "    xt -- your input data at timestep \"t\"\n",
    "    a_prev -- Hidden state at timestep \"t-1\"\n",
    "    c_prev -- Memory state at timestep \"t-1\"\n",
    "\n",
    "    # Trainable Parameters of a LSTM cell\n",
    "    Wf -- Weight matrix of the forget gate; bf -- Bias of the forget gate\n",
    "    Wi -- Weight matrix of the update gate; bi -- Bias of the update gate\n",
    "    Wc -- Weight matrix of the first \"tanh\"; bc --  Bias of the first \"tanh\"\n",
    "    Wo -- Weight matrix of the output gate; bo --  Bias of the output gate\n",
    "    Wy -- Weight matrix relating the hidden-state to the output; by -- Bias relating the hidden-state to the output\n",
    "                        \n",
    "    The LSTM Cell MUST Return:\n",
    "    a_next -- next hidden state\n",
    "    c_next -- next memory state\n",
    "    yt_pred -- LSTM output prediction at timestep \"t\"\n",
    "    cache -- tuple of values needed for the backward pass, contains (a_next, c_next, a_prev, c_prev, xt, parameters)\n",
    "    Note: ft/it/ot stand for the forget/update/output gates, cct stands for the candidate value (c tilde),\n",
    "          c stands for the memory value\n",
    "    \"\"\"\n",
    "\n",
    "    # Retrieve parameters from \"parameters\"\n",
    "    Wf = parameters[\"Wf\"]; bf = parameters[\"bf\"]\n",
    "    Wi = parameters[\"Wi\"]; bi = parameters[\"bi\"]\n",
    "    Wc = parameters[\"Wc\"]; bc = parameters[\"bc\"]\n",
    "    Wo = parameters[\"Wo\"]; bo = parameters[\"bo\"]\n",
    "    Wy = parameters[\"Wy\"]; by = parameters[\"by\"]\n",
    "    \n",
    "    # Retrieve dimensions from shapes of xt and Wy\n",
    "    n_x, m = xt.shape\n",
    "    n_y, n_a = Wy.shape\n",
    "\n",
    "    ### YOUR CODE STARTS HERE ###\n",
    "    concat = np.concatenate((a_prev,xt))\n",
    "    ft = sigmoid(Wf @ concat + bf)\n",
    "    it = sigmoid(Wi @ concat + bi)\n",
    "    \n",
    "    cct = np.tanh(Wc @ concat + bc)\n",
    "    c_next = it*cct + ft*c_prev\n",
    "\n",
    "    ot = sigmoid(Wo @ concat + bo)\n",
    "    a_next = ot * np.tanh(c_next) \n",
    "\n",
    "    yt_pred = Wy @ a_next + by\n",
    "    ### YOUR CODE ENDS HERE ###\n",
    "\n",
    "    # store values needed for backward propagation in cache\n",
    "    cache = (a_next, c_next, a_prev, c_prev, ft, it, cct, ot, xt, parameters)\n",
    "\n",
    "    return a_next, c_next, yt_pred, cache\n",
    "\n",
    "def lstm_forward(x, a0, parameters):\n",
    "    \"\"\"\n",
    "    Implement the forward propagation of the recurrent neural network using an LSTM-cell.\n",
    "\n",
    "    Arguments:\n",
    "    x -- Input data for every time-step\n",
    "    a0 -- Initial hidden state of LSTM cell\n",
    "    parameters \n",
    "    Wf -- Weight matrix of the forget gate ;bf -- Bias of the forget gate\n",
    "    Wi -- Weight matrix of the update gate ;bi -- Bias of the update gate\n",
    "    Wc -- Weight matrix of the first \"tanh\";bc -- Bias of the first \"tanh\"\n",
    "    Wo -- Weight matrix of the output gate; bo -- Bias of the output gate\n",
    "    Wy -- Weight matrix relating the hidden-state to the output; by -- Bias relating the hidden-state to the output\n",
    "                        \n",
    "    This Function call MUST Returns:\n",
    "    a -- Hidden states for every time-step, numpy array of shape (n_a, m, T_x)\n",
    "    y -- Predictions for every time-step, numpy array of shape (n_y, m, T_x)\n",
    "    c -- Memory states for every time-step\n",
    "    caches -- tuple of values needed for the backward pass, contains (list of all the caches, x)\n",
    "    \"\"\"\n",
    "\n",
    "    # Initialize \"caches\", which will track the list of all the caches\n",
    "    caches = []\n",
    "    \n",
    "    ### YOUR CODE STARTS HERE ###\n",
    "    ai = a0\n",
    "    ci = np.zeros_like(parameters[\"bc\"])\n",
    "    \n",
    "    # could use cache but maintaining separate lists for easier stacking\n",
    "    yis = []\n",
    "    ais = []\n",
    "    cis = []\n",
    "    \n",
    "    for i in range(x.shape[2]):\n",
    "        #print(i)\n",
    "        xi = x[:,:,i]\n",
    "        #print(xi.shape)\n",
    "        ai,ci,yi,cache_i = lstm_forward_pass(xi,ai,ci,parameters)\n",
    "        caches.append(cache_i)\n",
    "        ais.append(ai)\n",
    "        yis.append(yi)\n",
    "        cis.append(ci)\n",
    "        \n",
    "    a = np.stack(ais,axis=-1)\n",
    "    y = np.stack(yis,axis=-1)\n",
    "    c = np.stack(cis,axis=-1)     \n",
    "\n",
    "    ### YOUR CODE ENDS HERE ###\n",
    "\n",
    "    # store values needed for backward propagation in cache\n",
    "    caches = (caches, x)\n",
    "    \n",
    "\n",
    "    return a, y, c, caches\n",
    "\n",
    "# Input time sequence\n",
    "x = np.random.randn(3,10,7)\n",
    "\n",
    "# Initial Hidden state of LSTM\n",
    "a0 = np.random.randn(5,10)\n",
    "\n",
    "# Weight and Bias Parameters of FORGET gate\n",
    "Weight_f = np.random.randn(5, 8); bias_f = np.random.randn(5,1)\n",
    "\n",
    "# Weight and Bias Parameters of UPDATE gate\n",
    "Weight_i = np.random.randn(5, 8); bias_i = np.random.randn(5,1)\n",
    "\n",
    "# Weight and Bias Parameters of OUTPUT gate\n",
    "Weight_o = np.random.randn(5, 8); bias_o = np.random.randn(5,1)\n",
    "\n",
    "# Weight and Bias Parameters of MEMORY gate (updating the cell)\n",
    "Weight_c = np.random.randn(5, 8); bias_c = np.random.randn(5,1)\n",
    "\n",
    "# Weight and bias for transforming hidden state output to final LSTM output for downstream application\n",
    "Weight_y = np.random.randn(2,5); bias_y = np.random.randn(2,1)\n",
    "\n",
    "LSTM_parameters = {\"Wf\": Weight_f,\n",
    "                   \"Wi\": Weight_i,\n",
    "                   \"Wo\": Weight_o,\n",
    "                   \"Wc\": Weight_c,\n",
    "                   \"Wy\": Weight_y,\n",
    "                   \"bf\": bias_f,\n",
    "                   \"bi\": bias_i,\n",
    "                   \"bo\": bias_o,\n",
    "                   \"bc\": bias_c,\n",
    "                   \"by\": bias_y}\n",
    "\n",
    "a, y, c, caches = lstm_forward(x, a0, LSTM_parameters)\n",
    "\n",
    "## Print the specific component value of LSTM cell \"Output\" (y) ;i.e. y[1,3,4]\n",
    "print(\"y[1][3][4] =\", y[1][3][4])\n",
    "print(\"y.shape = \", y.shape)\n",
    "\n",
    "## Print the specific component value of LSTM \"hidden state\" Output (a) ;i.e. a[2,1,5]\n",
    "print(\"a[2][1][5] = \", a[2][1][5])\n",
    "print(\"a.shape = \", a.shape)"
   ]
  },
  {
   "cell_type": "markdown",
   "metadata": {
    "id": "2SQRxSU9Tkwx"
   },
   "source": [
    "## Question 3:\n",
    "\n",
    "Time series prediction using recurrent models. \n",
    "\n",
    "Use the airline-passengers.csv file for this task.\n",
    "\n"
   ]
  },
  {
   "cell_type": "code",
   "execution_count": null,
   "metadata": {
    "colab": {
     "base_uri": "https://localhost:8080/",
     "height": 36
    },
    "id": "Cqb3f3mOmEWv",
    "outputId": "19f054d4-51f2-44f6-a83c-097742e5c90e"
   },
   "outputs": [
    {
     "data": {
      "application/vnd.google.colaboratory.intrinsic+json": {
       "type": "string"
      },
      "text/plain": [
       "'./airline-passengers.csv'"
      ]
     },
     "execution_count": 5,
     "metadata": {
      "tags": []
     },
     "output_type": "execute_result"
    }
   ],
   "source": [
    "import shutil\n",
    "shutil.copy(rootdir/'airline-passengers.csv','./airline-passengers.csv')"
   ]
  },
  {
   "cell_type": "code",
   "execution_count": null,
   "metadata": {
    "colab": {
     "base_uri": "https://localhost:8080/",
     "height": 264
    },
    "id": "5e5Athrzw-DA",
    "outputId": "44dc4961-2db6-4eeb-c682-6f4ee15a1067"
   },
   "outputs": [
    {
     "data": {
      "image/png": "[encoded data removed]",
      "text/plain": [
       "<Figure size 432x288 with 1 Axes>"
      ]
     },
     "metadata": {
      "needs_background": "light",
      "tags": []
     },
     "output_type": "display_data"
    }
   ],
   "source": [
    "import numpy as np\n",
    "import matplotlib.pyplot as plt\n",
    "import pandas as pd\n",
    "import torch\n",
    "import torch.nn as nn\n",
    "from torch.autograd import Variable\n",
    "from sklearn.preprocessing import MinMaxScaler\n",
    "\n",
    "training_set = pd.read_csv('airline-passengers.csv')\n",
    "#training_set = pd.read_csv('shampoo.csv')\n",
    "\n",
    "training_set = training_set.iloc[:,1:2].values\n",
    "\n",
    "#plt.plot(training_set, label = 'Shampoo Sales Data')\n",
    "plt.plot(training_set, label = 'Airline Passangers Data')\n",
    "plt.show()"
   ]
  },
  {
   "cell_type": "markdown",
   "metadata": {
    "id": "_qo-Bn3vxGvD"
   },
   "source": [
    "## Prepare the training and testing dataset.\n"
   ]
  },
  {
   "cell_type": "code",
   "execution_count": null,
   "metadata": {
    "id": "ZCFod5yYxQXt"
   },
   "outputs": [],
   "source": [
    "def sliding_windows(data, seq_length):\n",
    "    x = []\n",
    "    y = []\n",
    "\n",
    "    for i in range(len(data)-seq_length-1):\n",
    "        _x = data[i:(i+seq_length)]\n",
    "        _y = data[i+seq_length]\n",
    "        x.append(_x)\n",
    "        y.append(_y)\n",
    "\n",
    "    return np.array(x),np.array(y)\n",
    "\n",
    "sc = MinMaxScaler()\n",
    "training_data = sc.fit_transform(training_set)\n",
    "\n",
    "seq_length = 4\n",
    "x, y = sliding_windows(training_data, seq_length)\n",
    "\n",
    "train_size = int(len(y) * 0.67)\n",
    "test_size = len(y) - train_size\n",
    "\n",
    "dataX = Variable(torch.Tensor(np.array(x)))\n",
    "dataY = Variable(torch.Tensor(np.array(y)))\n",
    "\n",
    "trainX = Variable(torch.Tensor(np.array(x[0:train_size])))\n",
    "trainY = Variable(torch.Tensor(np.array(y[0:train_size])))\n",
    "\n",
    "testX = Variable(torch.Tensor(np.array(x[train_size:len(x)])))\n",
    "testY = Variable(torch.Tensor(np.array(y[train_size:len(y)])))"
   ]
  },
  {
   "cell_type": "markdown",
   "metadata": {
    "id": "6-fbsv6_xVhu"
   },
   "source": [
    "## Create the model"
   ]
  },
  {
   "cell_type": "code",
   "execution_count": null,
   "metadata": {
    "id": "KC_5L1NIxUsR"
   },
   "outputs": [],
   "source": [
    "class LSTM(nn.Module):\n",
    "\n",
    "    def __init__(self, num_classes, input_size, hidden_size, num_layers):\n",
    "        super(LSTM, self).__init__()\n",
    "        \n",
    "        self.num_classes = num_classes\n",
    "        self.num_layers = num_layers\n",
    "        self.input_size = input_size\n",
    "        self.hidden_size = hidden_size\n",
    "        self.seq_length = seq_length\n",
    "\n",
    "        # Your code goes here\n",
    "        self.lstm_block = nn.LSTM(input_size,hidden_size,num_layers,batch_first=True)\n",
    "        self.fc = nn.Linear(hidden_size,num_classes)\n",
    "        # define a lstm block and a fc block\n",
    "\n",
    "    def forward(self, x):\n",
    "       \n",
    "        # Your code goes here\n",
    "        # Define a forward function for the LSTM block\n",
    "\n",
    "        h0 = Variable(torch.zeros(self.num_layers,x.size(0),self.hidden_size))\n",
    "        c0 = Variable(torch.zeros(self.num_layers,x.size(0),self.hidden_size))\n",
    "\n",
    "        output, (hn,cn) = self.lstm_block(x,(h0,c0))\n",
    "        hn = hn.view(-1,self.hidden_size)\n",
    "        out = self.fc(hn)\n",
    "    \n",
    "        return out"
   ]
  },
  {
   "cell_type": "markdown",
   "metadata": {
    "id": "sQKOnThFxxuJ"
   },
   "source": [
    "## Training"
   ]
  },
  {
   "cell_type": "code",
   "execution_count": null,
   "metadata": {
    "colab": {
     "base_uri": "https://localhost:8080/"
    },
    "id": "vlj9F1Z6xxFR",
    "outputId": "c8839356-d5f0-4f82-bf10-23ef5176bfe3"
   },
   "outputs": [
    {
     "name": "stdout",
     "output_type": "stream",
     "text": [
      "Epoch: 0, loss: 0.61261\n",
      "Epoch: 100, loss: 0.01168\n",
      "Epoch: 200, loss: 0.00565\n",
      "Epoch: 300, loss: 0.00275\n",
      "Epoch: 400, loss: 0.00259\n",
      "Epoch: 500, loss: 0.00248\n",
      "Epoch: 600, loss: 0.00237\n",
      "Epoch: 700, loss: 0.00227\n",
      "Epoch: 800, loss: 0.00218\n",
      "Epoch: 900, loss: 0.00210\n",
      "Epoch: 1000, loss: 0.00204\n",
      "Epoch: 1100, loss: 0.00198\n",
      "Epoch: 1200, loss: 0.00193\n",
      "Epoch: 1300, loss: 0.00188\n",
      "Epoch: 1400, loss: 0.00183\n",
      "Epoch: 1500, loss: 0.00179\n",
      "Epoch: 1600, loss: 0.00175\n",
      "Epoch: 1700, loss: 0.00172\n",
      "Epoch: 1800, loss: 0.00170\n",
      "Epoch: 1900, loss: 0.00169\n"
     ]
    }
   ],
   "source": [
    "num_epochs = 2000\n",
    "learning_rate = 0.01\n",
    "\n",
    "input_size = 1\n",
    "hidden_size = 2\n",
    "num_layers = 1\n",
    "\n",
    "num_classes = 1\n",
    "\n",
    "lstm = LSTM(num_classes, input_size, hidden_size, num_layers)\n",
    "\n",
    "criterion = torch.nn.MSELoss()    # mean-squared error for regression\n",
    "optimizer = torch.optim.Adam(lstm.parameters(), lr=learning_rate)\n",
    "#optimizer = torch.optim.SGD(lstm.parameters(), lr=learning_rate)\n",
    "\n",
    "# Train the model\n",
    "for epoch in range(num_epochs):\n",
    "\n",
    "    # Your code goes here\n",
    "    # define a training iteration to the lstm model. Use loss variable to compute the training loss\n",
    "\n",
    "    outputs = lstm(trainX)\n",
    "    optimizer.zero_grad()\n",
    "\n",
    "    loss = criterion(outputs,trainY)\n",
    "    loss.backward()\n",
    "\n",
    "    optimizer.step()\n",
    "\n",
    "    if epoch % 100 == 0:\n",
    "      print(\"Epoch: %d, loss: %1.5f\" % (epoch, loss.item()))"
   ]
  },
  {
   "cell_type": "markdown",
   "metadata": {
    "id": "gF0UsfR8yFrO"
   },
   "source": [
    "## Test and Visualize the results. \n",
    "Plot the output of time series similar to the data plot above."
   ]
  },
  {
   "cell_type": "code",
   "execution_count": null,
   "metadata": {
    "colab": {
     "base_uri": "https://localhost:8080/",
     "height": 281
    },
    "id": "y7-eERYByJ3O",
    "outputId": "cf167aab-fe79-493c-fa1a-cdc7ae75c8c2"
   },
   "outputs": [
    {
     "data": {
      "image/png": "[encoded data removed]",
      "text/plain": [
       "<Figure size 432x288 with 1 Axes>"
      ]
     },
     "metadata": {
      "needs_background": "light",
      "tags": []
     },
     "output_type": "display_data"
    }
   ],
   "source": [
    "def rescale(preds):\n",
    "    preds = preds*(max(training_set) - min(training_set)) + min(training_set)\n",
    "    return preds\n",
    "\n",
    "with torch.no_grad():\n",
    "\n",
    "    # rescaling predictions back to original data\n",
    "    train_preds = rescale(lstm(trainX))\n",
    "    test_preds = rescale(lstm(testX))\n",
    "\n",
    "    # aligning predictions to corresponding time frames\n",
    "    # won't be able to predict starting seq_length values for each train and test set\n",
    "    train_range = range(seq_length,len(train_preds)+seq_length)\n",
    "    test_range = range(len(train_preds)+seq_length,len(train_preds) + len(test_preds)+seq_length)\n",
    "\n",
    "    plt.plot(train_range,train_preds,'b--',label='Train predictions')\n",
    "    plt.plot(test_range,test_preds,'r-',label='Test predictions')\n",
    "    \n",
    "    plt.plot(training_set, 'y--',label = 'Actual Data')\n",
    "    plt.legend()\n",
    "    plt.title('Predictions')\n",
    "    plt.show()\n"
   ]
  },
  {
   "cell_type": "markdown",
   "metadata": {
    "id": "OPTjxV0G6g8X"
   },
   "source": [
    "#### **Welcome to Assignment 4 (part-2) on Deep Learning for Computer Vision.**\n",
    "This question consists of two subsection. In subsection-1 you'll have to code a Siamese Network, for subsection-2 you need to go through a official PyTorch tutorial on Object Detection, understand it and answer some questions.\n",
    "  \n",
    "#### **Instructions**\n",
    "1. Use Python 3.x to run this notebook\n",
    "2. Write your code only in between the lines 'YOUR CODE STARTS HERE' and 'YOUR CODE ENDS HERE'.\n",
    "you should not change anything else in the code cells, if you do, the answers you are supposed to get at the end of this assignment might be wrong.\n",
    "3. Read documentation of each function carefully.\n",
    "4. All the Best!"
   ]
  },
  {
   "cell_type": "code",
   "execution_count": null,
   "metadata": {
    "id": "tJwH6jxrqI-5"
   },
   "outputs": [],
   "source": [
    "import numpy as np\n",
    "import torch\n",
    "import torch.nn as nn\n",
    "import torch.optim as optim\n",
    "from torchvision import datasets, transforms\n",
    "import torch.nn.functional as F\n",
    "from torch.utils.data import Dataset\n",
    "from torch.utils.data.sampler import BatchSampler\n",
    "from torch.optim import lr_scheduler\n",
    "from PIL import Image\n",
    "import timeit\n",
    "import itertools\n",
    "\n",
    "## Please DONOT remove these lines. \n",
    "torch.manual_seed(0)\n",
    "torch.backends.cudnn.deterministic = True\n",
    "torch.backends.cudnn.benchmark = False\n",
    "np.random.seed(0)\n",
    "########################\n",
    "\n",
    "#### YOUR CODE STARTS HERE ####\n",
    "# Check availability of GPU and set the device accordingly\n",
    "device = 'cuda:0' if torch.cuda.is_available() else 'cpu'\n",
    "device = torch.device(device)\n",
    "#### YOUR CODE ENDS HERE ####\n"
   ]
  },
  {
   "cell_type": "markdown",
   "metadata": {
    "id": "nhSvcqdYqJ6U"
   },
   "source": [
    "#### Prepare the dataset for Siamese Network"
   ]
  },
  {
   "cell_type": "code",
   "execution_count": null,
   "metadata": {
    "id": "stYbGPoLqzDE"
   },
   "outputs": [],
   "source": [
    "class SiameseDataset(Dataset):\n",
    "    def __init__(self, train=True):\n",
    "        \n",
    "        self.train = train\n",
    "        #### YOUR CODE STARTS HERE ####\n",
    "        # Define a set of transforms for preparing the dataset\n",
    "        self.transform =  transforms.Compose(\n",
    "            [transforms.ToTensor(),\n",
    "             transforms.Normalize((0.5),(0.5))])\n",
    "        # convert the image to a pytorch tensor\n",
    "        # normalise the images with mean and std of the dataset\n",
    "        \n",
    "        # Load the MNIST training, test datasets using `torchvision.datasets.MNIST\n",
    "        # Set the train parameter to self.train and transform parameter to self.transform\n",
    "        self.dataset = datasets.MNIST(root=rootdir/'MNIST',\n",
    "                                                  train=self.train,\n",
    "                                                  download=True,\n",
    "                                                  transform=self.transform)\n",
    "        # auxillary func\n",
    "        labels_idcs = lambda l,y: [i for i in range(len(y)) if y[i].item()==l]\n",
    "\n",
    "        #### YOUR CODE ENDS HERE ####\n",
    "        if self.train:\n",
    "            #### YOUR CODE STARTS HERE ####\n",
    "\n",
    "            # assign input (x-values) of training data \n",
    "            self.train_data = torch.stack([data[0] for data in self.dataset])\n",
    "            # assign labels of training data \n",
    "            self.train_labels = torch.tensor([data[1] for data in self.dataset])\n",
    "            # get the set of all the labels in the dataset\n",
    "            self.labels_all = {i for i in range(10)}# saving some computation\n",
    "            self.label_to_idx = {i:label_idcs(i,self.train_labels) for i in labels_all} # assign a unique index to all labels in the dataset and store them in a dictionary \n",
    "\n",
    "            #### YOUR CODE ENDS HERE ####\n",
    "        else:\n",
    "            #### YOUR CODE STARTS HERE ####\n",
    "            # assign input (x-values) of test data \n",
    "            self.test_data = torch.stack([data[0] for data in self.dataset])\n",
    "            # assign labels of test data \n",
    "            self.test_labels = torch.tensor([data[1] for data in self.dataset])\n",
    "            # get the set of all the labels in the dataset\n",
    "            self.labels_all = {i for i in range(10)}\n",
    "            self.label_to_idx = {i:label_idcs(i,self.test_labels) for i in labels_all} # assign a unique index to all labels in the dataset and store them in a dictionary \n",
    "\n",
    "            #### YOUR CODE ENDS HERE ####\n",
    "            # DONOT change this line of code  \n",
    "            random_state = np.random.RandomState(0)\n",
    "\n",
    "            positive_samples = [] # this will be a list of lists\n",
    "            for ind in range(0, len(self.test_data), 2):\n",
    "              positive_samples.append([ind, random_state.choice(self.label_to_idx[self.test_labels[ind].item()]), 1])\n",
    "            \n",
    "            negative_samples = []\n",
    "            for ind in range(1, len(self.test_data), 2):\n",
    "              negative_samples.append([ind, random_state.choice(self.label_to_idx[np.random.choice(\n",
    "                                                           list(self.labels_all - set([self.test_labels[ind].item()])))]), 0])\n",
    "            \n",
    "            # combine both positive and negative samples into a single variable\n",
    "            #### YOUR CODE STARTS HERE ####\n",
    "            get_list = lambda i: negative_samples if i%2 else positive_samples\n",
    "            self.test_samples = [get_list(i)[i//2] for i in range(len(self.test_labels))]  \n",
    "            #### YOUR CODE ENDS HERE ####\n",
    "    def __len__(self):\n",
    "        return len(self.dataset)\n",
    "\n",
    "    def __getitem__(self, index):\n",
    "        # get image pair, and the associated label (1 for similar, 0 for dissimilar)\n",
    "        if self.train:\n",
    "            #### YOUR CODE STARTS HERE ####\n",
    "            # choose if training sample is similar or dissimilar\n",
    "            target = np.random.choice([0,1])\n",
    "            # choose two images call them `first_image` and `second_image`\n",
    "            def get_index(l,s):\n",
    "                #args: label and similarity\n",
    "                nrc,li,ls = np.random.choice,self.label_to_idx,self.labels_all\n",
    "                return nrc(li[l]) if s else nrc(li[nrc(list(ls-{l}))])\n",
    "            \n",
    "            first_image = self.train_data[index].squeeze()\n",
    "            second_image = self.train_data[get_index(self.train_labels[index].item(),target)].squeeze()\n",
    "            #### YOUR CODE ENDS HERE ####\n",
    "        else:\n",
    "            #### YOUR CODE STARTS HERE ####\n",
    "            # select two images from self.test_samples, call them `first_image` and `second_image`\n",
    "            first_image = self.test_data[self.test_samples[index][0]].squeeze()\n",
    "            second_image = self.test_data[self.test_samples[index][1]].squeeze()\n",
    "            target = self.test_samples[index][2]\n",
    "            #### YOUR CODE ENDS HERE ####\n",
    "        \n",
    "        first_image = Image.fromarray(first_image.numpy(), mode='L')\n",
    "        second_image = Image.fromarray(second_image.numpy(), mode='L')\n",
    "        first_image = self.transform(first_image)\n",
    "        second_image = self.transform(second_image)\n",
    "        return (first_image, second_image), target\n"
   ]
  },
  {
   "cell_type": "code",
   "execution_count": null,
   "metadata": {
    "id": "9gEE-dEarnvg"
   },
   "outputs": [],
   "source": [
    "class EmbeddingNet(nn.Module):\n",
    "    def __init__(self):\n",
    "        super(EmbeddingNet, self).__init__()\n",
    "        #### YOUR CODE STARTS HERE ####\n",
    "        # Define a sequential block as per the instructions below:\n",
    "        # Build three blocks with each block containing: Conv->PReLU->Maxpool layers\n",
    "        # Three conv layers should have 16, 32, 64 output channels respectively\n",
    "        # Use convolution kernel size 3\n",
    "        # For maxpool use a kernel size of 2 and stride of 2\n",
    "\n",
    "        def base_block(in_c,out_c):\n",
    "            return nn.Sequential(nn.Conv2d(in_c,out_c,3),\n",
    "                                 nn.PReLU(),\n",
    "                                 nn.MaxPool2d(kernel_size=2,stride=2))\n",
    "    \n",
    "        self.convnet = nn.Sequential(base_block(1,16),\n",
    "                                     base_block(16,32),\n",
    "                                     base_block(32,64)) \n",
    "\n",
    "        # Define linear->PReLU->linear->PReLU->linear\n",
    "        # The first two linear layers should have 256 and 128 output nodes\n",
    "        # The final FC layer should have 2 nodes\n",
    "        self.fc = nn.Sequential(nn.Linear(1*1*64,256),\n",
    "                                nn.PReLU(),\n",
    "                                nn.Linear(256,128),\n",
    "                                nn.PReLU(),\n",
    "                                nn.Linear(128,2))\n",
    "\n",
    "        #### YOUR CODE ENDS HERE ####\n",
    "\n",
    "    def forward(self, x):\n",
    "      #### YOUR CODE STARTS HERE ####\n",
    "        # Define the forward pass, convnet -> fc\n",
    "        \n",
    "        output = self.convnet(x)\n",
    "        output = self.fc(output.reshape(-1,64))\n",
    "        #### YOUR CODE ENDS HERE ####\n",
    "        return output"
   ]
  },
  {
   "cell_type": "code",
   "execution_count": null,
   "metadata": {
    "id": "JPIClNjsrz78"
   },
   "outputs": [],
   "source": [
    "class SiameseNetwork(nn.Module):\n",
    "    def __init__(self, embedding_net):\n",
    "        super(SiameseNetwork, self).__init__()\n",
    "        self.embedding_net = embedding_net\n",
    "\n",
    "    def forward(self, x1, x2):\n",
    "        # Call the embedding network for both the inputs and return the output\n",
    "        #### YOUR CODE ENDS HERE ####\n",
    "        op1 = self.embedding_net(x1)\n",
    "        op2 = self.embedding_net(x2)\n",
    "        #### YOUR CODE ENDS HERE ####\n",
    "        return op1, op2"
   ]
  },
  {
   "cell_type": "markdown",
   "metadata": {
    "id": "nzlZzVgmM3hC"
   },
   "source": [
    "Pairwise contrastive loss\n",
    "$$\n",
    "L\\left(x_{0}, x_{1}, y\\right)=\\frac{1}{2} y\\left\\|f\\left(x_{0}\\right)-f\\left(x_{1}\\right)\\right\\|_{2}^{2}+\\frac{1}{2}(1-y)\\left\\{\\max (0, m-\\sqrt{\\|f(x_{0})-f(x_{1})\\|_{2}^{2} + \\epsilon)})\\right\\}^{2}\n",
    "$$"
   ]
  },
  {
   "cell_type": "code",
   "execution_count": null,
   "metadata": {
    "id": "BclsdWZSr4RK"
   },
   "outputs": [],
   "source": [
    "class ContrastiveLossSiamese(nn.Module):\n",
    "\n",
    "    def __init__(self, margin):\n",
    "        super(ContrastiveLossSiamese, self).__init__()\n",
    "        self.margin = margin\n",
    "        self.eps = 1e-9\n",
    "\n",
    "    def forward(self, output1, output2, target):\n",
    "        # Use the equation mentioned above to define the loss\n",
    "        #### YOUR CODE STARTS HERE ####\n",
    "        l2_norm_2 = F.pairwise_distance(output1,output2,eps=self.eps)\n",
    "        true_match_l = target*torch.pow(l2_norm_2,2)\n",
    "        true_diff_l = (1-target)*torch.pow(torch.clamp(self.margin - l2_norm_2,min=0.),2)\n",
    "        loss_value = true_match_l + true_diff_l\n",
    "        #### YOUR CODE ENDS HERE ####\n",
    "        loss_value = loss_value.mean()\n",
    "\n",
    "        return loss_value"
   ]
  },
  {
   "cell_type": "code",
   "execution_count": null,
   "metadata": {
    "id": "ZVrUkFLmca1I"
   },
   "outputs": [],
   "source": [
    "def train(model, train_loader, device, optimizer, criterion, epoch):\n",
    "    model.train()\n",
    "    losses = []\n",
    "    total_loss = 0\n",
    "\n",
    "    for batch_idx, (data, target) in enumerate(train_loader):\n",
    "        target = target if len(target) > 0 else None\n",
    "        #### YOUR CODE STARTS HERE ####\n",
    "        # send the image, target to the device\n",
    "        # data is not a single value here,\n",
    "        # ensure datatype of variable `data` is tuple\n",
    "        data = data[0].to(device),data[1].to(device)\n",
    "        target = target.to(device)\n",
    "        # flush out the gradients stored in optimizer\n",
    "        optimizer.zero_grad()\n",
    "        # pass the image to the model and assign the output to variable named outputs\n",
    "        # python star operator will be useful here\n",
    "        # if the datatype of outputs is not a tuple, make it to a tuple\n",
    "\n",
    "        outputs = model(*data)\n",
    "\n",
    "        # create inputs to the contrastive loss (datatype should be tuple)\n",
    "        # calculate the loss using criterion \n",
    "        loss = criterion(*outputs,target)\n",
    "        # append the loss to losses list and update the total_loss variable\n",
    "        losses.append(loss)\n",
    "        total_loss += loss\n",
    "        # do a backward pass\n",
    "        loss.backward()\n",
    "        # update the weights\n",
    "        optimizer.step()\n",
    "        #### YOUR CODE ENDS HERE ####\n",
    "\n",
    "        if batch_idx % 20 == 0:\n",
    "            print('Train Epoch: {} [{}/{} ({:.0f}%)]\\tLoss: {:.6f}'.format(\n",
    "                epoch, batch_idx * len(data[0]), len(train_loader.dataset),\n",
    "                100. * batch_idx / len(train_loader), np.mean([loss.item() for loss in losses])))  \n",
    "    total_loss /= (batch_idx + 1)\n",
    "    print('Average loss on training set: {:.6f}'.format(total_loss))\n",
    "\n",
    "    return total_loss\n",
    "\n",
    "def test(model, test_loader, device, criterion):\n",
    "    model.eval()\n",
    "    test_loss = 0\n",
    "    with torch.no_grad():\n",
    "        for batch_idx, (data, target) in enumerate(test_loader):\n",
    "          target = target if len(target) > 0 else None\n",
    "          #### YOUR CODE STARTS HERE ####\n",
    "          # send the image, target to the device\n",
    "          # data is not a single value here,\n",
    "          # ensure datatype of variable `data` is tuple\n",
    "          data = data[0].to(device),data[1].to(device)\n",
    "          target = target.to(device)\n",
    "          # pass the image to the model and assign the output to variable named outputs\n",
    "          # python star operator will be useful here\n",
    "          # if the datatype of outputs is not a tuple, make it to a tuple\n",
    "          outputs = model(*data)\n",
    "\n",
    "          # create inputs to the contrastive loss\n",
    "          # datatype of target should be tuple\n",
    "          # calculate the loss\n",
    "          loss = criterion(*outputs,target)\n",
    "          # update the test_loss variable\n",
    "          test_loss += loss\n",
    "          #### YOUR CODE ENDS HERE ####\n",
    "\n",
    "    test_loss /= len(test_loader)\n",
    "    print('Average loss on test set: {:.6f}'.format(test_loss))\n",
    "    return test_loss\n"
   ]
  },
  {
   "cell_type": "code",
   "execution_count": null,
   "metadata": {
    "id": "fpC0qhjC1UJk"
   },
   "outputs": [],
   "source": [
    "# define the training and test sets\n",
    "# use SiameseDataset\n",
    "train_dataset = SiameseDataset(train=True)\n",
    "test_dataset = SiameseDataset(train=False)\n",
    "\n",
    "# create dataloaders for training and test datasets\n",
    "# use a batch size of 128 and set shuffle=True for the training set, set num_workers to 2 and pin_memory to True\n",
    "train_dataloader = torch.utils.data.DataLoader(train_dataset,batch_size=128,shuffle=True,num_workers=2,pin_memory=True)\n",
    "test_dataloader = torch.utils.data.DataLoader(test_dataset,batch_size=128,num_workers=2,pin_memory=True)"
   ]
  },
  {
   "cell_type": "code",
   "execution_count": null,
   "metadata": {
    "id": "aDZAVVWVcAC5"
   },
   "outputs": [],
   "source": [
    "margin = 1.\n",
    "# create a instance of the embedding network and pass it as input to Siamese network\n",
    "embedding_net = EmbeddingNet().to(device)\n",
    "model = SiameseNetwork(embedding_net).to(device)\n",
    "# define the contrative loss with the specified margin\n",
    "criterion = ContrastiveLossSiamese(margin)\n",
    "optimizer = torch.optim.Adam(model.parameters(),weight_decay=0.001,amsgrad=True)"
   ]
  },
  {
   "cell_type": "code",
   "execution_count": null,
   "metadata": {
    "colab": {
     "base_uri": "https://localhost:8080/"
    },
    "id": "CejgunVGzJPK",
    "outputId": "37b1056d-59db-4601-9008-bcf20f1a9987"
   },
   "outputs": [
    {
     "name": "stdout",
     "output_type": "stream",
     "text": [
      "Train Epoch: 1 [0/60000 (0%)]\tLoss: 0.544942\n",
      "Train Epoch: 1 [2560/60000 (4%)]\tLoss: 0.370663\n",
      "Train Epoch: 1 [5120/60000 (9%)]\tLoss: 0.338280\n",
      "Train Epoch: 1 [7680/60000 (13%)]\tLoss: 0.321311\n",
      "Train Epoch: 1 [10240/60000 (17%)]\tLoss: 0.310637\n",
      "Train Epoch: 1 [12800/60000 (21%)]\tLoss: 0.307097\n",
      "Train Epoch: 1 [15360/60000 (26%)]\tLoss: 0.302536\n",
      "Train Epoch: 1 [17920/60000 (30%)]\tLoss: 0.299958\n",
      "Train Epoch: 1 [20480/60000 (34%)]\tLoss: 0.296691\n",
      "Train Epoch: 1 [23040/60000 (38%)]\tLoss: 0.293810\n",
      "Train Epoch: 1 [25600/60000 (43%)]\tLoss: 0.291955\n",
      "Train Epoch: 1 [28160/60000 (47%)]\tLoss: 0.289458\n",
      "Train Epoch: 1 [30720/60000 (51%)]\tLoss: 0.288164\n",
      "Train Epoch: 1 [33280/60000 (55%)]\tLoss: 0.286191\n",
      "Train Epoch: 1 [35840/60000 (60%)]\tLoss: 0.285056\n",
      "Train Epoch: 1 [38400/60000 (64%)]\tLoss: 0.284309\n",
      "Train Epoch: 1 [40960/60000 (68%)]\tLoss: 0.283344\n",
      "Train Epoch: 1 [43520/60000 (72%)]\tLoss: 0.282482\n",
      "Train Epoch: 1 [46080/60000 (77%)]\tLoss: 0.282008\n",
      "Train Epoch: 1 [48640/60000 (81%)]\tLoss: 0.279981\n",
      "Train Epoch: 1 [51200/60000 (85%)]\tLoss: 0.280012\n",
      "Train Epoch: 1 [53760/60000 (90%)]\tLoss: 0.279205\n",
      "Train Epoch: 1 [56320/60000 (94%)]\tLoss: 0.279023\n",
      "Train Epoch: 1 [58880/60000 (98%)]\tLoss: 0.278404\n",
      "Average loss on training set: 0.277843\n",
      "Average loss on test set: 0.264270\n",
      "Train Epoch: 2 [0/60000 (0%)]\tLoss: 0.249107\n",
      "Train Epoch: 2 [2560/60000 (4%)]\tLoss: 0.274201\n",
      "Train Epoch: 2 [5120/60000 (9%)]\tLoss: 0.274695\n",
      "Train Epoch: 2 [7680/60000 (13%)]\tLoss: 0.269036\n",
      "Train Epoch: 2 [10240/60000 (17%)]\tLoss: 0.266717\n",
      "Train Epoch: 2 [12800/60000 (21%)]\tLoss: 0.265423\n",
      "Train Epoch: 2 [15360/60000 (26%)]\tLoss: 0.264259\n",
      "Train Epoch: 2 [17920/60000 (30%)]\tLoss: 0.263926\n",
      "Train Epoch: 2 [20480/60000 (34%)]\tLoss: 0.263240\n",
      "Train Epoch: 2 [23040/60000 (38%)]\tLoss: 0.262171\n",
      "Train Epoch: 2 [25600/60000 (43%)]\tLoss: 0.262205\n",
      "Train Epoch: 2 [28160/60000 (47%)]\tLoss: 0.262940\n",
      "Train Epoch: 2 [30720/60000 (51%)]\tLoss: 0.262330\n",
      "Train Epoch: 2 [33280/60000 (55%)]\tLoss: 0.262378\n",
      "Train Epoch: 2 [35840/60000 (60%)]\tLoss: 0.262144\n",
      "Train Epoch: 2 [38400/60000 (64%)]\tLoss: 0.262116\n",
      "Train Epoch: 2 [40960/60000 (68%)]\tLoss: 0.262119\n",
      "Train Epoch: 2 [43520/60000 (72%)]\tLoss: 0.262424\n",
      "Train Epoch: 2 [46080/60000 (77%)]\tLoss: 0.262960\n",
      "Train Epoch: 2 [48640/60000 (81%)]\tLoss: 0.262295\n",
      "Train Epoch: 2 [51200/60000 (85%)]\tLoss: 0.262433\n",
      "Train Epoch: 2 [53760/60000 (90%)]\tLoss: 0.262248\n",
      "Train Epoch: 2 [56320/60000 (94%)]\tLoss: 0.262455\n",
      "Train Epoch: 2 [58880/60000 (98%)]\tLoss: 0.262251\n",
      "Average loss on training set: 0.262197\n",
      "Average loss on test set: 0.261124\n",
      "Train Epoch: 3 [0/60000 (0%)]\tLoss: 0.257941\n",
      "Train Epoch: 3 [2560/60000 (4%)]\tLoss: 0.268477\n",
      "Train Epoch: 3 [5120/60000 (9%)]\tLoss: 0.266029\n",
      "Train Epoch: 3 [7680/60000 (13%)]\tLoss: 0.262826\n",
      "Train Epoch: 3 [10240/60000 (17%)]\tLoss: 0.261480\n",
      "Train Epoch: 3 [12800/60000 (21%)]\tLoss: 0.260659\n",
      "Train Epoch: 3 [15360/60000 (26%)]\tLoss: 0.260016\n",
      "Train Epoch: 3 [17920/60000 (30%)]\tLoss: 0.259666\n",
      "Train Epoch: 3 [20480/60000 (34%)]\tLoss: 0.259770\n",
      "Train Epoch: 3 [23040/60000 (38%)]\tLoss: 0.259887\n",
      "Train Epoch: 3 [25600/60000 (43%)]\tLoss: 0.259746\n",
      "Train Epoch: 3 [28160/60000 (47%)]\tLoss: 0.259743\n",
      "Train Epoch: 3 [30720/60000 (51%)]\tLoss: 0.259938\n",
      "Train Epoch: 3 [33280/60000 (55%)]\tLoss: 0.259384\n",
      "Train Epoch: 3 [35840/60000 (60%)]\tLoss: 0.258987\n",
      "Train Epoch: 3 [38400/60000 (64%)]\tLoss: 0.260079\n",
      "Train Epoch: 3 [40960/60000 (68%)]\tLoss: 0.259740\n",
      "Train Epoch: 3 [43520/60000 (72%)]\tLoss: 0.259389\n",
      "Train Epoch: 3 [46080/60000 (77%)]\tLoss: 0.259390\n",
      "Train Epoch: 3 [48640/60000 (81%)]\tLoss: 0.258791\n",
      "Train Epoch: 3 [51200/60000 (85%)]\tLoss: 0.258980\n",
      "Train Epoch: 3 [53760/60000 (90%)]\tLoss: 0.259076\n",
      "Train Epoch: 3 [56320/60000 (94%)]\tLoss: 0.259558\n",
      "Train Epoch: 3 [58880/60000 (98%)]\tLoss: 0.259525\n",
      "Average loss on training set: 0.259318\n",
      "Average loss on test set: 0.261549\n",
      "Train Epoch: 4 [0/60000 (0%)]\tLoss: 0.212660\n",
      "Train Epoch: 4 [2560/60000 (4%)]\tLoss: 0.257978\n",
      "Train Epoch: 4 [5120/60000 (9%)]\tLoss: 0.264753\n",
      "Train Epoch: 4 [7680/60000 (13%)]\tLoss: 0.262814\n",
      "Train Epoch: 4 [10240/60000 (17%)]\tLoss: 0.261889\n",
      "Train Epoch: 4 [12800/60000 (21%)]\tLoss: 0.260610\n",
      "Train Epoch: 4 [15360/60000 (26%)]\tLoss: 0.259224\n",
      "Train Epoch: 4 [17920/60000 (30%)]\tLoss: 0.259981\n",
      "Train Epoch: 4 [20480/60000 (34%)]\tLoss: 0.259570\n",
      "Train Epoch: 4 [23040/60000 (38%)]\tLoss: 0.259442\n",
      "Train Epoch: 4 [25600/60000 (43%)]\tLoss: 0.259184\n",
      "Train Epoch: 4 [28160/60000 (47%)]\tLoss: 0.259364\n",
      "Train Epoch: 4 [30720/60000 (51%)]\tLoss: 0.259448\n",
      "Train Epoch: 4 [33280/60000 (55%)]\tLoss: 0.259353\n",
      "Train Epoch: 4 [35840/60000 (60%)]\tLoss: 0.259207\n",
      "Train Epoch: 4 [38400/60000 (64%)]\tLoss: 0.259401\n",
      "Train Epoch: 4 [40960/60000 (68%)]\tLoss: 0.259059\n",
      "Train Epoch: 4 [43520/60000 (72%)]\tLoss: 0.259468\n",
      "Train Epoch: 4 [46080/60000 (77%)]\tLoss: 0.259615\n",
      "Train Epoch: 4 [48640/60000 (81%)]\tLoss: 0.259106\n",
      "Train Epoch: 4 [51200/60000 (85%)]\tLoss: 0.259026\n",
      "Train Epoch: 4 [53760/60000 (90%)]\tLoss: 0.258796\n",
      "Train Epoch: 4 [56320/60000 (94%)]\tLoss: 0.258549\n",
      "Train Epoch: 4 [58880/60000 (98%)]\tLoss: 0.258080\n",
      "Average loss on training set: 0.257768\n",
      "Average loss on test set: 0.254709\n",
      "Total time taken: 177 seconds\n"
     ]
    }
   ],
   "source": [
    "start = timeit.default_timer()\n",
    "\n",
    "train_losses=[]\n",
    "test_losses=[]\n",
    "for epoch in range(1, 5):\n",
    "  train_losses += [train(model, train_dataloader, device, optimizer, criterion, epoch)]\n",
    "  test_losses += [test(model, test_dataloader, device, criterion)]\n",
    "\n",
    "stop = timeit.default_timer()\n",
    "print('Total time taken: {} seconds'.format(int(stop - start)) )"
   ]
  },
  {
   "cell_type": "markdown",
   "metadata": {
    "id": "5S0vb38a_o_r"
   },
   "source": [
    "### Question 4\n",
    "\n",
    "Run the code cell above and plot(on the same graph) the average train and test losses w.r.t epochs trained."
   ]
  },
  {
   "cell_type": "code",
   "execution_count": null,
   "metadata": {
    "colab": {
     "base_uri": "https://localhost:8080/",
     "height": 313
    },
    "id": "4icaYHrmGORP",
    "outputId": "fa542eba-32d0-44e9-c49a-dcee6f6b20dd"
   },
   "outputs": [
    {
     "data": {
      "text/plain": [
       "Text(0.5, 1.0, 'Loss vs Epochs')"
      ]
     },
     "execution_count": 137,
     "metadata": {
      "tags": []
     },
     "output_type": "execute_result"
    },
    {
     "data": {
      "image/png": "[encoded data removed]",
      "text/plain": [
       "<Figure size 432x288 with 1 Axes>"
      ]
     },
     "metadata": {
      "needs_background": "light",
      "tags": []
     },
     "output_type": "display_data"
    }
   ],
   "source": [
    "import matplotlib.pyplot as plt\n",
    "plt.plot(range(1,5),train_losses,label='avg_train_losses')\n",
    "plt.plot(range(1,5),test_losses,label='avg_test_losses')\n",
    "plt.xlabel('epochs')\n",
    "plt.ylabel('loss')\n",
    "plt.legend()\n",
    "plt.title('Loss vs Epochs')"
   ]
  },
  {
   "cell_type": "markdown",
   "metadata": {
    "id": "vgyN14PN5npM"
   },
   "source": [
    "### Question 5\n",
    "\n",
    "We have looked at training a Siamese Network with a pairwise contrastive loss. How would you modify the architecture above to use a triplet loss? The triplet loss is a ranking loss that uses image triplets consisting of an anchor $x_a$, a positive sample(similar to the anchor image) $x_p$ and a negative sample(dissimilar to the anchor image) $x_n$. Given triplet $(x_a, x_p, x_n)$ the teiplet loss is:\n",
    "\n",
    "$$\n",
    "L\\left(x_{a}, x_{p}, x_{n}\\right)=\\max \\left(0, m + \\|f(x_{a})-f(x_{p})\\|_{2}^{2} - \\|f(x_{a})-f(x_{n})\\|_{2}^{2}\\right)\n",
    "$$\n",
    "\n",
    "1. Write the dataloader to get triplets.\n",
    "2. Write code for class TripletLossSiamese. (the triplet loss)\n",
    "3. Describe in words how would you modify the network architecture to train it with a triplet loss."
   ]
  },
  {
   "cell_type": "code",
   "execution_count": null,
   "metadata": {
    "id": "s1UhDPNO5npM"
   },
   "outputs": [],
   "source": [
    "# Question 2.1, dataloader for triplets\n",
    "class TripletDataset(Dataset):\n",
    "    def __init__(self, train=True):\n",
    "        \n",
    "        self.train = train\n",
    "        #### YOUR CODE STARTS HERE ####\n",
    "        # Define a set of transforms for preparing the dataset\n",
    "        self.transform =  transforms.Compose(\n",
    "            [transforms.ToTensor(),\n",
    "             transforms.Normalize((0.5),(0.5))]\n",
    "        )# convert the image to a pytorch tensor\n",
    "                          # normalise the images with mean and std of the dataset\n",
    "        \n",
    "        # Load the MNIST training, test datasets using `torchvision.datasets.MNIST\n",
    "        # Set the train parameter to self.train and transform parameter to self.transform\n",
    "        self.dataset = datasets.MNIST(rootdir/'MNIST',\n",
    "                                      train=self.train,\n",
    "                                      transform=self.transform,\n",
    "                                      download=True)\n",
    "        \n",
    "        #auxillary func\n",
    "        labels_idcs = lambda l,y: [i for i in range(len(y)) if y[i].item()==l]\n",
    "\n",
    "\n",
    "        #### YOUR CODE ENDS HERE ####\n",
    "        if self.train:\n",
    "            #### YOUR CODE STARTS HERE ####\n",
    "            # assign input (x-values) of training data \n",
    "            self.train_data = torch.stack([data[0] for data in self.dataset])\n",
    "            # assign labels of training data \n",
    "            self.train_labels = torch.tensor([data[1] for data in self.dataset])\n",
    "            # get the set of all the labels in the dataset\n",
    "            self.labels_all = {i for i in range(10)}\n",
    "            self.label_to_idx = {i:label_idcs(i,self.train_labels) for i in labels_all} # assign a unique index to all labels in the dataset and store them in a dictionary \n",
    "\n",
    "            #### YOUR CODE ENDS HERE ####\n",
    "        else:\n",
    "            #### YOUR CODE STARTS HERE ####\n",
    "            # assign input (x-values) of test data \n",
    "            self.test_data = torch.stack([data[0] for data in self.dataset])\n",
    "            # assign labels of test data \n",
    "            self.test_labels = torch.tensor([data[1] for data in self.dataset])\n",
    "            # get the set of all the labels in the dataset\n",
    "            self.labels_all = {i for i in range(10)}\n",
    "            self.label_to_idx = {i:label_idcs(i,self.test_labels) for i in labels_all} # assign a unique index to all labels in the dataset and store them in a dictionary \n",
    "\n",
    "            #### YOUR CODE ENDS HERE ####\n",
    "            # DONOT change this line of code  \n",
    "            random_state = np.random.RandomState(0)\n",
    "            triplets = [] #this will be list of lists\n",
    "            for i in range(len(self.test_data)):\n",
    "                triplets.append([i, random_state.choice(self.label_to_idx[self.test_labels[i].item()]),\n",
    "                 random_state.choice(self.label_to_idx[np.random.choice(list(self.labels_all - set([self.test_labels[i].item()])))])\n",
    "                                ])\n",
    "            self.test_samples = triplets\n",
    "\n",
    "           \n",
    "    def __len__(self):\n",
    "        return len(self.dataset)\n",
    "\n",
    "    def __getitem__(self, index):\n",
    "        # get image triplet\n",
    "        if self.train:\n",
    "            anchor, anchor_label = self.train_data[index], self.train_labels[index].item\n",
    "            #### YOUR CODE STARTS HERE ####\n",
    "            #choose positive and negative image call them `positive` and `negative` respectively\n",
    "\n",
    "            def get_index(l,s):\n",
    "                nrc,li,ls = np.random.choice,self.label_to_idx,self.labels_all\n",
    "                return nrc(li[l]) if s else nrc(li[nrc(list(ls-{l}))])\n",
    "\n",
    "            positive = self.train_data[get_index(anchor_label,1)] \n",
    "            negative = self.train_data[get_index(anchor_label,0)]\n",
    "            #### YOUR CODE ENDS HERE ####\n",
    "        else:\n",
    "            #### YOUR CODE STARTS HERE ####\n",
    "            # select three images from self.test_samples\n",
    "            get_img = lambda idx1,idx2: self.test_data[self.test_samples[idx1][idx2]].squeeze()\n",
    "            anchor = get_img(index,0)\n",
    "            positive = get_img(index,1)\n",
    "            negative = get_img(index,2)\n",
    "            #### YOUR CODE ENDS HERE ####\n",
    "        \n",
    "        anchor = Image.fromarray(anchor.numpy(), mode='L')\n",
    "        positive = Image.fromarray(positive.numpy(), mode='L')\n",
    "        negative = Image.fromarray(negative.numpy(), mode='L')\n",
    "        anchor = self.transform(anchor)\n",
    "        positive = self.transform(positive)\n",
    "        negative = self.transform(negative)\n",
    "        return (anchor, positive, negative), []"
   ]
  },
  {
   "cell_type": "code",
   "execution_count": null,
   "metadata": {
    "id": "Yz-LGiJN5npM"
   },
   "outputs": [],
   "source": [
    "# Question 2.2, define triplet loss\n",
    "class TripletLossSiamese(nn.Module):\n",
    "\n",
    "    def __init__(self, margin):\n",
    "        super(TripletLossSiamese, self).__init__()\n",
    "        self.margin = margin\n",
    "\n",
    "    def forward(self, output_anchor, output_positive, output_negative):\n",
    "        # Use the triplet loss equation mentioned above to define the loss\n",
    "        #### YOUR CODE STARTS HERE ####\n",
    "        pos_L2 = F.pairwise_distance(output_anchor,output_positive).pow(2)\n",
    "        neg_L2 = F.pairwise_distance(output_anchor,outpu_negative).pow(2)\n",
    "        loss_value = torch.clamp(self.margin + pos_L2 - neg_L2,min=0)\n",
    "        #### YOUR CODE ENDS HERE ####\n",
    "        loss_value = loss_value.mean()\n",
    "\n",
    "        return loss_value"
   ]
  },
  {
   "cell_type": "markdown",
   "metadata": {
    "id": "g8gHI3S1PAzi"
   },
   "source": [
    "## Architectural changes for Triplet Loss (Answer)\n",
    "\n",
    "This time, we will need to have three forward passes through the embedding net(which stays the same), one for the anchor ,positive and negative sample.  \n",
    "Summarizing the changes:\n",
    " - Input:\n",
    "    - take in 3 images instead of 2\n",
    " - Forward:\n",
    "    - compute 3 embeddings instead of 2\n",
    " - Backprop:\n",
    "    - nothing changes here\n",
    " - output:\n",
    "    - return 3 embeddings instead of 2"
   ]
  },
  {
   "cell_type": "markdown",
   "metadata": {
    "id": "6oP275cQFPvA"
   },
   "source": [
    "## Object Detection\n",
    "\n",
    "Go through the [Torchvision Object Detection Tutorial](https://pytorch.org/tutorials/intermediate/torchvision_tutorial.html) and ensure you understand the tutorial completely!\n",
    "\n",
    "After you have completely gone through the tutorial answer the following questions!"
   ]
  },
  {
   "cell_type": "markdown",
   "metadata": {
    "id": "LtaG0iORIXid"
   },
   "source": [
    "### Question 6\n",
    "\n",
    "Consider the metrics `AP@IoU=0.5` and `AP@IoU=0.75` used in the tutorial. Which of the following statements is True?  \n",
    "\n",
    "1. `IoU@0.75` will always be less than `IoU@0.5`\n",
    "2. `IoU@0.75` will always be  greater than `IoU@0.5` \n",
    "3. `IoU@0.75` need not be always be less than `IoU@0.5`\n",
    "4. `IoU@0.75` need not always be  greater than `IoU@0.5` "
   ]
  },
  {
   "cell_type": "markdown",
   "metadata": {
    "id": "KLmws8OsYdwl"
   },
   "source": [
    "The effects of increases in IOU threshold are as follows:\n",
    " - The number of true positives will decrease\n",
    " - The number of false positives will increase\n",
    " - The number of false negatives should remain unaffected as we are only changing the evaluation metric and not the method so whatever the model was ignoring, it will continue to ignore...\n",
    " - Similar reason applies to True Negatives;\n",
    "\n",
    " Hence, expected behaviour:\n",
    " - precision decreases :$TP \\over TP + FP$\n",
    "    - as $TP + FP$ should remain almost same and $TP$ decreases\n",
    " - recall decreases as well: $TP \\over TP + FN$\n",
    "\n",
    "as mAP is the mean Precision averaged over multiple recalls:\n",
    " - for a particular recall level, the max precision beyond that recall is expected to be lower\n",
    "  \n",
    " HENCE,\n",
    "  \n",
    "OPTION 1 should be TRUE"
   ]
  },
  {
   "cell_type": "markdown",
   "metadata": {
    "id": "n9yyqsuyPAMv"
   },
   "source": [
    "### Question 7\n",
    "\n",
    "Tutorial uses a network that is pre-trained on COCO dataset. Will training this model from scratch improve the performance? Provide justification for your answer. (Hint: You don't really have to re-train the model for this)"
   ]
  },
  {
   "cell_type": "markdown",
   "metadata": {
    "id": "w_x27uBzzjSu"
   },
   "source": [
    "Highly probable that it won't.  \n",
    "Reasons:\n",
    " - finetuning a pretrained model is likely to outperform training from scratch as most of the filters that were useful on a larger generic dataset like COCO will be reused.\n",
    " - learning from scratch might not result in those filters and there is a high chance of over-fitting the current dataset due to its small size.\n",
    "    - this might lead to higher train performance *after a lot of iterations* but the model is unlikely to generalise well to the test set and the performance would worsen. "
   ]
  },
  {
   "cell_type": "markdown",
   "metadata": {
    "id": "71DVEZQf5hr8"
   },
   "source": [
    "### Question 8\n",
    "\n",
    "Write code to calculate IoU between aligned predicted bounding-boxes bbox_p and ground-truth bounding-boxes bbox_gt. Assume a co-ordinate system that has origin (0,0) at the upper-left corner of the image, and to the  right and down are +ve directions of x-axis and y-axis respectively."
   ]
  },
  {
   "cell_type": "code",
   "execution_count": 27,
   "metadata": {
    "id": "rngaSEln5npN"
   },
   "outputs": [],
   "source": [
    "def calculate_iou(bbox_p, bbox_gt):\n",
    "    #input: bbox_p and bbox_gt are (N,4) tensors\n",
    "    #output: ious (N,) vector\n",
    "    N = bbox_p.size(0)\n",
    "    \n",
    "    #### YOUR CODE STARTS HERE ####\n",
    "    # write code to compute the IoU between the bounding boxes\n",
    "    \n",
    "    # convenience aliases\n",
    "    x1p,y1p,x2p,y2p = (bbox_p[:][i] for i in range(4))\n",
    "    x1gt,y1gt,x2gt,y2gt = (bbox_gt[:][i] for i in range(4))\n",
    "\n",
    "    p_area = (x2p - x1p)*(y2p - y1p)\n",
    "    gt_area = (x2gt - x1gt)*(y2gt - y1gt)\n",
    "\n",
    "    x_int1 = torch.maximum(x1p,x1gt)\n",
    "    x_int2 = torch.minimum(x2p,x2gt)\n",
    "    y_int1 = torch.maximum(y1p,y1gt)\n",
    "    y_int2 = torch.minimum(y2p,y2gt)\n",
    "\n",
    "    int_area = (x_int2 - x_int1)*(y_int2 - y_int1)\n",
    "\n",
    "    ious = int_area/(p_area + gt_area - int_area) \n",
    "    \n",
    "    #### YOUR CODE ENDS HERE ####\n",
    "    \n",
    "    return ious"
   ]
  }
 ],
 "metadata": {
  "accelerator": "GPU",
  "colab": {
   "collapsed_sections": [],
   "name": "Assingment_4.ipynb",
   "provenance": []
  },
  "kernelspec": {
   "display_name": "Python 3",
   "language": "python",
   "name": "python3"
  },
  "language_info": {
   "codemirror_mode": {
    "name": "ipython",
    "version": 3
   },
   "file_extension": ".py",
   "mimetype": "text/x-python",
   "name": "python",
   "nbconvert_exporter": "python",
   "pygments_lexer": "ipython3",
   "version": "3.8.5"
  }
 },
 "nbformat": 4,
 "nbformat_minor": 1
}
