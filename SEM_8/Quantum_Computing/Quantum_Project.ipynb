{
  "nbformat": 4,
  "nbformat_minor": 0,
  "metadata": {
    "colab": {
      "provenance": [],
      "collapsed_sections": []
    },
    "kernelspec": {
      "name": "python3",
      "display_name": "Python 3"
    },
    "language_info": {
      "name": "python"
    }
  },
  "cells": [
    {
      "cell_type": "code",
      "source": [
        "!pip install qiskit"
      ],
      "metadata": {
        "id": "boWQV7oR09lp"
      },
      "execution_count": null,
      "outputs": []
    },
    {
      "cell_type": "code",
      "execution_count": null,
      "metadata": {
        "id": "HCNuok9j0vsB"
      },
      "outputs": [],
      "source": [
        "import math\n",
        "from qiskit import QuantumCircuit, Aer, transpile\n",
        "from qiskit.circuit.library import GroverOperator\n",
        "import numpy as np\n",
        "from qiskit.quantum_info.operators import Operator\n",
        "import matplotlib.pyplot as plt\n",
        "import pandas as pd\n",
        "from pathlib import Path\n",
        "import pickle\n",
        "from itertools import product,accumulate\n",
        "import datetime,time\n",
        "from tqdm import tqdm\n",
        "from qiskit.visualization import plot_histogram\n",
        "import functools"
      ]
    },
    {
      "cell_type": "markdown",
      "source": [
        "No Error Correction"
      ],
      "metadata": {
        "id": "sfgcZvY5t7tr"
      }
    },
    {
      "cell_type": "code",
      "source": [
        "class QuantumExperiment:\n",
        "    def __init__(self):\n",
        "        self.numQubits = 1\n",
        "        self.noiseInfo = dict()\n",
        "\n",
        "        self.exp_history = {}\n",
        "        self.exp_counter = 0\n",
        "\n",
        "    def tossCoin(self,noiseType = 'bit'):\n",
        "        probFlip = self.noiseInfo[f'{noiseType}flip']\n",
        "        return np.random.rand() < probFlip\n",
        "\n",
        "    def log_exp(self,result_dict):\n",
        "        self.exp_history[self.exp_counter] = result_dict\n",
        "\n",
        "    def setNumQubits(self,numQubits):\n",
        "        self.numQubits = numQubits\n",
        "\n",
        "    def noiseInfuser(self):\n",
        "        noise = QuantumCircuit(self.numQubits)\n",
        "\n",
        "        for i in range(self.numQubits):\n",
        "            if self.tossCoin('bit'):\n",
        "                noise.x(i)\n",
        "\n",
        "            if self.tossCoin('phase'):\n",
        "                noise.z(i)\n",
        "\n",
        "        return noise\n",
        "\n",
        "    def setNoiseInfo(self,noiseInfo = dict()):\n",
        "        self.noiseInfo = noiseInfo\n",
        "\n",
        "    def getNoiseInfo(self):\n",
        "        return self.noiseInfo\n",
        "\n",
        "def genNoiseDict(bitflip = 0.01, phaseflip = 0.01):\n",
        "    return {'bitflip':bitflip, 'phaseflip':phaseflip}"
      ],
      "metadata": {
        "id": "fQaowM2ZdHwd"
      },
      "execution_count": null,
      "outputs": []
    },
    {
      "cell_type": "code",
      "source": [
        "class Grovers(QuantumExperiment):\n",
        "    def __init__(self,numQubits = 1, noiseInfo=dict()):\n",
        "       super().__init__() \n",
        "       self.setNumQubits(numQubits)\n",
        "       self.setNoiseInfo(noiseInfo)\n",
        "\n",
        "    def getDiffuser(self):\n",
        "        N = self.numQubits\n",
        "        diffuser = QuantumCircuit(N)\n",
        "        psi = np.ones(2**N)/np.sqrt(2**N)\n",
        "        psi_psi = 2*np.outer(psi,psi) - np.identity(2**N)\n",
        "        psi_psi = Operator(psi_psi.tolist())\n",
        "        diffuser.unitary(psi_psi,list(range(N)),'diffuser')\n",
        "\n",
        "        return diffuser\n",
        "\n",
        "    def getOracle(self,key):\n",
        "        oracle = QuantumCircuit(self.numQubits)\n",
        "        oracle_matrix = np.identity(2**(self.numQubits),dtype=int)\n",
        "        search_key = int(key,2)\n",
        "        oracle_matrix[search_key,search_key] = -1\n",
        "        oracle_matrix = Operator(oracle_matrix.tolist())\n",
        "        oracle.unitary(oracle_matrix,list(range(self.numQubits)),'oracle')\n",
        "        return oracle\n",
        "\n",
        "        \n",
        "    def search(self, key, testMultiple = True): \n",
        "        assert len(key) == self.numQubits , \"invalid key length\"\n",
        "\n",
        "        self.exp_counter += 1\n",
        "        \n",
        "        N = self.numQubits\n",
        "        # Creating a uniform superposition.\n",
        "        qubits = [i for i in range(N)]\n",
        "        grover = QuantumCircuit(N)\n",
        "        grover.h(qubits)\n",
        "\n",
        "        oracle = self.getOracle(key)\n",
        "        diffuser = self.getDiffuser()\n",
        "        \n",
        "        # Running U_oracle over the qubits and running the diffuser O(sqrt(N)) times. \n",
        "        for _ in range(2*math.ceil(math.sqrt(2**N))):\n",
        "            grover = grover.compose(oracle)\n",
        "            if self.noiseInfo != {}: \n",
        "                grover = grover.compose(self.noiseInfuser())\n",
        "            grover = grover.compose(diffuser)\n",
        "            if self.noiseInfo != {}: \n",
        "                grover = grover.compose(self.noiseInfuser())\n",
        "\n",
        "            if testMultiple == False:\n",
        "                break\n",
        "        \n",
        "\n",
        "        grover.measure_all()\n",
        "        \n",
        "        sim = Aer.get_backend('aer_simulator')\n",
        "        results = transpile(grover, sim)\n",
        "        distribution = sim.run(results).result().get_counts()\n",
        "        \n",
        "        self.log_exp({'numQubits':self.numQubits,\n",
        "                      'noiseInfo':self.noiseInfo,\n",
        "                      'searchKey':key,\n",
        "                      'iterateSearch':testMultiple,\n",
        "                      'results':distribution})\n",
        "        \n",
        "        return grover,distribution"
      ],
      "metadata": {
        "id": "HajI1lyfaKab"
      },
      "execution_count": null,
      "outputs": []
    },
    {
      "cell_type": "code",
      "source": [
        "grovers = Grovers()"
      ],
      "metadata": {
        "id": "DLWp7tBvU0ac"
      },
      "execution_count": null,
      "outputs": []
    },
    {
      "cell_type": "code",
      "source": [
        "grovers.setNumQubits(3)\n",
        "grovers.setNoiseInfo(genNoiseDict(0.5,0.5))\n",
        "circuit, results = grovers.search('000',testMultiple = False)"
      ],
      "metadata": {
        "id": "w8Uzm_5AU3G8"
      },
      "execution_count": null,
      "outputs": []
    },
    {
      "cell_type": "code",
      "source": [
        "circuit.draw()"
      ],
      "metadata": {
        "colab": {
          "base_uri": "https://localhost:8080/",
          "height": 155
        },
        "id": "i0D_vJh2j6Aa",
        "outputId": "a5616f05-2340-490b-a1e5-49825ecc840b"
      },
      "execution_count": null,
      "outputs": [
        {
          "output_type": "execute_result",
          "data": {
            "text/plain": [
              "        ┌───┐┌─────────┐          ┌───────────┐┌───┐┌───┐ ░ ┌─┐      \n",
              "   q_0: ┤ H ├┤0        ├──────────┤0          ├┤ X ├┤ Z ├─░─┤M├──────\n",
              "        ├───┤│         │┌───┐┌───┐│           │└───┘└───┘ ░ └╥┘┌─┐   \n",
              "   q_1: ┤ H ├┤1 oracle ├┤ X ├┤ Z ├┤1 diffuser ├───────────░──╫─┤M├───\n",
              "        ├───┤│         │├───┤└───┘│           │┌───┐      ░  ║ └╥┘┌─┐\n",
              "   q_2: ┤ H ├┤2        ├┤ Z ├─────┤2          ├┤ Z ├──────░──╫──╫─┤M├\n",
              "        └───┘└─────────┘└───┘     └───────────┘└───┘      ░  ║  ║ └╥┘\n",
              "meas: 3/═════════════════════════════════════════════════════╩══╩══╩═\n",
              "                                                             0  1  2 "
            ],
            "text/html": [
              "<pre style=\"word-wrap: normal;white-space: pre;background: #fff0;line-height: 1.1;font-family: &quot;Courier New&quot;,Courier,monospace\">        ┌───┐┌─────────┐          ┌───────────┐┌───┐┌───┐ ░ ┌─┐      \n",
              "   q_0: ┤ H ├┤0        ├──────────┤0          ├┤ X ├┤ Z ├─░─┤M├──────\n",
              "        ├───┤│         │┌───┐┌───┐│           │└───┘└───┘ ░ └╥┘┌─┐   \n",
              "   q_1: ┤ H ├┤1 oracle ├┤ X ├┤ Z ├┤1 diffuser ├───────────░──╫─┤M├───\n",
              "        ├───┤│         │├───┤└───┘│           │┌───┐      ░  ║ └╥┘┌─┐\n",
              "   q_2: ┤ H ├┤2        ├┤ Z ├─────┤2          ├┤ Z ├──────░──╫──╫─┤M├\n",
              "        └───┘└─────────┘└───┘     └───────────┘└───┘      ░  ║  ║ └╥┘\n",
              "meas: 3/═════════════════════════════════════════════════════╩══╩══╩═\n",
              "                                                             0  1  2 </pre>"
            ]
          },
          "metadata": {},
          "execution_count": 8
        }
      ]
    },
    {
      "cell_type": "code",
      "source": [
        "plot_histogram(results) #0,0"
      ],
      "metadata": {
        "colab": {
          "base_uri": "https://localhost:8080/",
          "height": 339
        },
        "id": "y_Wzp7jrYzbX",
        "outputId": "9cd0d710-bb60-4479-bf5c-169052a0e8aa"
      },
      "execution_count": null,
      "outputs": [
        {
          "output_type": "execute_result",
          "data": {
            "text/plain": [
              "<Figure size 504x360 with 1 Axes>"
            ],
            "image/png": "[encoded data removed]"
          },
          "metadata": {},
          "execution_count": 12
        }
      ]
    },
    {
      "cell_type": "code",
      "source": [
        "plot_histogram(results) # 0.05,0.05"
      ],
      "metadata": {
        "colab": {
          "base_uri": "https://localhost:8080/",
          "height": 340
        },
        "id": "BYhw7EyziqFV",
        "outputId": "7d68066a-8cd2-46d9-a800-7511f8a4a482"
      },
      "execution_count": null,
      "outputs": [
        {
          "output_type": "execute_result",
          "data": {
            "text/plain": [
              "<Figure size 504x360 with 1 Axes>"
            ],
            "image/png": "[encoded data removed]"
          },
          "metadata": {},
          "execution_count": 14
        }
      ]
    },
    {
      "cell_type": "code",
      "source": [
        "plot_histogram(results) #0.5,0.5"
      ],
      "metadata": {
        "colab": {
          "base_uri": "https://localhost:8080/",
          "height": 340
        },
        "id": "H9siickGZZdr",
        "outputId": "0b4130a6-3a9d-4058-dd75-8a09e6181f27"
      },
      "execution_count": null,
      "outputs": [
        {
          "output_type": "execute_result",
          "data": {
            "text/plain": [
              "<Figure size 504x360 with 1 Axes>"
            ],
            "image/png": "[encoded data removed]"
          },
          "metadata": {},
          "execution_count": 16
        }
      ]
    },
    {
      "cell_type": "code",
      "source": [
        "plot_histogram(results) #0.5,0.5 (2)"
      ],
      "metadata": {
        "colab": {
          "base_uri": "https://localhost:8080/",
          "height": 340
        },
        "id": "VlkSRkS5roxB",
        "outputId": "d863cec0-ec90-4635-e021-865d4a391337"
      },
      "execution_count": null,
      "outputs": [
        {
          "output_type": "execute_result",
          "data": {
            "text/plain": [
              "<Figure size 504x360 with 1 Axes>"
            ],
            "image/png": "[encoded data removed]"
          },
          "metadata": {},
          "execution_count": 19
        }
      ]
    },
    {
      "cell_type": "code",
      "source": [
        "grovers.exp_history"
      ],
      "metadata": {
        "colab": {
          "base_uri": "https://localhost:8080/"
        },
        "id": "Gam6nfyWjXX5",
        "outputId": "7b6537d0-5189-4d2c-8425-c58fe4109bbb"
      },
      "execution_count": null,
      "outputs": [
        {
          "output_type": "execute_result",
          "data": {
            "text/plain": [
              "{1: {'iterateSearch': True,\n",
              "  'noiseInfo': {'bitflip': 0.1, 'phaseflip': 0.1},\n",
              "  'numQubits': 5,\n",
              "  'results': {'00000': 23,\n",
              "   '00001': 2,\n",
              "   '00010': 30,\n",
              "   '00011': 6,\n",
              "   '00100': 28,\n",
              "   '00110': 19,\n",
              "   '01000': 5,\n",
              "   '01001': 41,\n",
              "   '01010': 12,\n",
              "   '01011': 39,\n",
              "   '01100': 46,\n",
              "   '01101': 114,\n",
              "   '01110': 52,\n",
              "   '01111': 120,\n",
              "   '10000': 25,\n",
              "   '10001': 48,\n",
              "   '10010': 25,\n",
              "   '10011': 57,\n",
              "   '10100': 39,\n",
              "   '10101': 93,\n",
              "   '10110': 33,\n",
              "   '10111': 52,\n",
              "   '11000': 38,\n",
              "   '11001': 5,\n",
              "   '11010': 46,\n",
              "   '11011': 10,\n",
              "   '11100': 8,\n",
              "   '11110': 8},\n",
              "  'searchKey': '10111'},\n",
              " 2: {'iterateSearch': True,\n",
              "  'noiseInfo': {'bitflip': 0.2, 'phaseflip': 0.2},\n",
              "  'numQubits': 5,\n",
              "  'results': {'00000': 66,\n",
              "   '00001': 2,\n",
              "   '00010': 60,\n",
              "   '00011': 10,\n",
              "   '00100': 22,\n",
              "   '00101': 41,\n",
              "   '00110': 27,\n",
              "   '00111': 82,\n",
              "   '01001': 96,\n",
              "   '01010': 41,\n",
              "   '01100': 18,\n",
              "   '01101': 44,\n",
              "   '01110': 82,\n",
              "   '01111': 41,\n",
              "   '10000': 9,\n",
              "   '10001': 29,\n",
              "   '10010': 131,\n",
              "   '10011': 12,\n",
              "   '10100': 2,\n",
              "   '10101': 41,\n",
              "   '10110': 13,\n",
              "   '10111': 43,\n",
              "   '11000': 35,\n",
              "   '11001': 3,\n",
              "   '11010': 2,\n",
              "   '11101': 25,\n",
              "   '11110': 5,\n",
              "   '11111': 42},\n",
              "  'searchKey': '10111'},\n",
              " 3: {'iterateSearch': True,\n",
              "  'noiseInfo': {'bitflip': 0, 'phaseflip': 0},\n",
              "  'numQubits': 3,\n",
              "  'results': {'000': 1024},\n",
              "  'searchKey': '000'},\n",
              " 4: {'iterateSearch': True,\n",
              "  'noiseInfo': {'bitflip': 0.05, 'phaseflip': 0.05},\n",
              "  'numQubits': 3,\n",
              "  'results': {'000': 583,\n",
              "   '001': 51,\n",
              "   '010': 77,\n",
              "   '011': 65,\n",
              "   '100': 75,\n",
              "   '101': 47,\n",
              "   '110': 68,\n",
              "   '111': 58},\n",
              "  'searchKey': '000'},\n",
              " 5: {'iterateSearch': True,\n",
              "  'noiseInfo': {'bitflip': 0.5, 'phaseflip': 0.5},\n",
              "  'numQubits': 3,\n",
              "  'results': {'000': 313,\n",
              "   '001': 123,\n",
              "   '010': 37,\n",
              "   '011': 47,\n",
              "   '100': 100,\n",
              "   '101': 235,\n",
              "   '110': 33,\n",
              "   '111': 136},\n",
              "  'searchKey': '000'},\n",
              " 6: {'iterateSearch': True,\n",
              "  'noiseInfo': {'bitflip': 0.5, 'phaseflip': 0.5},\n",
              "  'numQubits': 3,\n",
              "  'results': {'000': 69,\n",
              "   '001': 209,\n",
              "   '010': 7,\n",
              "   '011': 505,\n",
              "   '100': 39,\n",
              "   '101': 2,\n",
              "   '110': 57,\n",
              "   '111': 136},\n",
              "  'searchKey': '000'}}"
            ]
          },
          "metadata": {},
          "execution_count": 20
        }
      ]
    },
    {
      "cell_type": "markdown",
      "source": [
        "Variable Allocation"
      ],
      "metadata": {
        "id": "r0DwAzsfjZPk"
      }
    },
    {
      "cell_type": "code",
      "source": [
        "class VAQuantumExperiment:\n",
        "    def __init__(self):\n",
        "        self.numQubits = 1\n",
        "        #self.numActualQubits = 1\n",
        "        self.code_distances = []\n",
        "        self.defaultProbFlip = 0.01\n",
        "        self.error = False\n",
        "        self.uniform = False\n",
        "\n",
        "\n",
        "        self.exp_history = {}\n",
        "        self.exp_counter = 0\n",
        "\n",
        "        #self.logicalQubitRanges = []\n",
        "\n",
        "        #self.getAQIPLQ = lambda d: 2*d**2 - 1\n",
        "        # get Actual Qubit Index Per Logical Qubit\n",
        "\n",
        "    #def getActualQubitIndex(self, logicalQubitIndex, localIndex):\n",
        "    #    return sum([self.getAQIPLQ(self.code_distances[i]) for i in range(logicalQubitIndex)]) + localIndex\n",
        "\n",
        "    def tossCoin(self,probFlip):\n",
        "        if not self.error:\n",
        "            return False\n",
        "        probFlip = self.defaultProbFlip if probFlip is None else probFlip\n",
        "        return np.random.rand() < probFlip\n",
        "\n",
        "    def errorize(self,wantWhat = False):\n",
        "        self.error = wantWhat\n",
        "\n",
        "    def uniformize(self,wantWhat = False, isroundup=True):\n",
        "        self.uniform = wantWhat\n",
        "        if self.uniform:\n",
        "            totalQubits = sum([2*d**2 - 1 for d in self.code_distances])\n",
        "            perQubit = totalQubits/self.numQubits\n",
        "            rounder = math.ceil if isroundup else math.floor\n",
        "            self.code_distances = [rounder(math.sqrt((perQubit + 1)/2))]*self.numQubits\n",
        "        else:\n",
        "            self.code_distances = list(range(1,self.numQubits+1))\n",
        "\n",
        "\n",
        "    def setCodeDistances(self, codeDistances = None ):\n",
        "        if codeDistances is None:\n",
        "            codeDistances = list(range(1,self.numQubits+1))\n",
        "        assert(self.numQubits == len(codeDistances)) , \"invalid number of Qubits assumed in physical qubit allocation\"\n",
        "        self.code_distances = codeDistances \\\n",
        "                if not (codeDistances == []) \\\n",
        "                else [1]*self.numQubits\n",
        "\n",
        "        #print('test1')\n",
        "        #self.numActualQubits = sum([self.getAQIPLQ(i) for i in self.code_distances])\n",
        "        #print('test2')\n",
        "\n",
        "        #start = 0\n",
        "        #for cd in self.code_distances:\n",
        "        #    print(cd)\n",
        "        #    self.logicalQubitRanges.append((start,start+cd))\n",
        "        #    start+=cd\n",
        "\n",
        "    def getErrorProb(self,logical_qubit_index, gamma = 2):\n",
        "        if logical_qubit_index is None:\n",
        "            return self.defaultProbFlip\n",
        "        return (1/gamma)**((1 + self.code_distances[logical_qubit_index])/2)\n",
        "\n",
        "    def log_exp(self,result_dict):\n",
        "        self.exp_counter += 1 \n",
        "        self.exp_history[self.exp_counter] = result_dict\n",
        "\n",
        "    def setNumQubits(self,numQubits):\n",
        "        self.numQubits = numQubits\n",
        "\n",
        "    def noiseInfuser(self):\n",
        "        noise = QuantumCircuit(self.numQubits)\n",
        "\n",
        "        for i in range(self.numQubits):\n",
        "            probFlip = self.getErrorProb(i)\n",
        "            if self.tossCoin(probFlip):\n",
        "                noise.x(i)\n",
        "            if self.tossCoin(probFlip):\n",
        "                noise.z(i)\n",
        "\n",
        "        return noise\n",
        "\n",
        "    def setNoiseInfo(self,noiseInfo = dict()):\n",
        "        self.noiseInfo = noiseInfo\n",
        "\n",
        "    def getNoiseInfo(self):\n",
        "        return self.noiseInfo\n"
      ],
      "metadata": {
        "id": "yrKYeQzit577"
      },
      "execution_count": null,
      "outputs": []
    },
    {
      "cell_type": "code",
      "source": [
        "class VAQuantumSearch(VAQuantumExperiment):\n",
        "    def __init__(self,\n",
        "                 numQubits = 1,\n",
        "                 codeDistances = [1]):\n",
        "\n",
        "       super().__init__() \n",
        "\n",
        "       self.setNumQubits(numQubits)\n",
        "       self.setCodeDistances(codeDistances)\n",
        "\n",
        "    def getDiffuser(self):\n",
        "        N = self.numQubits\n",
        "        diffuser = QuantumCircuit(N)\n",
        "        psi = np.ones(2**N)/np.sqrt(2**N)\n",
        "        psi_psi = 2*np.outer(psi,psi) - np.identity(2**N)\n",
        "        psi_psi = Operator(psi_psi.tolist())\n",
        "        diffuser.unitary(psi_psi,list(range(N)),'diffuser')\n",
        "\n",
        "        return diffuser\n",
        "\n",
        "    def getOracle(self,key):\n",
        "        oracle = QuantumCircuit(self.numQubits)\n",
        "        oracle_matrix = np.identity(2**(self.numQubits),dtype=int)\n",
        "        search_key = int(key,2)\n",
        "        oracle_matrix[search_key,search_key] = -1\n",
        "        oracle_matrix = Operator(oracle_matrix.tolist())\n",
        "        oracle.unitary(oracle_matrix,list(range(self.numQubits)),'oracle')\n",
        "        return oracle\n",
        "\n",
        "#    def encodeKey(self, originalKey):\n",
        "#        key = ''\n",
        "#        for i,c in enumerate(originalKey):\n",
        "#            key += c*self.getAQIPLQ(self.code_distances[i])\n",
        "#        return key\n",
        "\n",
        "#    def decodeEncodedQubit(self,encodedQubit):\n",
        "#        ones = encodedQubit.count('1')\n",
        "#        if ones < len(encodedQubit) - ones:\n",
        "#            return '0'\n",
        "#        else:\n",
        "#            return '1'\n",
        "#\n",
        "#    def decodeKey(self,encodedKey):\n",
        "#        key = ''\n",
        "#        for rng in self.logicalQubitRanges:\n",
        "#            encodedQubit = encodedKey[rng[0]:rng[1]]\n",
        "#            key+= self.decodeEncodedQubit(encodedQubit)\n",
        "#\n",
        "#    def decodeDist(self,distribution):\n",
        "#        decodedDist = {}\n",
        "#        for key,value in distribution:\n",
        "#            decodedKey = self.decodeKey(key)\n",
        "#            if decodedKey in decodedDist.keys():\n",
        "#                decodedDist[decodedKey] += value\n",
        "#            else:\n",
        "#                decodedDist[decodedKey] = value\n",
        "        \n",
        "    def search(self, key = None, testMultiple = True): \n",
        "        if key is None:\n",
        "            key = '0'*self.numQubits\n",
        "        assert len(key) == self.numQubits , \"invalid key length\"\n",
        "\n",
        "        N = self.numQubits\n",
        "        # Creating a uniform superposition.\n",
        "        qubits = [i for i in range(N)]\n",
        "        grover = QuantumCircuit(N)\n",
        "        grover.h(qubits)\n",
        "\n",
        "        oracle = self.getOracle(key)\n",
        "\n",
        "        diffuser = self.getDiffuser()\n",
        "\n",
        "        # Running U_oracle over the qubits and running the diffuser O(sqrt(N)) times. \n",
        "        for _ in range(2*math.ceil(math.sqrt(2**N))):\n",
        "            grover = grover.compose(oracle)\n",
        "            grover = grover.compose(self.noiseInfuser())\n",
        "\n",
        "            grover = grover.compose(diffuser)\n",
        "            grover = grover.compose(self.noiseInfuser())\n",
        "\n",
        "            if testMultiple == False:\n",
        "                break\n",
        "        \n",
        "        grover.measure_all()\n",
        "        \n",
        "        sim = Aer.get_backend('aer_simulator')\n",
        "        results = transpile(grover, sim)\n",
        "        distribution = sim.run(results).result().get_counts()\n",
        "        \n",
        "        log_dict =   {'numQubits':self.numQubits,\n",
        "                      'codeDistances':self.code_distances,\n",
        "                      'searchKey':key,\n",
        "                      'results': distribution,\n",
        "                      'errorized': self.error,\n",
        "                      'expValue': self.calcExpValue(distribution),\n",
        "                      'uniform_alloc': self.uniform,\n",
        "                      'iterateSearch':testMultiple}\n",
        "\n",
        "        #self.log_exp(log_dict)\n",
        "        \n",
        "        return grover, distribution, log_dict\n",
        "\n",
        "    def calcExpValue(self,dist):\n",
        "        total = sum(dist.values()) \n",
        "        Nr =  sum([int(key,2)*dist[key] for key in dist.keys()])\n",
        "        return Nr/total"
      ],
      "metadata": {
        "id": "5Lm4yx00uPye"
      },
      "execution_count": null,
      "outputs": []
    },
    {
      "cell_type": "code",
      "source": [
        "vagrovers = VAQuantumSearch()"
      ],
      "metadata": {
        "id": "rt-tPajtVyq9"
      },
      "execution_count": null,
      "outputs": []
    },
    {
      "cell_type": "code",
      "source": [
        "vagrovers.setNumQubits(5)\n",
        "vagrovers.setCodeDistances()\n",
        "vagrovers.uniformize(True)"
      ],
      "metadata": {
        "id": "wJ-Z2myMZaBg"
      },
      "execution_count": null,
      "outputs": []
    },
    {
      "cell_type": "code",
      "source": [
        "vagrovers.errorize(True)\n",
        "vagrovers.search('11111')"
      ],
      "metadata": {
        "colab": {
          "base_uri": "https://localhost:8080/"
        },
        "id": "dkSlRIZ7aaO4",
        "outputId": "d47fd220-3ab9-4814-c733-aea7a5427eb5"
      },
      "execution_count": null,
      "outputs": [
        {
          "output_type": "execute_result",
          "data": {
            "text/plain": [
              "(<qiskit.circuit.quantumcircuit.QuantumCircuit at 0x7fbd3c122890>,\n",
              " {'00000': 3,\n",
              "  '00001': 3,\n",
              "  '00010': 2,\n",
              "  '00011': 48,\n",
              "  '00100': 88,\n",
              "  '00101': 55,\n",
              "  '00111': 2,\n",
              "  '01000': 23,\n",
              "  '01001': 60,\n",
              "  '01010': 17,\n",
              "  '01011': 2,\n",
              "  '01100': 21,\n",
              "  '01101': 4,\n",
              "  '01110': 55,\n",
              "  '01111': 98,\n",
              "  '10000': 49,\n",
              "  '10001': 6,\n",
              "  '10011': 7,\n",
              "  '10100': 57,\n",
              "  '10101': 20,\n",
              "  '10110': 40,\n",
              "  '10111': 26,\n",
              "  '11010': 40,\n",
              "  '11011': 2,\n",
              "  '11100': 34,\n",
              "  '11101': 1,\n",
              "  '11110': 258,\n",
              "  '11111': 3})"
            ]
          },
          "metadata": {},
          "execution_count": 17
        }
      ]
    },
    {
      "cell_type": "code",
      "source": [
        "class Experimenter:\n",
        "    def __init__(self,savedir, expName):\n",
        "        self.expName = expName\n",
        "        self.logs = pd.DataFrame(columns = ['NumQubits','NumRuns','TimeTakenPerRunMean',\n",
        "                                            'TimeTakenPerRunStd','AllocationStrat','Errorized',\n",
        "                                            'ExpValueMean','ExpValueStd'])\n",
        "        self.savedir = Path(savedir)\n",
        "        self.checkpoint_ctr = 0\n",
        "\n",
        "    def log(self, numQubits, numRuns, timeTakenPerRunMean, timeTakenPerRunStd, allocationStrat, errorized, expValueMean, expValueStd):\n",
        "        self.logs.loc[len(self.logs.index)] = [numQubits,numRuns, timeTakenPerRunMean, timeTakenPerRunStd, allocationStrat, errorized, expValueMean, expValueStd]\n",
        "\n",
        "    def backup(self):\n",
        "        self.logs.to_pickle(self.savedir/f'{self.expName}_{self.checkpoint_ctr}_{datetime.datetime.now()}.pkl')\n",
        "        self.checkpoint_ctr += 1 "
      ],
      "metadata": {
        "id": "0Gt4eMyuJpeQ"
      },
      "execution_count": null,
      "outputs": []
    },
    {
      "cell_type": "code",
      "source": [
        "paramNumQubits = [2,4,6,8]\n",
        "paramAllocationStrat = ['uni_ceil','uni_floor','var']\n",
        "paramNumRuns = [128, 256, 512]\n",
        "\n",
        "expName = \"Noisy_Grovers_Search\""
      ],
      "metadata": {
        "id": "Mpoye8qjaLfc"
      },
      "execution_count": null,
      "outputs": []
    },
    {
      "cell_type": "code",
      "source": [
        "from google.colab import drive\n",
        "drive.mount('/content/drive')"
      ],
      "metadata": {
        "colab": {
          "base_uri": "https://localhost:8080/"
        },
        "id": "nWgwUxn0aqF1",
        "outputId": "2f114c11-b051-4cc1-b49e-beb2b61ad058"
      },
      "execution_count": null,
      "outputs": [
        {
          "output_type": "stream",
          "name": "stdout",
          "text": [
            "Mounted at /content/drive\n"
          ]
        }
      ]
    },
    {
      "cell_type": "code",
      "source": [
        "savedir = Path(f'/content/drive/MyDrive/QuantumErrorCorr')\n",
        "savedir.mkdir(exist_ok=True)"
      ],
      "metadata": {
        "id": "P4Z2y4ruarmf"
      },
      "execution_count": null,
      "outputs": []
    },
    {
      "cell_type": "code",
      "source": [
        "vagrovers = VAQuantumSearch()\n",
        "#vagrovers.setNumQubits()\n",
        "#vagrovers.setCodeDistances()\n",
        "#vagrovers.uniformize()\n",
        "#vagrovers.errorize()\n",
        "#vagrovers.search()"
      ],
      "metadata": {
        "id": "3VnbkprybWXv"
      },
      "execution_count": null,
      "outputs": []
    },
    {
      "cell_type": "code",
      "source": [
        "experimenter = Experimenter(expName,savedir)"
      ],
      "metadata": {
        "id": "JV8R7X-4eGmJ"
      },
      "execution_count": null,
      "outputs": []
    },
    {
      "cell_type": "code",
      "source": [
        "ctr = 1\n",
        "total_scenarios = len(paramAllocationStrat)*len(paramNumQubits)*len(paramNumRuns)\n",
        "backup_every = len(paramNumQubits)\n",
        "\n",
        "for numQubits, allocationStrat, numRuns in product(paramNumQubits,paramAllocationStrat,paramNumRuns):\n",
        "    vagrovers.setNumQubits(numQubits)\n",
        "    vagrovers.setCodeDistances()\n",
        "    if allocationStrat == 'var':\n",
        "        vagrovers.uniformize(wantWhat = False)\n",
        "    elif allocationStrat == 'uni_ceil':\n",
        "        vagrovers.uniformize(wantWhat = True, isroundup = True)\n",
        "    else:\n",
        "        vagrovers.uniformize(wantWhat = True, isroundup = False)\n",
        "\n",
        "    \n",
        "    print(f'Initializing : {numQubits} : {allocationStrat} : {numRuns}')\n",
        "\n",
        "    ## Error Free Version\n",
        "    durations = []\n",
        "    expValues = []\n",
        "\n",
        "    vagrovers.errorize(False)\n",
        "    for i in tqdm(list(range(numRuns))):\n",
        "        start = time.time()\n",
        "        _,_,results = vagrovers.search()\n",
        "        end = time.time()\n",
        "        durations.append(end-start)\n",
        "        expValues.append(results['expValue'])\n",
        "\n",
        "    experimenter.log(numQubits, numRuns, np.mean(durations),np.std(durations),allocationStrat, 'False',np.mean(expValues),np.std(expValues))\n",
        "\n",
        "    \n",
        "    ## Errorized Version\n",
        "    durations = []\n",
        "    expValues = []\n",
        "\n",
        "    vagrovers.errorize(True)\n",
        "    for i in tqdm(list(range(numRuns))):\n",
        "        start = time.time()\n",
        "        _,_,results = vagrovers.search()\n",
        "        end = time.time()\n",
        "        durations.append(end-start)\n",
        "        expValues.append(results['expValue'])\n",
        "\n",
        "    experimenter.log(numQubits, numRuns, np.mean(durations),np.std(durations),allocationStrat, 'True',np.mean(expValues),np.std(expValues))\n",
        "    \n",
        "    print(f'Finished : {numQubits} : {allocationStrat} : {numRuns}')\n",
        "\n",
        "    ctr+=1\n",
        "    if ctr % backup_every ==0:\n",
        "        experimenter.backup()\n",
        "\n",
        "\n"
      ],
      "metadata": {
        "colab": {
          "base_uri": "https://localhost:8080/"
        },
        "id": "fUy9nprUbDK8",
        "outputId": "aea563db-13f5-4a7c-a7c3-882ef60950e0"
      },
      "execution_count": null,
      "outputs": [
        {
          "metadata": {
            "tags": null
          },
          "name": "stdout",
          "output_type": "stream",
          "text": [
            "Initializing : 2 : uni_ceil : 128\n"
          ]
        },
        {
          "metadata": {
            "tags": null
          },
          "name": "stderr",
          "output_type": "stream",
          "text": [
            "100%|██████████| 128/128 [00:01<00:00, 64.44it/s]\n",
            "100%|██████████| 128/128 [00:06<00:00, 21.11it/s]\n"
          ]
        },
        {
          "metadata": {
            "tags": null
          },
          "name": "stdout",
          "output_type": "stream",
          "text": [
            "Finished : 2 : uni_ceil : 128\n",
            "Initializing : 2 : uni_ceil : 256\n"
          ]
        },
        {
          "metadata": {
            "tags": null
          },
          "name": "stderr",
          "output_type": "stream",
          "text": [
            "100%|██████████| 256/256 [00:03<00:00, 64.22it/s]\n",
            "100%|██████████| 256/256 [00:11<00:00, 21.53it/s]\n"
          ]
        },
        {
          "metadata": {
            "tags": null
          },
          "name": "stdout",
          "output_type": "stream",
          "text": [
            "Finished : 2 : uni_ceil : 256\n",
            "Initializing : 2 : uni_ceil : 512\n"
          ]
        },
        {
          "metadata": {
            "tags": null
          },
          "name": "stderr",
          "output_type": "stream",
          "text": [
            "100%|██████████| 512/512 [00:07<00:00, 64.44it/s]\n",
            "100%|██████████| 512/512 [00:23<00:00, 21.53it/s]\n"
          ]
        },
        {
          "metadata": {
            "tags": null
          },
          "name": "stdout",
          "output_type": "stream",
          "text": [
            "Finished : 2 : uni_ceil : 512\n",
            "Initializing : 2 : uni_floor : 128\n"
          ]
        },
        {
          "metadata": {
            "tags": null
          },
          "name": "stderr",
          "output_type": "stream",
          "text": [
            "100%|██████████| 128/128 [00:01<00:00, 65.51it/s]\n",
            "100%|██████████| 128/128 [00:07<00:00, 17.28it/s]\n"
          ]
        },
        {
          "metadata": {
            "tags": null
          },
          "name": "stdout",
          "output_type": "stream",
          "text": [
            "Finished : 2 : uni_floor : 128\n",
            "Initializing : 2 : uni_floor : 256\n"
          ]
        },
        {
          "metadata": {
            "tags": null
          },
          "name": "stderr",
          "output_type": "stream",
          "text": [
            "100%|██████████| 256/256 [00:03<00:00, 65.98it/s]\n",
            "100%|██████████| 256/256 [00:15<00:00, 16.69it/s]\n"
          ]
        },
        {
          "metadata": {
            "tags": null
          },
          "name": "stdout",
          "output_type": "stream",
          "text": [
            "Finished : 2 : uni_floor : 256\n",
            "Initializing : 2 : uni_floor : 512\n"
          ]
        },
        {
          "metadata": {
            "tags": null
          },
          "name": "stderr",
          "output_type": "stream",
          "text": [
            "100%|██████████| 512/512 [00:07<00:00, 65.57it/s]\n",
            "100%|██████████| 512/512 [00:30<00:00, 16.75it/s]\n"
          ]
        },
        {
          "metadata": {
            "tags": null
          },
          "name": "stdout",
          "output_type": "stream",
          "text": [
            "Finished : 2 : uni_floor : 512\n",
            "Initializing : 2 : var : 128\n"
          ]
        },
        {
          "metadata": {
            "tags": null
          },
          "name": "stderr",
          "output_type": "stream",
          "text": [
            "100%|██████████| 128/128 [00:01<00:00, 64.45it/s]\n",
            "100%|██████████| 128/128 [00:06<00:00, 19.19it/s]\n"
          ]
        },
        {
          "metadata": {
            "tags": null
          },
          "name": "stdout",
          "output_type": "stream",
          "text": [
            "Finished : 2 : var : 128\n",
            "Initializing : 2 : var : 256\n"
          ]
        },
        {
          "metadata": {
            "tags": null
          },
          "name": "stderr",
          "output_type": "stream",
          "text": [
            "100%|██████████| 256/256 [00:03<00:00, 64.76it/s]\n",
            "100%|██████████| 256/256 [00:13<00:00, 18.50it/s]\n"
          ]
        },
        {
          "metadata": {
            "tags": null
          },
          "name": "stdout",
          "output_type": "stream",
          "text": [
            "Finished : 2 : var : 256\n",
            "Initializing : 2 : var : 512\n"
          ]
        },
        {
          "metadata": {
            "tags": null
          },
          "name": "stderr",
          "output_type": "stream",
          "text": [
            "100%|██████████| 512/512 [00:07<00:00, 65.11it/s]\n",
            "100%|██████████| 512/512 [00:26<00:00, 19.19it/s]\n"
          ]
        },
        {
          "metadata": {
            "tags": null
          },
          "name": "stdout",
          "output_type": "stream",
          "text": [
            "Finished : 2 : var : 512\n",
            "Initializing : 4 : uni_ceil : 128\n"
          ]
        },
        {
          "metadata": {
            "tags": null
          },
          "name": "stderr",
          "output_type": "stream",
          "text": [
            "100%|██████████| 128/128 [00:03<00:00, 41.20it/s]\n",
            "100%|██████████| 128/128 [00:14<00:00,  8.83it/s]\n"
          ]
        },
        {
          "metadata": {
            "tags": null
          },
          "name": "stdout",
          "output_type": "stream",
          "text": [
            "Finished : 4 : uni_ceil : 128\n",
            "Initializing : 4 : uni_ceil : 256\n"
          ]
        },
        {
          "metadata": {
            "tags": null
          },
          "name": "stderr",
          "output_type": "stream",
          "text": [
            "100%|██████████| 256/256 [00:06<00:00, 41.08it/s]\n",
            "100%|██████████| 256/256 [00:29<00:00,  8.59it/s]\n"
          ]
        },
        {
          "metadata": {
            "tags": null
          },
          "name": "stdout",
          "output_type": "stream",
          "text": [
            "Finished : 4 : uni_ceil : 256\n",
            "Initializing : 4 : uni_ceil : 512\n"
          ]
        },
        {
          "metadata": {
            "tags": null
          },
          "name": "stderr",
          "output_type": "stream",
          "text": [
            "100%|██████████| 512/512 [00:12<00:00, 40.43it/s]\n",
            "100%|██████████| 512/512 [00:59<00:00,  8.56it/s]\n"
          ]
        },
        {
          "metadata": {
            "tags": null
          },
          "name": "stdout",
          "output_type": "stream",
          "text": [
            "Finished : 4 : uni_ceil : 512\n",
            "Initializing : 4 : uni_floor : 128\n"
          ]
        },
        {
          "metadata": {
            "tags": null
          },
          "name": "stderr",
          "output_type": "stream",
          "text": [
            "100%|██████████| 128/128 [00:03<00:00, 39.70it/s]\n",
            "100%|██████████| 128/128 [00:19<00:00,  6.65it/s]\n"
          ]
        },
        {
          "metadata": {
            "tags": null
          },
          "name": "stdout",
          "output_type": "stream",
          "text": [
            "Finished : 4 : uni_floor : 128\n",
            "Initializing : 4 : uni_floor : 256\n"
          ]
        },
        {
          "metadata": {
            "tags": null
          },
          "name": "stderr",
          "output_type": "stream",
          "text": [
            "100%|██████████| 256/256 [00:06<00:00, 40.83it/s]\n",
            "100%|██████████| 256/256 [00:38<00:00,  6.70it/s]\n"
          ]
        },
        {
          "metadata": {
            "tags": null
          },
          "name": "stdout",
          "output_type": "stream",
          "text": [
            "Finished : 4 : uni_floor : 256\n",
            "Initializing : 4 : uni_floor : 512\n"
          ]
        },
        {
          "metadata": {
            "tags": null
          },
          "name": "stderr",
          "output_type": "stream",
          "text": [
            "100%|██████████| 512/512 [00:12<00:00, 40.60it/s]\n",
            "100%|██████████| 512/512 [01:18<00:00,  6.52it/s]\n"
          ]
        },
        {
          "metadata": {
            "tags": null
          },
          "name": "stdout",
          "output_type": "stream",
          "text": [
            "Finished : 4 : uni_floor : 512\n",
            "Initializing : 4 : var : 128\n"
          ]
        },
        {
          "metadata": {
            "tags": null
          },
          "name": "stderr",
          "output_type": "stream",
          "text": [
            "100%|██████████| 128/128 [00:03<00:00, 40.21it/s]\n",
            "100%|██████████| 128/128 [00:17<00:00,  7.19it/s]\n"
          ]
        },
        {
          "metadata": {
            "tags": null
          },
          "name": "stdout",
          "output_type": "stream",
          "text": [
            "Finished : 4 : var : 128\n",
            "Initializing : 4 : var : 256\n"
          ]
        },
        {
          "metadata": {
            "tags": null
          },
          "name": "stderr",
          "output_type": "stream",
          "text": [
            "100%|██████████| 256/256 [00:06<00:00, 40.72it/s]\n",
            "100%|██████████| 256/256 [00:35<00:00,  7.14it/s]\n"
          ]
        },
        {
          "metadata": {
            "tags": null
          },
          "name": "stdout",
          "output_type": "stream",
          "text": [
            "Finished : 4 : var : 256\n",
            "Initializing : 4 : var : 512\n"
          ]
        },
        {
          "metadata": {
            "tags": null
          },
          "name": "stderr",
          "output_type": "stream",
          "text": [
            "100%|██████████| 512/512 [00:12<00:00, 40.46it/s]\n",
            "100%|██████████| 512/512 [01:11<00:00,  7.21it/s]\n"
          ]
        },
        {
          "metadata": {
            "tags": null
          },
          "name": "stdout",
          "output_type": "stream",
          "text": [
            "Finished : 4 : var : 512\n",
            "Initializing : 6 : uni_ceil : 128\n"
          ]
        },
        {
          "metadata": {
            "tags": null
          },
          "name": "stderr",
          "output_type": "stream",
          "text": [
            "100%|██████████| 128/128 [00:10<00:00, 11.86it/s]\n",
            "100%|██████████| 128/128 [00:35<00:00,  3.62it/s]\n"
          ]
        },
        {
          "metadata": {
            "tags": null
          },
          "name": "stdout",
          "output_type": "stream",
          "text": [
            "Finished : 6 : uni_ceil : 128\n",
            "Initializing : 6 : uni_ceil : 256\n"
          ]
        },
        {
          "metadata": {
            "tags": null
          },
          "name": "stderr",
          "output_type": "stream",
          "text": [
            "100%|██████████| 256/256 [00:21<00:00, 11.91it/s]\n",
            "100%|██████████| 256/256 [01:12<00:00,  3.52it/s]\n"
          ]
        },
        {
          "metadata": {
            "tags": null
          },
          "name": "stdout",
          "output_type": "stream",
          "text": [
            "Finished : 6 : uni_ceil : 256\n",
            "Initializing : 6 : uni_ceil : 512\n"
          ]
        },
        {
          "metadata": {
            "tags": null
          },
          "name": "stderr",
          "output_type": "stream",
          "text": [
            "100%|██████████| 512/512 [00:42<00:00, 12.00it/s]\n",
            "100%|██████████| 512/512 [02:25<00:00,  3.53it/s]\n"
          ]
        },
        {
          "metadata": {
            "tags": null
          },
          "name": "stdout",
          "output_type": "stream",
          "text": [
            "Finished : 6 : uni_ceil : 512\n",
            "Initializing : 6 : uni_floor : 128\n"
          ]
        },
        {
          "metadata": {
            "tags": null
          },
          "name": "stderr",
          "output_type": "stream",
          "text": [
            "100%|██████████| 128/128 [00:10<00:00, 12.17it/s]\n",
            "100%|██████████| 128/128 [00:45<00:00,  2.83it/s]\n"
          ]
        },
        {
          "metadata": {
            "tags": null
          },
          "name": "stdout",
          "output_type": "stream",
          "text": [
            "Finished : 6 : uni_floor : 128\n",
            "Initializing : 6 : uni_floor : 256\n"
          ]
        },
        {
          "metadata": {
            "tags": null
          },
          "name": "stderr",
          "output_type": "stream",
          "text": [
            "100%|██████████| 256/256 [00:21<00:00, 12.01it/s]\n",
            "100%|██████████| 256/256 [01:30<00:00,  2.82it/s]\n"
          ]
        },
        {
          "metadata": {
            "tags": null
          },
          "name": "stdout",
          "output_type": "stream",
          "text": [
            "Finished : 6 : uni_floor : 256\n",
            "Initializing : 6 : uni_floor : 512\n"
          ]
        },
        {
          "metadata": {
            "tags": null
          },
          "name": "stderr",
          "output_type": "stream",
          "text": [
            "100%|██████████| 512/512 [00:42<00:00, 11.93it/s]\n",
            "100%|██████████| 512/512 [03:00<00:00,  2.83it/s]\n"
          ]
        },
        {
          "metadata": {
            "tags": null
          },
          "name": "stdout",
          "output_type": "stream",
          "text": [
            "Finished : 6 : uni_floor : 512\n",
            "Initializing : 6 : var : 128\n"
          ]
        },
        {
          "metadata": {
            "tags": null
          },
          "name": "stderr",
          "output_type": "stream",
          "text": [
            "100%|██████████| 128/128 [00:10<00:00, 11.87it/s]\n",
            "100%|██████████| 128/128 [00:43<00:00,  2.97it/s]\n"
          ]
        },
        {
          "metadata": {
            "tags": null
          },
          "name": "stdout",
          "output_type": "stream",
          "text": [
            "Finished : 6 : var : 128\n",
            "Initializing : 6 : var : 256\n"
          ]
        },
        {
          "metadata": {
            "tags": null
          },
          "name": "stderr",
          "output_type": "stream",
          "text": [
            "100%|██████████| 256/256 [00:21<00:00, 11.94it/s]\n",
            "100%|██████████| 256/256 [01:26<00:00,  2.96it/s]\n"
          ]
        },
        {
          "metadata": {
            "tags": null
          },
          "name": "stdout",
          "output_type": "stream",
          "text": [
            "Finished : 6 : var : 256\n",
            "Initializing : 6 : var : 512\n"
          ]
        },
        {
          "metadata": {
            "tags": null
          },
          "name": "stderr",
          "output_type": "stream",
          "text": [
            "100%|██████████| 512/512 [00:43<00:00, 11.84it/s]\n",
            "100%|██████████| 512/512 [02:52<00:00,  2.97it/s]\n"
          ]
        },
        {
          "metadata": {
            "tags": null
          },
          "name": "stdout",
          "output_type": "stream",
          "text": [
            "Finished : 6 : var : 512\n",
            "Initializing : 8 : uni_ceil : 128\n"
          ]
        },
        {
          "output_type": "stream",
          "name": "stderr",
          "text": [
            "100%|██████████| 128/128 [03:09<00:00,  1.48s/it]\n",
            "100%|██████████| 128/128 [03:44<00:00,  1.75s/it]\n"
          ]
        },
        {
          "output_type": "stream",
          "name": "stdout",
          "text": [
            "Finished : 8 : uni_ceil : 128\n",
            "Initializing : 8 : uni_ceil : 256\n"
          ]
        },
        {
          "output_type": "stream",
          "name": "stderr",
          "text": [
            "100%|██████████| 256/256 [06:14<00:00,  1.46s/it]\n",
            "100%|██████████| 256/256 [07:29<00:00,  1.76s/it]\n"
          ]
        },
        {
          "output_type": "stream",
          "name": "stdout",
          "text": [
            "Finished : 8 : uni_ceil : 256\n",
            "Initializing : 8 : uni_ceil : 512\n"
          ]
        },
        {
          "output_type": "stream",
          "name": "stderr",
          "text": [
            "100%|██████████| 512/512 [12:33<00:00,  1.47s/it]\n",
            "100%|██████████| 512/512 [14:59<00:00,  1.76s/it]\n"
          ]
        },
        {
          "output_type": "stream",
          "name": "stdout",
          "text": [
            "Finished : 8 : uni_ceil : 512\n",
            "Initializing : 8 : uni_floor : 128\n"
          ]
        },
        {
          "output_type": "stream",
          "name": "stderr",
          "text": [
            "100%|██████████| 128/128 [03:07<00:00,  1.46s/it]\n",
            "100%|██████████| 128/128 [04:00<00:00,  1.88s/it]\n"
          ]
        },
        {
          "output_type": "stream",
          "name": "stdout",
          "text": [
            "Finished : 8 : uni_floor : 128\n",
            "Initializing : 8 : uni_floor : 256\n"
          ]
        },
        {
          "output_type": "stream",
          "name": "stderr",
          "text": [
            "100%|██████████| 256/256 [06:16<00:00,  1.47s/it]\n",
            "100%|██████████| 256/256 [07:58<00:00,  1.87s/it]\n"
          ]
        },
        {
          "output_type": "stream",
          "name": "stdout",
          "text": [
            "Finished : 8 : uni_floor : 256\n",
            "Initializing : 8 : uni_floor : 512\n"
          ]
        },
        {
          "output_type": "stream",
          "name": "stderr",
          "text": [
            "100%|██████████| 512/512 [12:33<00:00,  1.47s/it]\n",
            "100%|██████████| 512/512 [16:01<00:00,  1.88s/it]\n"
          ]
        },
        {
          "output_type": "stream",
          "name": "stdout",
          "text": [
            "Finished : 8 : uni_floor : 512\n",
            "Initializing : 8 : var : 128\n"
          ]
        },
        {
          "output_type": "stream",
          "name": "stderr",
          "text": [
            "100%|██████████| 128/128 [03:08<00:00,  1.47s/it]\n",
            "100%|██████████| 128/128 [04:19<00:00,  2.03s/it]\n"
          ]
        },
        {
          "output_type": "stream",
          "name": "stdout",
          "text": [
            "Finished : 8 : var : 128\n",
            "Initializing : 8 : var : 256\n"
          ]
        },
        {
          "output_type": "stream",
          "name": "stderr",
          "text": [
            "100%|██████████| 256/256 [06:15<00:00,  1.47s/it]\n",
            "100%|██████████| 256/256 [08:39<00:00,  2.03s/it]\n"
          ]
        },
        {
          "output_type": "stream",
          "name": "stdout",
          "text": [
            "Finished : 8 : var : 256\n",
            "Initializing : 8 : var : 512\n"
          ]
        },
        {
          "output_type": "stream",
          "name": "stderr",
          "text": [
            "100%|██████████| 512/512 [12:33<00:00,  1.47s/it]\n",
            "100%|██████████| 512/512 [17:31<00:00,  2.05s/it]"
          ]
        },
        {
          "output_type": "stream",
          "name": "stdout",
          "text": [
            "Finished : 8 : var : 512\n"
          ]
        },
        {
          "output_type": "stream",
          "name": "stderr",
          "text": [
            "\n"
          ]
        }
      ]
    },
    {
      "cell_type": "code",
      "source": [],
      "metadata": {
        "id": "NNalK2DHgpsV"
      },
      "execution_count": null,
      "outputs": []
    }
  ]
}